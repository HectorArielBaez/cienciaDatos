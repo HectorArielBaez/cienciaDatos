{
 "cells": [
  {
   "cell_type": "markdown",
   "id": "fd6800ba-8975-4e29-b103-1d9c98d87603",
   "metadata": {},
   "source": [
    "## Ejercicios"
   ]
  },
  {
   "cell_type": "markdown",
   "id": "db41ca4b-0b29-459e-86c4-4053c0b73f11",
   "metadata": {},
   "source": [
    "1) Levantar la base **Customer-Churn-Records.csv** que posee los siguientes campos:  \n",
    "a) RowNumber: Correponde a la posición del registro en la base. No debería tener ningún efecto con el output  \n",
    "b) CustomerId: Es el id del cliente.  \n",
    "c) Surname: Apellido del cliente.  \n",
    "d) CreditScore: Score crediticio del cliente.  \n",
    "e) Geography: Locación del cliente.  \n",
    "f) Gender: Género del cliente.  \n",
    "g) Age: Edad del cliente.  \n",
    "h) Tenure: Número de años que el cliente se encuentra relacionado al banco.  \n",
    "i) Balance: Balance en las cuentas.  \n",
    "j) NumOfProducts: Cantidad de productos que posee el cliente con el banco.  \n",
    "k) HasCrCard: Si el cliente posee o no tarjeta de crédito.  \n",
    "l) IsActiveMember: Si el cliente es un cliente activo, es decir, realiza transacciones con el banco.  \n",
    "m) EstimatedSalary: Salario estimado del cliente.  \n",
    "n) Exited: (Target de la base) Indica si el cliente se dio de baja o no.  \n",
    "o) Complain: Si el cliente tiene quejas o no.  \n",
    "p) Satisfaction Score: Score de satisfacción del cliente.  \n",
    "q) Card Type: Tipo de tarjeta de crédito que posee el cliente.  \n",
    "r) Points Earned: Puntos ganados por los clientes usando su tarjeta de crédito.\n",
    "2) Crear una variable que sea el ratio de la edad de la persona dividido la media de edad de la base.\n",
    "3) Crear un data set que posea la media del salario estimado (EstimatedSalary) por Card Type.\n",
    "4) realizar un join de la base completa con el dataset creado en el punto 3 utilizando como clave el campo Card Type.\n",
    "5) Crear un ratio del salario estimado (EstimatedSalary) por el campo creado en el punto 3. Eliminar del dataset original el campo creado en el punto 3.\n",
    "6) Crear una variable *dummy* con el campo Gender. (Recordar la funcion pd.get_dummies(). Luego eliminar el campo Gender.  \n",
    "7) Crear una variable *dummy* con la variable Card Type. Luego eliminar la columna Card Type.  \n",
    "8) Crear un dataset que sea el agrupado del campo Geography y sume la cantidad de clientes con Complain. Luego el valor absoluto (total de clientes con Complain por pais) se divida por el total de clientes con Complain.\n",
    "9) Realizar un join de la base original con la base creada en el punto 8. Eliminar la columna Geography.\n",
    "10) Crear una variable que muestre los deciles de la variable CreditScore. Luego eliminar la variable CreditScore.\n",
    "11) Crear una variable que marque los buckets cada 10 años de la variable Age. Luego eliminar la variable Age.\n",
    "12) Realizar una división de la base en un 65% para entrenar y un 35% para testear. ¿Se debe eliminar alguna otra variable? ¿Por qué?\n",
    "13) Crear un modelo de Ensemble. En este caso un Random forest con los siguientes hiperparámetros:  \n",
    "    a) 300 árboles  \n",
    "    b) criterio de corte entropía\n",
    "    c) máxima profundidad 3\n",
    "14) Calcular la curva ROC y el área debajo de la curva del modelo generado en el punto 13).\n",
    "15) Crear un modelo de Ensemble, en este caso un Lightgbm. En este caso con todos sus hiperparámetros por default.\n",
    "16) Calcular la curva ROC y el área debajo de la curva. ¿Es mejor o peor que el modelo generado en el punto 13)\n",
    "17) Calcular el recall de los modelos creados en el punto 13 y 15. ¿Qué valor es el mayor?\n",
    "18) Calcular la Precision de los modelos creados en el punto 13 y 15. ¿Qué valor es el mayor?"
   ]
  },
  {
   "cell_type": "markdown",
   "id": "d3045922-2d1e-47c5-8fdd-df55413e7d3d",
   "metadata": {},
   "source": [
    "### Ejercicio 1"
   ]
  },
  {
   "cell_type": "code",
   "execution_count": 1,
   "id": "d36ce698-5259-4534-940e-0453560b5736",
   "metadata": {},
   "outputs": [],
   "source": [
    "import pandas as pd\n",
    "from sklearn.model_selection import train_test_split\n",
    "from sklearn.metrics import confusion_matrix, accuracy_score, recall_score, precision_score, roc_auc_score, roc_curve\n",
    "from sklearn.ensemble import RandomForestClassifier\n",
    "from lightgbm import LGBMClassifier\n",
    "import matplotlib.pyplot as plt\n"
   ]
  },
  {
   "cell_type": "code",
   "execution_count": 2,
   "id": "ed225a80-11b7-423c-a137-95ced2b9fa81",
   "metadata": {},
   "outputs": [],
   "source": [
    "data = pd.read_csv(\"./Data/Customer-Churn-Records.csv\")"
   ]
  },
  {
   "cell_type": "code",
   "execution_count": 3,
   "id": "33b6f2cb-051f-4a63-839e-968b5b4b8feb",
   "metadata": {},
   "outputs": [
    {
     "data": {
      "text/html": [
       "<div>\n",
       "<style scoped>\n",
       "    .dataframe tbody tr th:only-of-type {\n",
       "        vertical-align: middle;\n",
       "    }\n",
       "\n",
       "    .dataframe tbody tr th {\n",
       "        vertical-align: top;\n",
       "    }\n",
       "\n",
       "    .dataframe thead th {\n",
       "        text-align: right;\n",
       "    }\n",
       "</style>\n",
       "<table border=\"1\" class=\"dataframe\">\n",
       "  <thead>\n",
       "    <tr style=\"text-align: right;\">\n",
       "      <th></th>\n",
       "      <th>RowNumber</th>\n",
       "      <th>CustomerId</th>\n",
       "      <th>Surname</th>\n",
       "      <th>CreditScore</th>\n",
       "      <th>Geography</th>\n",
       "      <th>Gender</th>\n",
       "      <th>Age</th>\n",
       "      <th>Tenure</th>\n",
       "      <th>Balance</th>\n",
       "      <th>NumOfProducts</th>\n",
       "      <th>HasCrCard</th>\n",
       "      <th>IsActiveMember</th>\n",
       "      <th>EstimatedSalary</th>\n",
       "      <th>Exited</th>\n",
       "      <th>Complain</th>\n",
       "      <th>Satisfaction Score</th>\n",
       "      <th>Card Type</th>\n",
       "      <th>Point Earned</th>\n",
       "    </tr>\n",
       "  </thead>\n",
       "  <tbody>\n",
       "    <tr>\n",
       "      <th>0</th>\n",
       "      <td>1</td>\n",
       "      <td>15634602</td>\n",
       "      <td>Hargrave</td>\n",
       "      <td>619</td>\n",
       "      <td>France</td>\n",
       "      <td>Female</td>\n",
       "      <td>42</td>\n",
       "      <td>2</td>\n",
       "      <td>0.00</td>\n",
       "      <td>1</td>\n",
       "      <td>1</td>\n",
       "      <td>1</td>\n",
       "      <td>101348.88</td>\n",
       "      <td>1</td>\n",
       "      <td>1</td>\n",
       "      <td>2</td>\n",
       "      <td>DIAMOND</td>\n",
       "      <td>464</td>\n",
       "    </tr>\n",
       "    <tr>\n",
       "      <th>1</th>\n",
       "      <td>2</td>\n",
       "      <td>15647311</td>\n",
       "      <td>Hill</td>\n",
       "      <td>608</td>\n",
       "      <td>Spain</td>\n",
       "      <td>Female</td>\n",
       "      <td>41</td>\n",
       "      <td>1</td>\n",
       "      <td>83807.86</td>\n",
       "      <td>1</td>\n",
       "      <td>0</td>\n",
       "      <td>1</td>\n",
       "      <td>112542.58</td>\n",
       "      <td>0</td>\n",
       "      <td>1</td>\n",
       "      <td>3</td>\n",
       "      <td>DIAMOND</td>\n",
       "      <td>456</td>\n",
       "    </tr>\n",
       "    <tr>\n",
       "      <th>2</th>\n",
       "      <td>3</td>\n",
       "      <td>15619304</td>\n",
       "      <td>Onio</td>\n",
       "      <td>502</td>\n",
       "      <td>France</td>\n",
       "      <td>Female</td>\n",
       "      <td>42</td>\n",
       "      <td>8</td>\n",
       "      <td>159660.80</td>\n",
       "      <td>3</td>\n",
       "      <td>1</td>\n",
       "      <td>0</td>\n",
       "      <td>113931.57</td>\n",
       "      <td>1</td>\n",
       "      <td>1</td>\n",
       "      <td>3</td>\n",
       "      <td>DIAMOND</td>\n",
       "      <td>377</td>\n",
       "    </tr>\n",
       "    <tr>\n",
       "      <th>3</th>\n",
       "      <td>4</td>\n",
       "      <td>15701354</td>\n",
       "      <td>Boni</td>\n",
       "      <td>699</td>\n",
       "      <td>France</td>\n",
       "      <td>Female</td>\n",
       "      <td>39</td>\n",
       "      <td>1</td>\n",
       "      <td>0.00</td>\n",
       "      <td>2</td>\n",
       "      <td>0</td>\n",
       "      <td>0</td>\n",
       "      <td>93826.63</td>\n",
       "      <td>0</td>\n",
       "      <td>0</td>\n",
       "      <td>5</td>\n",
       "      <td>GOLD</td>\n",
       "      <td>350</td>\n",
       "    </tr>\n",
       "    <tr>\n",
       "      <th>4</th>\n",
       "      <td>5</td>\n",
       "      <td>15737888</td>\n",
       "      <td>Mitchell</td>\n",
       "      <td>850</td>\n",
       "      <td>Spain</td>\n",
       "      <td>Female</td>\n",
       "      <td>43</td>\n",
       "      <td>2</td>\n",
       "      <td>125510.82</td>\n",
       "      <td>1</td>\n",
       "      <td>1</td>\n",
       "      <td>1</td>\n",
       "      <td>79084.10</td>\n",
       "      <td>0</td>\n",
       "      <td>0</td>\n",
       "      <td>5</td>\n",
       "      <td>GOLD</td>\n",
       "      <td>425</td>\n",
       "    </tr>\n",
       "  </tbody>\n",
       "</table>\n",
       "</div>"
      ],
      "text/plain": [
       "   RowNumber  CustomerId   Surname  CreditScore Geography  Gender  Age  \\\n",
       "0          1    15634602  Hargrave          619    France  Female   42   \n",
       "1          2    15647311      Hill          608     Spain  Female   41   \n",
       "2          3    15619304      Onio          502    France  Female   42   \n",
       "3          4    15701354      Boni          699    France  Female   39   \n",
       "4          5    15737888  Mitchell          850     Spain  Female   43   \n",
       "\n",
       "   Tenure    Balance  NumOfProducts  HasCrCard  IsActiveMember  \\\n",
       "0       2       0.00              1          1               1   \n",
       "1       1   83807.86              1          0               1   \n",
       "2       8  159660.80              3          1               0   \n",
       "3       1       0.00              2          0               0   \n",
       "4       2  125510.82              1          1               1   \n",
       "\n",
       "   EstimatedSalary  Exited  Complain  Satisfaction Score Card Type  \\\n",
       "0        101348.88       1         1                   2   DIAMOND   \n",
       "1        112542.58       0         1                   3   DIAMOND   \n",
       "2        113931.57       1         1                   3   DIAMOND   \n",
       "3         93826.63       0         0                   5      GOLD   \n",
       "4         79084.10       0         0                   5      GOLD   \n",
       "\n",
       "   Point Earned  \n",
       "0           464  \n",
       "1           456  \n",
       "2           377  \n",
       "3           350  \n",
       "4           425  "
      ]
     },
     "execution_count": 3,
     "metadata": {},
     "output_type": "execute_result"
    }
   ],
   "source": [
    "data.head()"
   ]
  },
  {
   "cell_type": "markdown",
   "id": "22e3bf47-70c7-4385-b68c-6f76d7aae2e0",
   "metadata": {},
   "source": [
    "### Ejercicio 2"
   ]
  },
  {
   "cell_type": "code",
   "execution_count": 4,
   "id": "05488a33-3cf5-49e9-880a-c757b91a598a",
   "metadata": {},
   "outputs": [],
   "source": [
    "data[\"ratioAgeMean\"] = data.Age / data.Age.mean()"
   ]
  },
  {
   "cell_type": "markdown",
   "id": "3ba52ad2-566c-49fe-aa53-6ac67b6875d5",
   "metadata": {},
   "source": [
    "### Ejercicio 3"
   ]
  },
  {
   "cell_type": "code",
   "execution_count": 5,
   "id": "bd173651-4d64-4f3b-920a-268bd9cee5cf",
   "metadata": {},
   "outputs": [],
   "source": [
    "EstimatedSalary = data.groupby(\"Card Type\").agg({\"EstimatedSalary\":\"mean\"}).reset_index().rename(columns={\"EstimatedSalary\": \"MeanEstimatedSalary\"})"
   ]
  },
  {
   "cell_type": "markdown",
   "id": "111d1a87-1ba3-4729-9f4a-722efa18faff",
   "metadata": {},
   "source": [
    "### Ejercicio 4"
   ]
  },
  {
   "cell_type": "code",
   "execution_count": 6,
   "id": "fae411eb-cbf8-462e-9749-3d2712125867",
   "metadata": {},
   "outputs": [],
   "source": [
    "data = pd.merge(data, EstimatedSalary, how=\"inner\", on=\"Card Type\")"
   ]
  },
  {
   "cell_type": "markdown",
   "id": "62af0c13-0e3e-4070-8212-29dcf132c185",
   "metadata": {},
   "source": [
    "### Ejercicio 5"
   ]
  },
  {
   "cell_type": "code",
   "execution_count": 7,
   "id": "8c09f8d9-3060-4357-9b09-8c054ee5d1e8",
   "metadata": {},
   "outputs": [],
   "source": [
    "data[\"RatioEstimatedSalary\"] = data[\"EstimatedSalary\"] / data[\"MeanEstimatedSalary\"]\n",
    "data = data.drop(columns=[\"MeanEstimatedSalary\"])"
   ]
  },
  {
   "cell_type": "markdown",
   "id": "1d0ccf84-348f-4a4d-bb42-5892d1b2f507",
   "metadata": {},
   "source": [
    "### Ejercicio 6"
   ]
  },
  {
   "cell_type": "code",
   "execution_count": 8,
   "id": "f1261c2e-e63d-4f7c-8b70-3198abcfea0a",
   "metadata": {},
   "outputs": [],
   "source": [
    "data = data.join(pd.get_dummies(data.Gender).astype(int))\n",
    "data.drop(columns=[\"Gender\"], inplace=True)"
   ]
  },
  {
   "cell_type": "markdown",
   "id": "f3b2fba3-ec21-42db-9aef-0c05b43d9a84",
   "metadata": {},
   "source": [
    "### Ejercicio 7"
   ]
  },
  {
   "cell_type": "code",
   "execution_count": 9,
   "id": "e67f7113-d004-494c-9248-8e73b963855d",
   "metadata": {},
   "outputs": [],
   "source": [
    "data = data.join(pd.get_dummies(data[\"Card Type\"]).astype(int))\n",
    "data.drop(columns=[\"Card Type\"], inplace=True)"
   ]
  },
  {
   "cell_type": "markdown",
   "id": "13be0c8c-1bc0-4a90-9810-090f3d82ea3f",
   "metadata": {},
   "source": [
    "### Ejercicio 8"
   ]
  },
  {
   "cell_type": "code",
   "execution_count": 10,
   "id": "449246bc-2456-452e-bc4d-fba4a27c2502",
   "metadata": {},
   "outputs": [],
   "source": [
    "sumComplain = data.groupby(\"Geography\").Complain.sum().to_frame(\"SumComplain\").reset_index()\n",
    "sumComplain[\"PcComplain\"] = sumComplain.SumComplain / data.Complain.sum()"
   ]
  },
  {
   "cell_type": "markdown",
   "id": "a4a9fd2f-414e-4526-9f0b-5b3e95253344",
   "metadata": {},
   "source": [
    "### Ejercicio 9"
   ]
  },
  {
   "cell_type": "code",
   "execution_count": 11,
   "id": "6c29d48f-91a0-480c-806f-ef2ef6a2f56a",
   "metadata": {},
   "outputs": [],
   "source": [
    "data = pd.merge(data, sumComplain[[\"Geography\", \"PcComplain\"]], how=\"inner\", on=\"Geography\")\n",
    "data = data.drop(columns = [\"Geography\"])"
   ]
  },
  {
   "cell_type": "markdown",
   "id": "04dd0e04-074f-4ecf-81c8-f2ef11610871",
   "metadata": {},
   "source": [
    "### Ejercicio 10"
   ]
  },
  {
   "cell_type": "code",
   "execution_count": 12,
   "id": "617bbd55-3ef3-4e93-b097-6b003823da4d",
   "metadata": {},
   "outputs": [],
   "source": [
    "data[\"CreditScoreDecile\"] = pd.qcut(data.CreditScore, q=10, labels=False)\n",
    "data = data.drop(columns = [\"CreditScore\"])"
   ]
  },
  {
   "cell_type": "markdown",
   "id": "0431ebb7-a130-4f60-aeb6-5c3f66b0e2c6",
   "metadata": {},
   "source": [
    "### Ejercicio 11"
   ]
  },
  {
   "cell_type": "code",
   "execution_count": 13,
   "id": "26766824-810f-4f8a-a4ba-ff9f8e59abb5",
   "metadata": {},
   "outputs": [],
   "source": [
    "data[\"AgeBuckets\"] = pd.cut(data.Age, [10,20,30,40,50,60,70,80,90,100], labels = False)\n",
    "data = data.drop(columns = [\"Age\"])"
   ]
  },
  {
   "cell_type": "markdown",
   "id": "fcd9866a-2bad-4934-b2a2-adc7daeeff98",
   "metadata": {},
   "source": [
    "### Ejercicio 12"
   ]
  },
  {
   "cell_type": "code",
   "execution_count": 14,
   "id": "fbccde9f-9c5c-48ad-b8e8-7365c85cec31",
   "metadata": {},
   "outputs": [],
   "source": [
    "X = data.drop(columns=[\"RowNumber\", \"CustomerId\", \"Surname\", \"Exited\"])\n",
    "y = data.Exited\n",
    "X_train, X_test, y_train, y_test = train_test_split(X, y, test_size=0.35, random_state=42)"
   ]
  },
  {
   "cell_type": "markdown",
   "id": "b94cd633-1cb9-42ab-bfcc-b7acd49fdc74",
   "metadata": {},
   "source": [
    "### Ejercicio 13"
   ]
  },
  {
   "cell_type": "code",
   "execution_count": 15,
   "id": "6c0feb37-8dc1-4e1d-9738-9b6fa9900142",
   "metadata": {},
   "outputs": [],
   "source": [
    "randomForest = RandomForestClassifier(n_estimators = 300, criterion = \"entropy\", max_depth = 3).fit(X_train, y_train)"
   ]
  },
  {
   "cell_type": "markdown",
   "id": "ec55e6f9-13f9-4478-b6c7-94187e3cfe78",
   "metadata": {},
   "source": [
    "### Ejercicio 14"
   ]
  },
  {
   "cell_type": "code",
   "execution_count": 16,
   "id": "24832515-d3a4-455e-82dd-ce2ab6bef971",
   "metadata": {},
   "outputs": [
    {
     "data": {
      "image/png": "[encoded data removed]",
      "text/plain": [
       "<Figure size 1000x1000 with 1 Axes>"
      ]
     },
     "metadata": {},
     "output_type": "display_data"
    }
   ],
   "source": [
    "y_pred_randomForest = randomForest.predict_proba(X_test)[:,-1]\n",
    "areaBajoCurvaRoc = roc_auc_score(y_test, y_pred_randomForest > 0.5)\n",
    "fpr, tpr, _ = roc_curve(y_test, y_pred_randomForest > 0.5)\n",
    "plt.figure(figsize=(10,10))\n",
    "plt.title(\"Grafico ROC para el modelo\")\n",
    "plt.plot(fpr, tpr)\n",
    "plt.plot([0,1])\n",
    "plt.xlabel('FPR')\n",
    "plt.ylabel('TPR')\n",
    "plt.annotate('Area bajo la curva ROC del modelo: {}'.format(areaBajoCurvaRoc), (-0.02,0.99))\n",
    "plt.show()"
   ]
  },
  {
   "cell_type": "markdown",
   "id": "fb88d0ca-4dea-45ad-8651-b47b5673c561",
   "metadata": {},
   "source": [
    "### Ejercicio 15"
   ]
  },
  {
   "cell_type": "code",
   "execution_count": 17,
   "id": "a48e05b2-645d-415e-9726-50aa56e6c112",
   "metadata": {},
   "outputs": [
    {
     "name": "stdout",
     "output_type": "stream",
     "text": [
      "[LightGBM] [Warning] Found whitespace in feature_names, replace with underlines\n",
      "[LightGBM] [Info] Number of positive: 1349, number of negative: 5151\n",
      "[LightGBM] [Info] Auto-choosing col-wise multi-threading, the overhead of testing was 0.000617 seconds.\n",
      "You can set `force_col_wise=true` to remove the overhead.\n",
      "[LightGBM] [Info] Total Bins 1148\n",
      "[LightGBM] [Info] Number of data points in the train set: 6500, number of used features: 20\n",
      "[LightGBM] [Info] [binary:BoostFromScore]: pavg=0.207538 -> initscore=-1.339827\n",
      "[LightGBM] [Info] Start training from score -1.339827\n",
      "[LightGBM] [Warning] No further splits with positive gain, best gain: -inf\n",
      "[LightGBM] [Warning] No further splits with positive gain, best gain: -inf\n",
      "[LightGBM] [Warning] No further splits with positive gain, best gain: -inf\n",
      "[LightGBM] [Warning] No further splits with positive gain, best gain: -inf\n"
     ]
    }
   ],
   "source": [
    "lgbModel = LGBMClassifier(n_estimators = 100).fit(X_train, y_train)"
   ]
  },
  {
   "cell_type": "markdown",
   "id": "aee8fbdb-25cf-4334-a037-b919f122cf6b",
   "metadata": {},
   "source": [
    "### Ejercicio 16"
   ]
  },
  {
   "cell_type": "code",
   "execution_count": 18,
   "id": "74434b1a-53a7-4e19-9009-997ca253f56f",
   "metadata": {},
   "outputs": [
    {
     "data": {
      "image/png": "[encoded data removed]",
      "text/plain": [
       "<Figure size 1000x1000 with 1 Axes>"
      ]
     },
     "metadata": {},
     "output_type": "display_data"
    }
   ],
   "source": [
    "y_pred_lgbm = lgbModel.predict_proba(X_test)[:,-1]\n",
    "areaBajoCurvaRoc = roc_auc_score(y_test, y_pred_lgbm > 0.5)\n",
    "fpr, tpr, _ = roc_curve(y_test, y_pred_lgbm > 0.5)\n",
    "plt.figure(figsize=(10,10))\n",
    "plt.title(\"Grafico ROC para el modelo\")\n",
    "plt.plot(fpr, tpr)\n",
    "plt.plot([0,1])\n",
    "plt.xlabel('FPR')\n",
    "plt.ylabel('TPR')\n",
    "plt.annotate('Area bajo la curva ROC del modelo: {}'.format(areaBajoCurvaRoc), (-0.02,0.99))\n",
    "plt.show()"
   ]
  },
  {
   "cell_type": "markdown",
   "id": "01d5a861-11da-472f-a309-7512342599a9",
   "metadata": {},
   "source": [
    "### Ejercicio 17"
   ]
  },
  {
   "cell_type": "code",
   "execution_count": 19,
   "id": "4b13510d-66fa-4d55-870c-b5603933c1fa",
   "metadata": {},
   "outputs": [
    {
     "name": "stdout",
     "output_type": "stream",
     "text": [
      "Recall del modelo del punto 13: 1.0\n",
      "Recall del modelo del punto 15: 1.0\n"
     ]
    }
   ],
   "source": [
    "recall_model_1 = recall_score(y_test, y_pred_randomForest > 0.5)\n",
    "recall_model_2 = recall_score(y_test, y_pred_lgbm > 0.5)\n",
    "print(\"Recall del modelo del punto 13: {}\".format(recall_model_1))\n",
    "print(\"Recall del modelo del punto 15: {}\".format(recall_model_2))"
   ]
  },
  {
   "cell_type": "markdown",
   "id": "beb8a48d-94e9-412f-bdeb-289c5f89f643",
   "metadata": {},
   "source": [
    "### Ejercicio 18"
   ]
  },
  {
   "cell_type": "code",
   "execution_count": 20,
   "id": "d5b1e4e8-f3c8-4cee-bed6-0ae2262d0888",
   "metadata": {},
   "outputs": [
    {
     "name": "stdout",
     "output_type": "stream",
     "text": [
      "Precision del modelo del punto 13: 0.9971056439942113\n",
      "Precision del modelo del punto 15: 0.9971056439942113\n"
     ]
    }
   ],
   "source": [
    "precision_model_1 = precision_score(y_test, y_pred_randomForest > 0.5)\n",
    "precision_model_2 = precision_score(y_test, y_pred_lgbm > 0.5)\n",
    "print(\"Precision del modelo del punto 13: {}\".format(precision_model_1))\n",
    "print(\"Precision del modelo del punto 15: {}\".format(precision_model_2))"
   ]
  },
  {
   "cell_type": "markdown",
   "id": "d72acb01-445e-4693-9ae8-8161e53475ea",
   "metadata": {},
   "source": [
    "### Ejercicio 19"
   ]
  },
  {
   "cell_type": "code",
   "execution_count": null,
   "id": "ea6cb1fb-19bb-457a-af25-284ec1ae183c",
   "metadata": {},
   "outputs": [],
   "source": []
  }
 ],
 "metadata": {
  "kernelspec": {
   "display_name": "Python 3 (ipykernel)",
   "language": "python",
   "name": "python3"
  },
  "language_info": {
   "codemirror_mode": {
    "name": "ipython",
    "version": 3
   },
   "file_extension": ".py",
   "mimetype": "text/x-python",
   "name": "python",
   "nbconvert_exporter": "python",
   "pygments_lexer": "ipython3",
   "version": "3.10.11"
  }
 },
 "nbformat": 4,
 "nbformat_minor": 5
}
