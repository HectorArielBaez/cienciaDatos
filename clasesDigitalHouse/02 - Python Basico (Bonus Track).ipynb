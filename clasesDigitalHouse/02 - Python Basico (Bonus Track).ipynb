{
 "cells": [
  {
   "cell_type": "markdown",
   "id": "26768001",
   "metadata": {
    "editable": true,
    "slideshow": {
     "slide_type": ""
    },
    "tags": []
   },
   "source": [
    "<a href=\"https://colab.research.google.com/github/dieguito1331/cienciaDatos/blob/master/posgrado/teoria/02 - Python Basico (Bonus Track).ipynb\" target=\"_parent\"><img src=\"https://colab.research.google.com/assets/colab-badge.svg\" alt=\"Open In Colab\"/></a>"
   ]
  },
  {
   "cell_type": "markdown",
   "id": "5134bad1-72f6-404a-938f-0d3028fabf46",
   "metadata": {
    "id": "5134bad1-72f6-404a-938f-0d3028fabf46"
   },
   "source": [
    "## Utilizacion de librerías en Python ## \n",
    "Para poder utilizar funciones de alguna librería en particular se debe importar la misma utilizando la palabra \"import\"\n",
    "se puede sólo importar un módulo de la librería utilizando la palabra \"from\"\n",
    "\n",
    "Ejemplos:\n",
    "\n",
    "1) import random  \n",
    "2) from datetime import datetime  \n",
    "\n",
    "Si la librería no se encuentra instalada, se puede instalar con el comando: \n",
    "!pip install pandas\n",
    "\n",
    "Si quiero instalar una versión específica de una libería se debe especificar a la hora de instalarla:\n",
    "\n",
    "!pip install selenium==4.0.0\n",
    "\n"
   ]
  },
  {
   "cell_type": "code",
   "execution_count": null,
   "id": "dcfc1863-bbe1-44ba-a500-dfab792deccb",
   "metadata": {
    "editable": true,
    "id": "dcfc1863-bbe1-44ba-a500-dfab792deccb",
    "outputId": "aa4ee1c9-5558-4652-f0a2-7824ec83f08e",
    "slideshow": {
     "slide_type": ""
    },
    "tags": []
   },
   "outputs": [
    {
     "name": "stdout",
     "output_type": "stream",
     "text": [
      "61\n"
     ]
    }
   ],
   "source": [
    "import random\n",
    "numeros = [x for x in range(0,100)]\n",
    "print(random.choice(numeros))\n"
   ]
  },
  {
   "cell_type": "code",
   "execution_count": null,
   "id": "5e49487b-5c87-4da9-9c7c-f7f1715542e7",
   "metadata": {},
   "outputs": [],
   "source": [
    "diccionario = {\n",
    "    \"key1\": {\n",
    "        \"columna1\": \"valor1\",\n",
    "        \"columna\": \"valor2\"\n",
    "    },\n",
    "    \"key2\": {\n",
    "        \"columna1\": \"valor1\"\n",
    "    }\n",
    "    \n",
    "}"
   ]
  },
  {
   "cell_type": "code",
   "execution_count": 10,
   "id": "46ebabdb-4762-454a-8dab-a58a6c83e1ee",
   "metadata": {
    "id": "46ebabdb-4762-454a-8dab-a58a6c83e1ee",
    "outputId": "ee8a0618-317d-4fdf-bc44-44dac75bbab2",
    "tags": []
   },
   "outputs": [
    {
     "name": "stdout",
     "output_type": "stream",
     "text": [
      "HINT: You are attempting to install a package literally named \"requirements.txt\" (which cannot exist). Consider using the '-r' flag to install the packages listed in requirements.txt\n",
      "Note: you may need to restart the kernel to use updated packages.\n"
     ]
    },
    {
     "name": "stderr",
     "output_type": "stream",
     "text": [
      "ERROR: Could not find a version that satisfies the requirement requirements.txt (from versions: none)\n",
      "ERROR: No matching distribution found for requirements.txt\n",
      "\n",
      "[notice] A new release of pip is available: 23.0.1 -> 23.2.1\n",
      "[notice] To update, run: python.exe -m pip install --upgrade pip\n"
     ]
    }
   ],
   "source": [
    "pip install -r requirements.txt"
   ]
  },
  {
   "cell_type": "code",
   "execution_count": null,
   "id": "72f813f8-cf3b-4d3f-b4ab-60d1a5eac551",
   "metadata": {
    "id": "72f813f8-cf3b-4d3f-b4ab-60d1a5eac551",
    "outputId": "67a647d8-e691-4a03-dd5c-b1f04d52e47d"
   },
   "outputs": [
    {
     "name": "stdout",
     "output_type": "stream",
     "text": [
      "0.13436424411240122 0.8474337369372327 0.763774618976614\n",
      "0.9560342718892494 0.9478274870593494 0.05655136772680869\n",
      "0.13436424411240122 0.8474337369372327 0.763774618976614\n"
     ]
    }
   ],
   "source": [
    "from random import seed\n",
    "from random import random\n",
    "#Genero una semilla\n",
    "seed(1)\n",
    "#Genero los numeros random\n",
    "print(random(), random(), random())\n",
    "# Reseteo las semillas\n",
    "seed(2)\n",
    "#Genero los numeros random\n",
    "print(random(), random(), random())\n",
    "\n",
    "#Utilizo nuevamente la 1era semilla\n",
    "seed(1)\n",
    "#Genero los numeros random\n",
    "print(random(), random(), random())"
   ]
  },
  {
   "cell_type": "markdown",
   "id": "5c333c78-22bc-40dc-9287-e05270b015c7",
   "metadata": {
    "id": "5c333c78-22bc-40dc-9287-e05270b015c7"
   },
   "source": [
    "# Estructuras de control\n",
    "\n",
    "## Comparadores lógicos\n",
    "\n",
    "| Operador | Acción |\n",
    "| -------- | ------ |\n",
    "| ==       | igual  |\n",
    "| > =       | mayor o igual |\n",
    "| >        | mayor estricto |\n",
    "| < =      | menor o igual |\n",
    "| <     | menor estricto |\n",
    "| ! = | desigual|\n",
    "| or | o |\n",
    "| and | y |"
   ]
  },
  {
   "cell_type": "code",
   "execution_count": null,
   "id": "6d292590-c95a-4fe1-b559-5b43f7b66879",
   "metadata": {
    "id": "6d292590-c95a-4fe1-b559-5b43f7b66879",
    "outputId": "a1e1db9b-8f67-48e3-91a3-0eb1d8f4f749"
   },
   "outputs": [
    {
     "data": {
      "text/plain": [
       "True"
      ]
     },
     "execution_count": 11,
     "metadata": {},
     "output_type": "execute_result"
    }
   ],
   "source": [
    "1 == 1"
   ]
  },
  {
   "cell_type": "code",
   "execution_count": null,
   "id": "d8d1f9af-6b22-4a1b-94b2-7343e0455905",
   "metadata": {
    "id": "d8d1f9af-6b22-4a1b-94b2-7343e0455905",
    "outputId": "6d1620e4-6177-4e30-8689-df83e34b0da9"
   },
   "outputs": [
    {
     "data": {
      "text/plain": [
       "False"
      ]
     },
     "execution_count": 12,
     "metadata": {},
     "output_type": "execute_result"
    }
   ],
   "source": [
    "4 >= 5"
   ]
  },
  {
   "cell_type": "code",
   "execution_count": null,
   "id": "02beefee-8c15-4c29-970b-49dee61e0d0d",
   "metadata": {
    "id": "02beefee-8c15-4c29-970b-49dee61e0d0d",
    "outputId": "b4e1995c-6d73-4c9d-9c72-b1024c24736a"
   },
   "outputs": [
    {
     "name": "stdout",
     "output_type": "stream",
     "text": [
      "el valor 10 esta en la lista? False\n",
      "el valor 9 esta en la lista? True\n"
     ]
    }
   ],
   "source": [
    "#Para validar si un número está en una lista\n",
    "lista = [1,2,3,4,5,6,7,8,9]\n",
    "print(\"el valor 10 esta en la lista? {}\".format(10 in lista))\n",
    "print(\"el valor 9 esta en la lista? {}\".format(9 in lista))\n"
   ]
  },
  {
   "cell_type": "code",
   "execution_count": 3,
   "id": "3842693d-5ea2-4adc-98d8-a4de148a4a9a",
   "metadata": {
    "id": "3842693d-5ea2-4adc-98d8-a4de148a4a9a",
    "outputId": "3b6871ec-2fd6-420d-e6db-7038b5a877a8"
   },
   "outputs": [
    {
     "ename": "NameError",
     "evalue": "name 'lista' is not defined",
     "output_type": "error",
     "traceback": [
      "\u001b[1;31m---------------------------------------------------------------------------\u001b[0m",
      "\u001b[1;31mNameError\u001b[0m                                 Traceback (most recent call last)",
      "Cell \u001b[1;32mIn[3], line 1\u001b[0m\n\u001b[1;32m----> 1\u001b[0m \u001b[38;5;28mprint\u001b[39m(\u001b[38;5;124m\"\u001b[39m\u001b[38;5;124mel valor 10 no esta en la lista? \u001b[39m\u001b[38;5;132;01m{}\u001b[39;00m\u001b[38;5;124m\"\u001b[39m\u001b[38;5;241m.\u001b[39mformat(\u001b[38;5;241m10\u001b[39m \u001b[38;5;129;01mnot\u001b[39;00m \u001b[38;5;129;01min\u001b[39;00m \u001b[43mlista\u001b[49m))\n",
      "\u001b[1;31mNameError\u001b[0m: name 'lista' is not defined"
     ]
    }
   ],
   "source": [
    "print(\"el valor 10 no esta en la lista? {}\".format(10 not in lista))"
   ]
  },
  {
   "cell_type": "code",
   "execution_count": 6,
   "id": "24ec511f-adcb-4940-9af4-73623ad1dd68",
   "metadata": {
    "id": "24ec511f-adcb-4940-9af4-73623ad1dd68",
    "outputId": "a5c0f08a-2844-4df8-bd4c-ba48fe8935b8"
   },
   "outputs": [
    {
     "name": "stdout",
     "output_type": "stream",
     "text": [
      "modifico la lista 1 y me modifica la lista 2 [1, 2, 3, 4, 5, 6, 7]\n"
     ]
    }
   ],
   "source": [
    "lista_1 = [1,2,3,4,5,6]\n",
    "lista_2 = lista_1\n",
    "lista_1.append(7)\n",
    "print(\"modifico la lista 1 y me modifica la lista 2 {}\".format(lista_2))"
   ]
  },
  {
   "cell_type": "code",
   "execution_count": 7,
   "id": "626e8a4c-6365-498a-89c0-08fc01425ebd",
   "metadata": {
    "id": "626e8a4c-6365-498a-89c0-08fc01425ebd",
    "outputId": "2ae2f7c1-077a-4039-c66b-3b5bcd66382d"
   },
   "outputs": [
    {
     "name": "stdout",
     "output_type": "stream",
     "text": [
      "modifico la lista 1 y NO me modifica la lista 2 [1, 2, 3, 4, 5, 6]\n"
     ]
    }
   ],
   "source": [
    "lista_1 = [1,2,3,4,5,6]\n",
    "lista_2 = lista_1.copy()\n",
    "lista_1.append(7)\n",
    "print(\"modifico la lista 1 y NO me modifica la lista 2 {}\".format(lista_2))"
   ]
  },
  {
   "cell_type": "markdown",
   "id": "0b767818-90ee-4267-8834-29a60f28ceee",
   "metadata": {
    "id": "0b767818-90ee-4267-8834-29a60f28ceee"
   },
   "source": [
    "## Ejercicios Extras ##\n",
    "\n",
    "1) Crear una lista con valores del 2 al 50 en intervalos de 2  \n",
    "2) Dicha lista convertirla en un diccionario, cuyo key sea cada uno de los valores de la lista y el value el cuadrado del valor  \n",
    "3) Agregar al diccionario como key nueva el cuadrado de cada key existente y el value sea al cubo  "
   ]
  },
  {
   "cell_type": "code",
   "execution_count": null,
   "id": "efaf26b5-b299-46b6-8834-9d3994459505",
   "metadata": {
    "editable": true,
    "slideshow": {
     "slide_type": ""
    },
    "tags": []
   },
   "outputs": [],
   "source": []
  }
 ],
 "metadata": {
  "colab": {
   "collapsed_sections": [],
   "name": "02 - Python Basico (Bonus Track).ipynb",
   "provenance": []
  },
  "kernelspec": {
   "display_name": "Python 3 (ipykernel)",
   "language": "python",
   "name": "python3"
  },
  "language_info": {
   "codemirror_mode": {
    "name": "ipython",
    "version": 3
   },
   "file_extension": ".py",
   "mimetype": "text/x-python",
   "name": "python",
   "nbconvert_exporter": "python",
   "pygments_lexer": "ipython3",
   "version": "3.10.11"
  }
 },
 "nbformat": 4,
 "nbformat_minor": 5
}
