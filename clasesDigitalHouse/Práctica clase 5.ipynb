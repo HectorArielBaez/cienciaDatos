{
 "cells": [
  {
   "cell_type": "markdown",
   "id": "894cf6bd-e746-4991-b6bd-102caea33e56",
   "metadata": {},
   "source": [
    "## Ejercicios"
   ]
  },
  {
   "cell_type": "markdown",
   "id": "ca533a16-bdcd-496b-8d41-2b7bd71aafe7",
   "metadata": {},
   "source": [
    "1) Subir la base Titanic a Databricks. \n",
    "2) Crear cluster para poder ejecutar en Databricks.     \n",
    "3) Mostrar las primeras 5 filas en pantalla.   \n",
    "4) ¿Cuántos registros tenemos en la base? ¿Qué comando utilizamos para obtener dicho valor?     \n",
    "5) ¿Cuál es el valor medio de del campo Fare para aquellas personas que no fallecieron? ¿Tiene algún tipo de correlación con la clase de la persona?    \n",
    "6) Renombrar la columna \"PassengerId\" por \"passengerId\"  \n",
    "7) Transformar el campo Embarked. Para los valores que figuran \"C\" asignar el valor Cherbourg, para los valores \"Q\", asignar el valor Queenstown y para el valor \"S\", asignar el valor Southampton\n",
    "8) Eliminar la variable \"Cabin\".   \n",
    "9) Calcular la Mediana de la edad abierto por Puerto de embarcación y por Género.   \n",
    "10) Crear una variable que indique los deciles del campo \"Fare\".   \n",
    "11) Crear una nueva variable que indique los quintiles del campo \"Fare\".   \n",
    "12) Crear una variable que sea autoincremental por edad pero que vaya reiniciándose por cada valor de la variable creada en el punto 10.   \n",
    "13) Realizar exactamente lo mismo que en el punto 12, pero usando una sentencia de SQL.   \n",
    "14) Crear una variable Dummy con la variable Embarked. (Recordar que las variables dummies eran aquellas que tomaban valores 1 o 0 y que se creaban tantas columnas como valores en la variable original existan)   "
   ]
  }
 ],
 "metadata": {
  "kernelspec": {
   "display_name": "Python 3 (ipykernel)",
   "language": "python",
   "name": "python3"
  },
  "language_info": {
   "codemirror_mode": {
    "name": "ipython",
    "version": 3
   },
   "file_extension": ".py",
   "mimetype": "text/x-python",
   "name": "python",
   "nbconvert_exporter": "python",
   "pygments_lexer": "ipython3",
   "version": "3.10.11"
  }
 },
 "nbformat": 4,
 "nbformat_minor": 5
}
