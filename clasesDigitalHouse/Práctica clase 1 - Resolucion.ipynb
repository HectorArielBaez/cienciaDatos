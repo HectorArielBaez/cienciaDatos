{
 "cells": [
  {
   "cell_type": "markdown",
   "metadata": {},
   "source": [
    "<a href=\"https://colab.research.google.com/github/dieguito1331/cienciaDatos/blob/master/posgrado/practica/01 - Ejercicio - Python.ipynb\" target=\"_parent\"><img src=\"https://colab.research.google.com/assets/colab-badge.svg\" alt=\"Open In Colab\"/></a>"
   ]
  },
  {
   "cell_type": "markdown",
   "metadata": {
    "id": "L7zDuRLiLzxS"
   },
   "source": [
    "## Ejercicio ##\n",
    "1) ¿Cuál es la diferencia entre un array y una tupla?. Nombrar un caso de uso para cada uno de estos tipos de datos.\n",
    "\n",
    "2) Tengo el siguiente array:\n",
    "array = [1,2,3,4,5]\n",
    "\n",
    "Quiero imprimir el cuadrado de cada valor por pantalla. Desarrollar el código para realizarlo.\n",
    "\n",
    "3) Tengo el diccionario:\n",
    "diccionario = {\"key1\": 1, \"key2\": \"hola\"}\n",
    "\n",
    "Quiero modificar la clave \"key1\" y asignarle el valor \"chau\", ¿se puede?, si es así desarrollar el código para hacerlo\n",
    "\n",
    "4) Tengo la tupla: tupla = (1,2,3,4)\n",
    "\n",
    "Quiero modificar la 4 posición por un 7. ¿Se puede?. Si es así, desarrollar el código para hacerlo.\n",
    "\n",
    "5) Tengo el siguiente array: array = [1,2,\"hola\",4]. Imprimir en pantalla \"hola\"\n",
    "\n",
    "6) teniendo el array: array = [0,1,2,3,4,5,6,7,8]. Imprimir el cuadrado de elemento del array, mientras el elemento sea menor o igual a 6.\n",
    "\n",
    "7) Imprimir la longitud del array del punto 6)\n",
    "\n",
    "\n",
    "Bonus Track:\n",
    "\n",
    "1) Teniendo el siguiente array: array = [0,1,2,3,4,5,6,7,8,9,10,11,12,13].\n",
    "\n",
    "Imprimir cada Una línea cada 3 elementos, La línea tiene que contener siempre 3 elementos, si no se llega a tener 3 elementos para imprimir la línea, no imprimirla. Un ejemplo de impresión sería \"0, 1, 2\", otra línea debería ser \"3, 4, 5\"\n",
    "\n",
    "\n"
   ]
  },
  {
   "cell_type": "code",
   "execution_count": null,
   "metadata": {},
   "outputs": [],
   "source": [
    "#Ejercicio 1\n",
    "#El array se usa para cuando queremos trabajar con estructuras de datos que son dinámicas, es decir, \n",
    "#pueden modificarse, las tuplas no se modifican, por ende, cuando queremos trabajar con datos que sólo queremos\n",
    "#leer, podemos este tipo de datos"
   ]
  },
  {
   "cell_type": "code",
   "execution_count": 1,
   "metadata": {},
   "outputs": [
    {
     "name": "stdout",
     "output_type": "stream",
     "text": [
      "1\n",
      "4\n",
      "9\n",
      "16\n",
      "25\n"
     ]
    }
   ],
   "source": [
    "#Ejercicio 2\n",
    "#Primera solucion\n",
    "array = [1,2,3,4,5]\n",
    "for x in array:\n",
    "    print(x**2)\n",
    "\n",
    "#Segunda Solucion\n",
    "[x**2 for x in array]"
   ]
  },
  {
   "cell_type": "code",
   "execution_count": 3,
   "metadata": {},
   "outputs": [
    {
     "data": {
      "text/plain": [
       "{'key1': 'chau', 'key2': 'hola'}"
      ]
     },
     "execution_count": 3,
     "metadata": {},
     "output_type": "execute_result"
    }
   ],
   "source": [
    "#Ejercicio 3\n",
    "diccionario = {\"key1\": 1, \"key2\": \"hola\"}\n",
    "diccionario[\"key1\"] = \"chau\"\n",
    "diccionario"
   ]
  },
  {
   "cell_type": "code",
   "execution_count": 4,
   "metadata": {},
   "outputs": [
    {
     "ename": "TypeError",
     "evalue": "'tuple' object does not support item assignment",
     "output_type": "error",
     "traceback": [
      "\u001b[1;31m---------------------------------------------------------------------------\u001b[0m",
      "\u001b[1;31mTypeError\u001b[0m                                 Traceback (most recent call last)",
      "Cell \u001b[1;32mIn[4], line 4\u001b[0m\n\u001b[0;32m      1\u001b[0m \u001b[38;5;66;03m#Ejercicio 4\u001b[39;00m\n\u001b[0;32m      2\u001b[0m \u001b[38;5;66;03m#No se puede modificar una tupla\u001b[39;00m\n\u001b[0;32m      3\u001b[0m tupla \u001b[38;5;241m=\u001b[39m (\u001b[38;5;241m1\u001b[39m,\u001b[38;5;241m2\u001b[39m,\u001b[38;5;241m3\u001b[39m,\u001b[38;5;241m4\u001b[39m)\n\u001b[1;32m----> 4\u001b[0m \u001b[43mtupla\u001b[49m\u001b[43m[\u001b[49m\u001b[38;5;241;43m3\u001b[39;49m\u001b[43m]\u001b[49m \u001b[38;5;241m=\u001b[39m \u001b[38;5;124m\"\u001b[39m\u001b[38;5;124mhola\u001b[39m\u001b[38;5;124m\"\u001b[39m\n",
      "\u001b[1;31mTypeError\u001b[0m: 'tuple' object does not support item assignment"
     ]
    }
   ],
   "source": [
    "#Ejercicio 4\n",
    "#No se puede modificar una tupla\n",
    "tupla = (1,2,3,4)\n",
    "tupla[3] = \"hola\""
   ]
  },
  {
   "cell_type": "code",
   "execution_count": 5,
   "metadata": {},
   "outputs": [
    {
     "name": "stdout",
     "output_type": "stream",
     "text": [
      "hola\n"
     ]
    }
   ],
   "source": [
    "#Ejercicio 5\n",
    "array = [1,2,\"hola\",4]\n",
    "print(array[2])"
   ]
  },
  {
   "cell_type": "code",
   "execution_count": 13,
   "metadata": {},
   "outputs": [
    {
     "name": "stdout",
     "output_type": "stream",
     "text": [
      "0\n",
      "1\n",
      "4\n",
      "9\n",
      "16\n",
      "25\n",
      "36\n",
      "0\n",
      "1\n",
      "4\n",
      "9\n",
      "16\n",
      "25\n",
      "36\n"
     ]
    },
    {
     "data": {
      "text/plain": [
       "[0, 1, 4, 9, 16, 25, 36]"
      ]
     },
     "execution_count": 13,
     "metadata": {},
     "output_type": "execute_result"
    }
   ],
   "source": [
    "#Ejercicio 6\n",
    "#Primera solucion\n",
    "array = [0,1,2,3,4,5,6,7,8]\n",
    "for x in array:\n",
    "    print(x**2)\n",
    "    if x == 6:\n",
    "        break\n",
    "#Segunda solucion\n",
    "i = 0\n",
    "seguir = True\n",
    "while seguir:\n",
    "    print(array[i]**2)\n",
    "    if array[i] == 6:\n",
    "        seguir = False\n",
    "    i+=1\n",
    "#Tercera solucion\n",
    "[x**2 for x in array if x <=6]"
   ]
  },
  {
   "cell_type": "code",
   "execution_count": 14,
   "metadata": {},
   "outputs": [
    {
     "name": "stdout",
     "output_type": "stream",
     "text": [
      "9\n"
     ]
    }
   ],
   "source": [
    "#Ejercicio 7\n",
    "print(len(array))"
   ]
  },
  {
   "cell_type": "code",
   "execution_count": 18,
   "metadata": {},
   "outputs": [
    {
     "name": "stdout",
     "output_type": "stream",
     "text": [
      "0 1 2\n",
      "3 4 5\n",
      "6 7 8\n",
      "9 10 11\n"
     ]
    }
   ],
   "source": [
    "#Bonus Track\n",
    "array = [0,1,2,3,4,5,6,7,8,9,10,11,12,13]\n",
    "i = 0\n",
    "vueltas = 3\n",
    "for x in range(0,(len(array) // vueltas)):\n",
    "    print(array[i], array[i+1], array[i+2])\n",
    "    i += vueltas"
   ]
  },
  {
   "cell_type": "code",
   "execution_count": null,
   "metadata": {},
   "outputs": [],
   "source": []
  }
 ],
 "metadata": {
  "colab": {
   "provenance": [],
   "toc_visible": true
  },
  "kernelspec": {
   "display_name": "Python 3 (ipykernel)",
   "language": "python",
   "name": "python3"
  },
  "language_info": {
   "codemirror_mode": {
    "name": "ipython",
    "version": 3
   },
   "file_extension": ".py",
   "mimetype": "text/x-python",
   "name": "python",
   "nbconvert_exporter": "python",
   "pygments_lexer": "ipython3",
   "version": "3.10.11"
  }
 },
 "nbformat": 4,
 "nbformat_minor": 4
}
