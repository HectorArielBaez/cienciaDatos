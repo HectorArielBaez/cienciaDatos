{
 "cells": [
  {
   "cell_type": "markdown",
   "id": "59f6bef0-6844-4e04-92ed-97b3281af7f5",
   "metadata": {},
   "source": [
    "## Ejercicios"
   ]
  },
  {
   "cell_type": "markdown",
   "id": "64ad0dd1-34fb-42aa-84a1-48d9b200d641",
   "metadata": {},
   "source": [
    "1) Levantar la base de Titanic\n",
    "2) Creo un nuevo dataset en donde pueda obtener la cantidad de pasajeros que subieron por cada uno de los puertos de embarcación\n",
    "3) Realizo un Join entre el DataFrame original (Titanic) y el DataFrame creado en el punto 2. ¿Qué método es más conveniente utilizar?\n",
    "4) ¿Cuántos pasajeros hay cuya edad sea mayor o igual a 15 años? ¿Y bebés menores a 1 año?\n",
    "5) ¿Cuántos pasajeros menores de 5 años de género masculino se Salvaron? (Recordando que 1 en el campo Survived significa que se salvaron)"
   ]
  },
  {
   "cell_type": "code",
   "execution_count": null,
   "id": "e77adc0f-5ae8-4feb-a95b-39f5f51a35ff",
   "metadata": {},
   "outputs": [],
   "source": []
  }
 ],
 "metadata": {
  "kernelspec": {
   "display_name": "Python 3 (ipykernel)",
   "language": "python",
   "name": "python3"
  },
  "language_info": {
   "codemirror_mode": {
    "name": "ipython",
    "version": 3
   },
   "file_extension": ".py",
   "mimetype": "text/x-python",
   "name": "python",
   "nbconvert_exporter": "python",
   "pygments_lexer": "ipython3",
   "version": "3.10.11"
  }
 },
 "nbformat": 4,
 "nbformat_minor": 5
}
