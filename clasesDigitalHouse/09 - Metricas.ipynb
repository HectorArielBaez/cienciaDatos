{
 "cells": [
  {
   "cell_type": "markdown",
   "id": "bfd93c86-bbc1-4c19-a602-ed85a6ab5da5",
   "metadata": {},
   "source": [
    "<a href=\"https://colab.research.google.com/github/dieguito1331/cienciaDatos/blob/master/posgrado/teoria/04 - regresion logistica - Metricas.ipynb\" target=\"_parent\"><img src=\"https://colab.research.google.com/assets/colab-badge.svg\" alt=\"Open In Colab\"/></a>"
   ]
  },
  {
   "cell_type": "markdown",
   "id": "e1d8cad0-515e-4ac9-8584-bab3f2109db9",
   "metadata": {
    "id": "e1d8cad0-515e-4ac9-8584-bab3f2109db9",
    "tags": []
   },
   "source": [
    "## Métricas ##\n",
    "Un punto sumamente importante a la hora de construir un modelo es saber cómo lo vamos a medir. Muchas veces nos preocupamos por la información que vamos a utilizar, la cantidad de variables que vamos a crear, qué algoritmos vamos a utilizar y no prestamos demasiada atención en las métricas que vamos a usar a la hora de evaluar lo que estamos haciendo. Las métricas a utilizar las podemos dividir en dos grandes grupos, métricas propias de la creación de un modelo que nos indicarán que tan efectivo es el mismo y métricas del negocio que nos dirán si la solución propuesta responde al problema planteado por el negocio. Anteriormente comentaba que debemos conocer nuestro problema y nuestros datos para poder definir la métrica, y esto se debe a que podemos tener muchos factores que harán que tomemos decisiones con respecto a cómo medir nuestro trabajo. Un caso de esto es la posibilidad de tener bases muy \"desbalanceadas\" (cuando una base está desbalanceada, tenemos muchos casos de una clase y pocos de las restantes, un ejemplo de este punto son los modelos de attrition, en las que las bajas por mes son mucho menores que las personas que siguen siendo clientes)  \n",
    "\n",
    "![join.JPG](https://www.aprendemachinelearning.com/wp-content/uploads/2019/05/confusion_matix_example.png)\n",
    "\n",
    "\n",
    "**_Matriz de Confusión_**: Es una herramienta que nos permite observar el desempeño un algoritmo que se utiliza en aprendizaje supervisado. Las columnas de la matriz representa el número de predicciones de cada clase, y cada fila representa las observaciones reales de cada una de las clases. Una de las ventajas de las matrices de confusión es que nos facilitan ver si el sistema está confundiendo dos clases.  \n",
    "\n",
    "**_Accuracy - Efectividad_**: La efectividad nos indica a cuantas observaciones le acerté a la hora de predecir su target. En otras palabras es el porcentaje de predicciones correctas sobre el total de observaciones. Como dijimos anteriormente, esta métrica funciona correctamente solamente si las clases están balanceadas, es decir, tienen la misma cantidad de sucesos todos los valores.\n",
    "$$Accuracy = \\frac{truePositive+trueNegative}{totalSamples}$$\n",
    "\n",
    "**_precisión_**: Es el número de casos positivos correctamente predichos dividido la suma de todos los positivos predichos por el modelo. Nos dirá cúan confiable es un modelo en responder si una observación es de una clase determinada\n",
    "$$precision = \\frac{truePositives}{truePositives+falsePositives}$$\n",
    "\n",
    "**_recall_**: Es el número de casos positivos correctamente predichos sobre el total de casos reales positivos (esto incluye los verdaderos positivos y falsos negativos). El recall nos dirá cúan bien puede el modelo detectar a una clase.\n",
    "$$recall = \\frac{truePositives}{truePositives+falseNegatives}$$\n",
    "\n",
    "1) Si tenemos alta precisión y alto recall: podemos indicar que el modelo puede manejar perfectamente a esa clase.\n",
    "2) Si tenemos alta precisión y bajo recall: el modelo no puede detectar muy bien la clase, pero si lo hace es totalmente confiable.\n",
    "3) Si tenemos baja precisión y alto recall: el modelo detecta bien la clase\n",
    "\n",
    "\n",
    "**_Curva ROC_**: La curva ROC (receiver operating characteristic curve) es un gráfico que nos ayuda a visualizar la performance de un modelo de clasificación en todos los umbrales de clasificación. Esta curva se dibuja gracias a dos parámetros:\n",
    "* True Positive Rate (TPR): Es un sinónimo de recall y se define de la siguente forma: \n",
    "$$\\frac {truePositives}{truePositives + falsePositives} $$\n",
    "* False Positive Rates (FPR):\n",
    "$$\\frac{falsePositives}{falsePositives + trueNegatives} $$\n",
    "\n",
    "La curva ROC grafica TPR vs. FPR para los diferentes puntos que podemos tomar como umbrales. Si bajamos el umbral, más items clasificaremos como positivos.\n",
    "\n",
    "\n",
    "![join.JPG](https://developers.google.com/static/machine-learning/crash-course/images/ROCCurve.svg?hl=es-419\n",
    ")\n",
    "Para poder computar los puntos de la curva ROC, una forma es correr un modelo (por ejemplo una regresión logística, n veces, todas con un umbral diferente. No obstante, no es una forma eficiente de hacerlo. Para que podamos correr de forma eficiente esta métrica se utiliza un algoritmo que nos permite generar esta información, es el AUC.\n",
    "\n",
    "\n",
    "**_AUC_**: Área debajo de la curva ROC (Area Under the ROC Curve), mide el área de completa de la curva. Desde (0,0) a (1,1). Integral de la curva\n",
    "\n",
    "\n",
    "![join.JPG](https://developers.google.com/static/machine-learning/crash-course/images/AUC.svg?hl=es-419)\n",
    "\n"
   ]
  },
  {
   "cell_type": "markdown",
   "id": "vTpkmPSJ3Kdt",
   "metadata": {
    "id": "vTpkmPSJ3Kdt"
   },
   "source": [
    "## Regresión logística en Python"
   ]
  },
  {
   "cell_type": "markdown",
   "id": "x0zcNBei3WAR",
   "metadata": {
    "id": "x0zcNBei3WAR"
   },
   "source": [
    "### Importo y configuro lo necesario"
   ]
  },
  {
   "cell_type": "code",
   "execution_count": 1,
   "id": "27645c2c-3371-4f0c-bf86-f047631884af",
   "metadata": {
    "executionInfo": {
     "elapsed": 1044,
     "status": "ok",
     "timestamp": 1660690981718,
     "user": {
      "displayName": "Diego Tauziet",
      "userId": "07110502820616241116"
     },
     "user_tz": 180
    },
    "id": "27645c2c-3371-4f0c-bf86-f047631884af"
   },
   "outputs": [],
   "source": [
    "import pandas as pd\n",
    "import numpy as np\n",
    "pd.set_option('display.max_columns', None)#\n",
    "import warnings\n",
    "warnings.filterwarnings(\"ignore\")\n",
    "\n",
    "from sklearn.model_selection import train_test_split##\n",
    "from sklearn.metrics import confusion_matrix, accuracy_score, recall_score, precision_score, roc_auc_score, roc_curve\n",
    "\n",
    "import matplotlib.pyplot as plt\n",
    "\n",
    "from sklearn import tree\n",
    "import os\n"
   ]
  },
  {
   "cell_type": "markdown",
   "id": "ykT4a75A3sOU",
   "metadata": {
    "id": "ykT4a75A3sOU"
   },
   "source": [
    "### Levanto la base "
   ]
  },
  {
   "cell_type": "code",
   "execution_count": 2,
   "id": "7RNqNb1XgJn7",
   "metadata": {
    "executionInfo": {
     "elapsed": 17844,
     "status": "ok",
     "timestamp": 1660691039486,
     "user": {
      "displayName": "Diego Tauziet",
      "userId": "07110502820616241116"
     },
     "user_tz": 180
    },
    "id": "7RNqNb1XgJn7"
   },
   "outputs": [],
   "source": [
    "data = pd.read_csv(\"./Data/titanic_train.txt\")\n",
    "data = data.drop(columns = [\"Cabin\"])\n",
    "data['titulo']=data['Name'].map(lambda x:x.split(',')[1].split('.')[0].strip())\n",
    "tituloEdad = data[data.Age.isnull() == False].groupby(\"titulo\").agg({\"Age\": \"mean\"}).reset_index()\n",
    "tituloEdad = tituloEdad.rename(columns={\"Age\": \"Age_Mean\"})\n",
    "data = pd.merge(data, tituloEdad, how=\"left\", on=\"titulo\")\n",
    "data[\"Age\"] = np.where((data.Age.isnull()) & (data.titulo != \"Mr\"), data.Age_Mean, data.Age)\n",
    "\n",
    "medianAge = data[data.Age.isnull() == False].groupby([\"Pclass\", \"Embarked\"]).agg( {\"Age\": \"median\"}).reset_index().rename(columns = {\"Age\": \"medianAge\"})\n",
    "data = pd.merge(data, medianAge, how=\"left\", on = [\"Pclass\", \"Embarked\"])\n",
    "data[\"Age\"] = np.where(data.Age.isnull(), data.medianAge, data.Age)\n",
    "data = data.drop(columns = [\"medianAge\", \"Age_Mean\"])\n",
    "\n",
    "data[\"Embarked\"] = np.where(data.Embarked.isnull(), data.Embarked.mode().values[0], data.Embarked)\n",
    "\n",
    "medianAge = data.groupby(\"titulo\").agg( {\"Age\": \"median\"}).reset_index().rename(columns = {\"Age\": \"medianAge\"})\n",
    "data = pd.merge(data, medianAge, how=\"left\", on = \"titulo\")\n",
    "data[\"ageRatioTitle\"] = data.Age / data.medianAge\n",
    "data.drop(columns=[\"medianAge\"], inplace = True)\n",
    "\n",
    "data = data.join(pd.get_dummies(data[\"Embarked\"]).astype(int))\n",
    "data = data.join(pd.get_dummies(data[\"Sex\"]).astype(int))\n",
    "data.drop(columns=[\"Embarked\", \"titulo\", \"Ticket\", \"Name\", \"Sex\"], inplace = True)"
   ]
  },
  {
   "cell_type": "code",
   "execution_count": 3,
   "id": "58a6cbd4-8916-47b6-8ada-b98d99cc51fd",
   "metadata": {
    "colab": {
     "base_uri": "https://localhost:8080/",
     "height": 270
    },
    "executionInfo": {
     "elapsed": 8,
     "status": "ok",
     "timestamp": 1660691039488,
     "user": {
      "displayName": "Diego Tauziet",
      "userId": "07110502820616241116"
     },
     "user_tz": 180
    },
    "id": "58a6cbd4-8916-47b6-8ada-b98d99cc51fd",
    "outputId": "e5c88bd6-a5be-4ae6-e420-be64f640a09a"
   },
   "outputs": [
    {
     "data": {
      "text/html": [
       "<div>\n",
       "<style scoped>\n",
       "    .dataframe tbody tr th:only-of-type {\n",
       "        vertical-align: middle;\n",
       "    }\n",
       "\n",
       "    .dataframe tbody tr th {\n",
       "        vertical-align: top;\n",
       "    }\n",
       "\n",
       "    .dataframe thead th {\n",
       "        text-align: right;\n",
       "    }\n",
       "</style>\n",
       "<table border=\"1\" class=\"dataframe\">\n",
       "  <thead>\n",
       "    <tr style=\"text-align: right;\">\n",
       "      <th></th>\n",
       "      <th>PassengerId</th>\n",
       "      <th>Survived</th>\n",
       "      <th>Pclass</th>\n",
       "      <th>Age</th>\n",
       "      <th>SibSp</th>\n",
       "      <th>Parch</th>\n",
       "      <th>Fare</th>\n",
       "      <th>ageRatioTitle</th>\n",
       "      <th>C</th>\n",
       "      <th>Q</th>\n",
       "      <th>S</th>\n",
       "      <th>female</th>\n",
       "      <th>male</th>\n",
       "    </tr>\n",
       "  </thead>\n",
       "  <tbody>\n",
       "    <tr>\n",
       "      <th>0</th>\n",
       "      <td>1</td>\n",
       "      <td>0</td>\n",
       "      <td>3</td>\n",
       "      <td>22.0</td>\n",
       "      <td>1</td>\n",
       "      <td>0</td>\n",
       "      <td>7.2500</td>\n",
       "      <td>0.785714</td>\n",
       "      <td>0</td>\n",
       "      <td>0</td>\n",
       "      <td>1</td>\n",
       "      <td>0</td>\n",
       "      <td>1</td>\n",
       "    </tr>\n",
       "    <tr>\n",
       "      <th>1</th>\n",
       "      <td>2</td>\n",
       "      <td>1</td>\n",
       "      <td>1</td>\n",
       "      <td>38.0</td>\n",
       "      <td>1</td>\n",
       "      <td>0</td>\n",
       "      <td>71.2833</td>\n",
       "      <td>1.058550</td>\n",
       "      <td>1</td>\n",
       "      <td>0</td>\n",
       "      <td>0</td>\n",
       "      <td>1</td>\n",
       "      <td>0</td>\n",
       "    </tr>\n",
       "    <tr>\n",
       "      <th>2</th>\n",
       "      <td>3</td>\n",
       "      <td>1</td>\n",
       "      <td>3</td>\n",
       "      <td>26.0</td>\n",
       "      <td>0</td>\n",
       "      <td>0</td>\n",
       "      <td>7.9250</td>\n",
       "      <td>1.194086</td>\n",
       "      <td>0</td>\n",
       "      <td>0</td>\n",
       "      <td>1</td>\n",
       "      <td>1</td>\n",
       "      <td>0</td>\n",
       "    </tr>\n",
       "    <tr>\n",
       "      <th>3</th>\n",
       "      <td>4</td>\n",
       "      <td>1</td>\n",
       "      <td>1</td>\n",
       "      <td>35.0</td>\n",
       "      <td>1</td>\n",
       "      <td>0</td>\n",
       "      <td>53.1000</td>\n",
       "      <td>0.974981</td>\n",
       "      <td>0</td>\n",
       "      <td>0</td>\n",
       "      <td>1</td>\n",
       "      <td>1</td>\n",
       "      <td>0</td>\n",
       "    </tr>\n",
       "    <tr>\n",
       "      <th>4</th>\n",
       "      <td>5</td>\n",
       "      <td>0</td>\n",
       "      <td>3</td>\n",
       "      <td>35.0</td>\n",
       "      <td>0</td>\n",
       "      <td>0</td>\n",
       "      <td>8.0500</td>\n",
       "      <td>1.250000</td>\n",
       "      <td>0</td>\n",
       "      <td>0</td>\n",
       "      <td>1</td>\n",
       "      <td>0</td>\n",
       "      <td>1</td>\n",
       "    </tr>\n",
       "  </tbody>\n",
       "</table>\n",
       "</div>"
      ],
      "text/plain": [
       "   PassengerId  Survived  Pclass   Age  SibSp  Parch     Fare  ageRatioTitle  \\\n",
       "0            1         0       3  22.0      1      0   7.2500       0.785714   \n",
       "1            2         1       1  38.0      1      0  71.2833       1.058550   \n",
       "2            3         1       3  26.0      0      0   7.9250       1.194086   \n",
       "3            4         1       1  35.0      1      0  53.1000       0.974981   \n",
       "4            5         0       3  35.0      0      0   8.0500       1.250000   \n",
       "\n",
       "   C  Q  S  female  male  \n",
       "0  0  0  1       0     1  \n",
       "1  1  0  0       1     0  \n",
       "2  0  0  1       1     0  \n",
       "3  0  0  1       1     0  \n",
       "4  0  0  1       0     1  "
      ]
     },
     "execution_count": 3,
     "metadata": {},
     "output_type": "execute_result"
    }
   ],
   "source": [
    "data.head()"
   ]
  },
  {
   "cell_type": "code",
   "execution_count": 8,
   "id": "7a9686ed-31d4-4a24-90ef-067baebbb62f",
   "metadata": {
    "executionInfo": {
     "elapsed": 6884,
     "status": "ok",
     "timestamp": 1660694758381,
     "user": {
      "displayName": "Diego Tauziet",
      "userId": "07110502820616241116"
     },
     "user_tz": 180
    },
    "id": "7a9686ed-31d4-4a24-90ef-067baebbb62f"
   },
   "outputs": [],
   "source": [
    "X = data.drop(columns = [\"PassengerId\", \"Survived\"])\n",
    "y = data.Survived\n",
    "X_train, X_test, y_train, y_test = train_test_split(X, y, test_size=0.30, random_state=25)"
   ]
  },
  {
   "cell_type": "code",
   "execution_count": 9,
   "id": "eb2454cd-d8ef-46a8-be96-e79115dec8b0",
   "metadata": {
    "colab": {
     "base_uri": "https://localhost:8080/"
    },
    "executionInfo": {
     "elapsed": 4,
     "status": "ok",
     "timestamp": 1660691200482,
     "user": {
      "displayName": "Diego Tauziet",
      "userId": "07110502820616241116"
     },
     "user_tz": 180
    },
    "id": "eb2454cd-d8ef-46a8-be96-e79115dec8b0",
    "outputId": "ed6ae20b-08ea-4df9-8a0e-95edf2a67f17"
   },
   "outputs": [
    {
     "name": "stdout",
     "output_type": "stream",
     "text": [
      "Registros de la base de entrenamiento: 623, que es el 0.6992143658810326 de la base total\n",
      "Registros de la base de testeo: 268, que es el 0.30078563411896747 de la base total\n"
     ]
    }
   ],
   "source": [
    "print(\"Registros de la base de entrenamiento: {}, que es el {} de la base total\".format(len(X_train), len(X_train)/len(X)))\n",
    "print(\"Registros de la base de testeo: {}, que es el {} de la base total\".format(len(X_test), len(X_test)/len(X)))"
   ]
  },
  {
   "cell_type": "markdown",
   "id": "gaMy7U8m4U7i",
   "metadata": {
    "id": "gaMy7U8m4U7i"
   },
   "source": [
    "### Entreno el modelo"
   ]
  },
  {
   "cell_type": "code",
   "execution_count": 10,
   "id": "d93ddb96-5480-425b-8122-2abe7044fcd9",
   "metadata": {
    "executionInfo": {
     "elapsed": 90248,
     "status": "ok",
     "timestamp": 1660691404999,
     "user": {
      "displayName": "Diego Tauziet",
      "userId": "07110502820616241116"
     },
     "user_tz": 180
    },
    "id": "d93ddb96-5480-425b-8122-2abe7044fcd9"
   },
   "outputs": [],
   "source": [
    "#Instancio el modelo de regresión logística y utilizo el método fit para entrenar el modelo\n",
    "treeModel = tree.DecisionTreeClassifier().fit(X_train, y_train)"
   ]
  },
  {
   "cell_type": "code",
   "execution_count": 11,
   "id": "7e809ff2-8dc9-4cd4-b663-114437040fdc",
   "metadata": {},
   "outputs": [
    {
     "data": {
      "text/html": [
       "<style>#sk-container-id-1 {color: black;}#sk-container-id-1 pre{padding: 0;}#sk-container-id-1 div.sk-toggleable {background-color: white;}#sk-container-id-1 label.sk-toggleable__label {cursor: pointer;display: block;width: 100%;margin-bottom: 0;padding: 0.3em;box-sizing: border-box;text-align: center;}#sk-container-id-1 label.sk-toggleable__label-arrow:before {content: \"▸\";float: left;margin-right: 0.25em;color: #696969;}#sk-container-id-1 label.sk-toggleable__label-arrow:hover:before {color: black;}#sk-container-id-1 div.sk-estimator:hover label.sk-toggleable__label-arrow:before {color: black;}#sk-container-id-1 div.sk-toggleable__content {max-height: 0;max-width: 0;overflow: hidden;text-align: left;background-color: #f0f8ff;}#sk-container-id-1 div.sk-toggleable__content pre {margin: 0.2em;color: black;border-radius: 0.25em;background-color: #f0f8ff;}#sk-container-id-1 input.sk-toggleable__control:checked~div.sk-toggleable__content {max-height: 200px;max-width: 100%;overflow: auto;}#sk-container-id-1 input.sk-toggleable__control:checked~label.sk-toggleable__label-arrow:before {content: \"▾\";}#sk-container-id-1 div.sk-estimator input.sk-toggleable__control:checked~label.sk-toggleable__label {background-color: #d4ebff;}#sk-container-id-1 div.sk-label input.sk-toggleable__control:checked~label.sk-toggleable__label {background-color: #d4ebff;}#sk-container-id-1 input.sk-hidden--visually {border: 0;clip: rect(1px 1px 1px 1px);clip: rect(1px, 1px, 1px, 1px);height: 1px;margin: -1px;overflow: hidden;padding: 0;position: absolute;width: 1px;}#sk-container-id-1 div.sk-estimator {font-family: monospace;background-color: #f0f8ff;border: 1px dotted black;border-radius: 0.25em;box-sizing: border-box;margin-bottom: 0.5em;}#sk-container-id-1 div.sk-estimator:hover {background-color: #d4ebff;}#sk-container-id-1 div.sk-parallel-item::after {content: \"\";width: 100%;border-bottom: 1px solid gray;flex-grow: 1;}#sk-container-id-1 div.sk-label:hover label.sk-toggleable__label {background-color: #d4ebff;}#sk-container-id-1 div.sk-serial::before {content: \"\";position: absolute;border-left: 1px solid gray;box-sizing: border-box;top: 0;bottom: 0;left: 50%;z-index: 0;}#sk-container-id-1 div.sk-serial {display: flex;flex-direction: column;align-items: center;background-color: white;padding-right: 0.2em;padding-left: 0.2em;position: relative;}#sk-container-id-1 div.sk-item {position: relative;z-index: 1;}#sk-container-id-1 div.sk-parallel {display: flex;align-items: stretch;justify-content: center;background-color: white;position: relative;}#sk-container-id-1 div.sk-item::before, #sk-container-id-1 div.sk-parallel-item::before {content: \"\";position: absolute;border-left: 1px solid gray;box-sizing: border-box;top: 0;bottom: 0;left: 50%;z-index: -1;}#sk-container-id-1 div.sk-parallel-item {display: flex;flex-direction: column;z-index: 1;position: relative;background-color: white;}#sk-container-id-1 div.sk-parallel-item:first-child::after {align-self: flex-end;width: 50%;}#sk-container-id-1 div.sk-parallel-item:last-child::after {align-self: flex-start;width: 50%;}#sk-container-id-1 div.sk-parallel-item:only-child::after {width: 0;}#sk-container-id-1 div.sk-dashed-wrapped {border: 1px dashed gray;margin: 0 0.4em 0.5em 0.4em;box-sizing: border-box;padding-bottom: 0.4em;background-color: white;}#sk-container-id-1 div.sk-label label {font-family: monospace;font-weight: bold;display: inline-block;line-height: 1.2em;}#sk-container-id-1 div.sk-label-container {text-align: center;}#sk-container-id-1 div.sk-container {/* jupyter's `normalize.less` sets `[hidden] { display: none; }` but bootstrap.min.css set `[hidden] { display: none !important; }` so we also need the `!important` here to be able to override the default hidden behavior on the sphinx rendered scikit-learn.org. See: https://github.com/scikit-learn/scikit-learn/issues/21755 */display: inline-block !important;position: relative;}#sk-container-id-1 div.sk-text-repr-fallback {display: none;}</style><div id=\"sk-container-id-1\" class=\"sk-top-container\"><div class=\"sk-text-repr-fallback\"><pre>DecisionTreeClassifier()</pre><b>In a Jupyter environment, please rerun this cell to show the HTML representation or trust the notebook. <br />On GitHub, the HTML representation is unable to render, please try loading this page with nbviewer.org.</b></div><div class=\"sk-container\" hidden><div class=\"sk-item\"><div class=\"sk-estimator sk-toggleable\"><input class=\"sk-toggleable__control sk-hidden--visually\" id=\"sk-estimator-id-1\" type=\"checkbox\" checked><label for=\"sk-estimator-id-1\" class=\"sk-toggleable__label sk-toggleable__label-arrow\">DecisionTreeClassifier</label><div class=\"sk-toggleable__content\"><pre>DecisionTreeClassifier()</pre></div></div></div></div></div>"
      ],
      "text/plain": [
       "DecisionTreeClassifier()"
      ]
     },
     "execution_count": 11,
     "metadata": {},
     "output_type": "execute_result"
    }
   ],
   "source": [
    "treeModel"
   ]
  },
  {
   "cell_type": "markdown",
   "id": "OD1alkW_4Z-I",
   "metadata": {
    "id": "OD1alkW_4Z-I"
   },
   "source": [
    "### Obtengo las probabilidades\n",
    "Con el modelo entrenado, obtengo las probabilidades de éxito (aquello que marqué cómo 1) de la base de test. Para ello uso la función predict_proba() del modelo creado"
   ]
  },
  {
   "cell_type": "code",
   "execution_count": 12,
   "id": "2f1eaaae-3e92-4339-81bc-42651aaa185b",
   "metadata": {
    "executionInfo": {
     "elapsed": 360,
     "status": "ok",
     "timestamp": 1660691594028,
     "user": {
      "displayName": "Diego Tauziet",
      "userId": "07110502820616241116"
     },
     "user_tz": 180
    },
    "id": "2f1eaaae-3e92-4339-81bc-42651aaa185b"
   },
   "outputs": [],
   "source": [
    "#Con esta linea obtengo una matriz en donde cada registro posee dos valores, la probabilidad de que sea el target 0 y \n",
    "#la probabilidad de que el target sea 1, la suma de ambas probabilidades siempre dará 100% (o el valor 1)\n",
    "treeProbs = treeModel.predict_proba(X_test)\n",
    "#De esta forma sólo nos quedamos con la probabilidad de éxito del modelo, o dicho de otra forma, de que el target de 1\n",
    "treeProbs = treeProbs[:,-1]"
   ]
  },
  {
   "cell_type": "markdown",
   "id": "uTc40sLv4RyA",
   "metadata": {
    "id": "uTc40sLv4RyA"
   },
   "source": [
    "## Métricas en Python"
   ]
  },
  {
   "cell_type": "markdown",
   "id": "YBmjHRvj4-ay",
   "metadata": {
    "id": "YBmjHRvj4-ay"
   },
   "source": [
    "### Cálculo el accuracy del modelo [Documentación](https://scikit-learn.org/stable/modules/generated/sklearn.metrics.accuracy_score.html)"
   ]
  },
  {
   "cell_type": "code",
   "execution_count": 14,
   "id": "0d6bd68c-4e3e-4f97-a436-31f822b9b17e",
   "metadata": {
    "colab": {
     "base_uri": "https://localhost:8080/"
    },
    "executionInfo": {
     "elapsed": 938,
     "status": "ok",
     "timestamp": 1660691691013,
     "user": {
      "displayName": "Diego Tauziet",
      "userId": "07110502820616241116"
     },
     "user_tz": 180
    },
    "id": "0d6bd68c-4e3e-4f97-a436-31f822b9b17e",
    "outputId": "a20d6b38-0387-4516-a822-33baeceda271"
   },
   "outputs": [
    {
     "data": {
      "text/plain": [
       "0.8097014925373134"
      ]
     },
     "execution_count": 14,
     "metadata": {},
     "output_type": "execute_result"
    }
   ],
   "source": [
    "#El accuracy del modelo es:\n",
    "accuracy_score(y_test, treeProbs > 0.5)"
   ]
  },
  {
   "cell_type": "markdown",
   "id": "lqI6FgGz5D2l",
   "metadata": {
    "id": "lqI6FgGz5D2l"
   },
   "source": [
    "#### Ejercicio 1\n",
    "En este caso, donde menos del 1% de los casos es target 1 (fallecidos), ¿está métrica es válida?"
   ]
  },
  {
   "cell_type": "markdown",
   "id": "TZdG_SPz3HE9",
   "metadata": {
    "id": "TZdG_SPz3HE9"
   },
   "source": [
    "_Inserte aquí su respuesta_\n",
    "\n",
    "\n"
   ]
  },
  {
   "cell_type": "markdown",
   "id": "3H1kKfSy5a7-",
   "metadata": {
    "id": "3H1kKfSy5a7-"
   },
   "source": [
    "### Cálculo de la matriz de confusión [Documentación](https://scikit-learn.org/stable/modules/generated/sklearn.metrics.confusion_matrix.html)"
   ]
  },
  {
   "cell_type": "code",
   "execution_count": 15,
   "id": "2427b51d-f131-439b-a5e1-a5ce2753d7cf",
   "metadata": {
    "colab": {
     "base_uri": "https://localhost:8080/"
    },
    "executionInfo": {
     "elapsed": 1059,
     "status": "ok",
     "timestamp": 1660691866545,
     "user": {
      "displayName": "Diego Tauziet",
      "userId": "07110502820616241116"
     },
     "user_tz": 180
    },
    "id": "2427b51d-f131-439b-a5e1-a5ce2753d7cf",
    "outputId": "ac1e0d48-e439-4b82-8126-2bf1b8977efc"
   },
   "outputs": [
    {
     "data": {
      "text/plain": [
       "array([[137,  28],\n",
       "       [ 23,  80]], dtype=int64)"
      ]
     },
     "execution_count": 15,
     "metadata": {},
     "output_type": "execute_result"
    }
   ],
   "source": [
    "confusion_matrix(y_test, treeProbs > 0.5)"
   ]
  },
  {
   "cell_type": "code",
   "execution_count": 21,
   "id": "54483d5d-5fee-4ab7-820c-c52d46c043cd",
   "metadata": {},
   "outputs": [
    {
     "data": {
      "text/plain": [
       "array([[137,  28],\n",
       "       [ 23,  80]], dtype=int64)"
      ]
     },
     "execution_count": 21,
     "metadata": {},
     "output_type": "execute_result"
    }
   ],
   "source": [
    "confusion_matrix(y_test, treeProbs > 0.8)"
   ]
  },
  {
   "cell_type": "markdown",
   "id": "eG_ogl2M53PW",
   "metadata": {
    "id": "eG_ogl2M53PW"
   },
   "source": [
    "#### Ejercicio 2\n",
    "Si modificamos el umbral, y lo ubicamos las cerca del 0 (por ejemplo en 0.1), ¿Qué pasará?"
   ]
  },
  {
   "cell_type": "markdown",
   "id": "P22K3t7E6KmB",
   "metadata": {
    "id": "P22K3t7E6KmB"
   },
   "source": [
    "_Inserte aquí su respuesta_"
   ]
  },
  {
   "cell_type": "markdown",
   "id": "1U7oi4UR6K70",
   "metadata": {
    "id": "1U7oi4UR6K70"
   },
   "source": [
    "### Cálculo del recall [Documentación](https://scikit-learn.org/stable/modules/generated/sklearn.metrics.recall_score.html)"
   ]
  },
  {
   "cell_type": "code",
   "execution_count": 27,
   "id": "3fb4ec38-7f18-444f-9e94-73bf5df8e99c",
   "metadata": {
    "colab": {
     "base_uri": "https://localhost:8080/"
    },
    "executionInfo": {
     "elapsed": 1647,
     "status": "ok",
     "timestamp": 1660691773170,
     "user": {
      "displayName": "Diego Tauziet",
      "userId": "07110502820616241116"
     },
     "user_tz": 180
    },
    "id": "3fb4ec38-7f18-444f-9e94-73bf5df8e99c",
    "outputId": "3a31b4e6-582b-43a4-cd8b-db51fd860664"
   },
   "outputs": [
    {
     "data": {
      "text/plain": [
       "0.7864077669902912"
      ]
     },
     "execution_count": 27,
     "metadata": {},
     "output_type": "execute_result"
    }
   ],
   "source": [
    "recall_score(y_test, treeProbs > 0.1)"
   ]
  },
  {
   "cell_type": "markdown",
   "id": "EMGznDec9AYe",
   "metadata": {
    "id": "EMGznDec9AYe"
   },
   "source": [
    "### Cálculo de la precisión [Documentación](https://scikit-learn.org/stable/modules/generated/sklearn.metrics.precision_score.html)"
   ]
  },
  {
   "cell_type": "code",
   "execution_count": 34,
   "id": "a2e6022d-1eb9-425a-9bc9-2cd080cf5100",
   "metadata": {
    "colab": {
     "base_uri": "https://localhost:8080/"
    },
    "executionInfo": {
     "elapsed": 1175,
     "status": "ok",
     "timestamp": 1660691776907,
     "user": {
      "displayName": "Diego Tauziet",
      "userId": "07110502820616241116"
     },
     "user_tz": 180
    },
    "id": "a2e6022d-1eb9-425a-9bc9-2cd080cf5100",
    "outputId": "7a84d146-31ff-4e55-f1bb-69911cd98e8e"
   },
   "outputs": [
    {
     "data": {
      "text/plain": [
       "0.7407407407407407"
      ]
     },
     "execution_count": 34,
     "metadata": {},
     "output_type": "execute_result"
    }
   ],
   "source": [
    "precision_score(y_test, treeProbs > 0.5)"
   ]
  },
  {
   "cell_type": "markdown",
   "id": "lmOIgufr9m-s",
   "metadata": {
    "id": "lmOIgufr9m-s"
   },
   "source": [
    "### Construcción de la curva ROC"
   ]
  },
  {
   "cell_type": "markdown",
   "id": "etlSaRM2-xuh",
   "metadata": {
    "id": "etlSaRM2-xuh"
   },
   "source": [
    "AUC [Documentación](https://scikit-learn.org/stable/modules/generated/sklearn.metrics.roc_auc_score.html)  \n",
    "ROC [Documentación](https://scikit-learn.org/stable/modules/generated/sklearn.metrics.roc_curve.html)"
   ]
  },
  {
   "cell_type": "code",
   "execution_count": 35,
   "id": "25d8a752-b304-41c8-8795-b1e8ac0a99c9",
   "metadata": {
    "colab": {
     "base_uri": "https://localhost:8080/",
     "height": 621
    },
    "executionInfo": {
     "elapsed": 3416,
     "status": "ok",
     "timestamp": 1660691785894,
     "user": {
      "displayName": "Diego Tauziet",
      "userId": "07110502820616241116"
     },
     "user_tz": 180
    },
    "id": "25d8a752-b304-41c8-8795-b1e8ac0a99c9",
    "outputId": "54864250-4435-4100-f56b-65f04e9e034e"
   },
   "outputs": [
    {
     "data": {
      "image/png": "[encoded data removed]",
      "text/plain": [
       "<Figure size 1000x1000 with 1 Axes>"
      ]
     },
     "metadata": {},
     "output_type": "display_data"
    }
   ],
   "source": [
    "#De esta forma graficamos la curva ROC y calculamos el área debajo de la curva\n",
    "areaBajoCurvaRoc = roc_auc_score(y_test, treeProbs)\n",
    "fpr, tpr, _ = roc_curve(y_test, treeProbs)\n",
    "plt.figure(figsize=(10,10))\n",
    "plt.title(\"Grafico ROC para el modelo\")\n",
    "plt.plot(fpr, tpr)\n",
    "plt.plot([0,1])\n",
    "plt.xlabel('FPR')\n",
    "plt.ylabel('TPR')\n",
    "plt.annotate('Area bajo la curva ROC del modelo: {}'.format(areaBajoCurvaRoc), (-0.02,0.99))\n",
    "plt.show()"
   ]
  },
  {
   "cell_type": "code",
   "execution_count": null,
   "id": "02306bde-bcf0-4c16-8751-fcfb5c6df3fa",
   "metadata": {},
   "outputs": [],
   "source": []
  }
 ],
 "metadata": {
  "colab": {
   "collapsed_sections": [],
   "name": "06.01 - regresion logistica.ipynb",
   "provenance": [],
   "toc_visible": true
  },
  "kernelspec": {
   "display_name": "Python 3 (ipykernel)",
   "language": "python",
   "name": "python3"
  },
  "language_info": {
   "codemirror_mode": {
    "name": "ipython",
    "version": 3
   },
   "file_extension": ".py",
   "mimetype": "text/x-python",
   "name": "python",
   "nbconvert_exporter": "python",
   "pygments_lexer": "ipython3",
   "version": "3.10.11"
  }
 },
 "nbformat": 4,
 "nbformat_minor": 5
}
