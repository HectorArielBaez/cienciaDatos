{
 "cells": [
  {
   "cell_type": "markdown",
   "id": "703e51cb",
   "metadata": {},
   "source": [
    "<a href=\"https://colab.research.google.com/github/dieguito1331/cienciaDatos/blob/master/posgrado/teoria/01 - Python basico.ipynb.ipynb\" target=\"_parent\"><img src=\"https://colab.research.google.com/assets/colab-badge.svg\" alt=\"Open In Colab\"/></a>"
   ]
  },
  {
   "cell_type": "markdown",
   "id": "d52c8e5c-16e6-4a2a-bddb-3a943db47892",
   "metadata": {
    "id": "d52c8e5c-16e6-4a2a-bddb-3a943db47892",
    "tags": []
   },
   "source": [
    "## Introducción a Python ##\n",
    "\n",
    "Python es un lenguaje interpretado de tipos dinámicos. A diferencia de R, por ejemplo, es un lenguaje de uso general y su capacidad para las ciencias de datos no viene dada desde sus librerías internas sino por los módulos externos. Se puede usar en forma imperativa u orientada a objetos; teóricamente también dentro del paradigma de programación funcional, pero con ciertas limitaciones (existen límites para ejecución recursiva, por ejemplo).\n",
    "\n",
    "Desde lo estético, Python reemplaza las llaves por indentaciones, cosa que fuerza un código más leíble. Por lo demás, existe toda una \"filosofía\" de lo que es \"pythonico\", en términos de prolijidad, funcionalidad y belleza del código.\n",
    "\n",
    "Otra característica de este lenguaje es que es un lenguaje Interpretado, esto significa que que no debe ser compilado. En resumidas cuentas, se cuenta con un intérprete que va a traduciendo el código escrito en un código máquina a medida que corre el mismo.\n",
    "\n",
    "### Historia de Python ###\n",
    "El inicio de este lenguaje se remonta en los años '90. Creado en el centro de investigación Holandés Centrum Wiskunde & Informatica (CWI) por Guido Van Rossum. Se basó en otro lenguaje de su autoría denominado \"ABC\" y la idea que implementó fue hacer un lenguaje sencillo de aprender y lo más parecido al lenguaje humano.\n"
   ]
  },
  {
   "cell_type": "markdown",
   "id": "716b2d2d-7fcc-476b-8a8d-1124fed0c450",
   "metadata": {
    "id": "716b2d2d-7fcc-476b-8a8d-1124fed0c450"
   },
   "source": [
    "## Diversos Usos de Python ##\n",
    "\n",
    "Cómo mencionamos anteriormente, Python es utilizado para una amplia gama de desarrollos (Desde desarrollos web, hasta Machine Learning, pasando por desarrollos de Inteligencia Artificial, etc)\n",
    "\n",
    "Python sumado a las tecnologías que nos entregan los diferentes proveedores en la nube, se pueden realizar implementaciones mucho más facil que con tecnologías más antiguas.\n",
    "\n",
    "\n"
   ]
  },
  {
   "cell_type": "code",
   "execution_count": 2,
   "id": "01e8ea70-8f4a-4dd5-89a4-bcac84f87df9",
   "metadata": {},
   "outputs": [],
   "source": []
  },
  {
   "cell_type": "code",
   "execution_count": 3,
   "id": "87f180ef-cfe2-437c-a035-6b17400eaff6",
   "metadata": {
    "id": "87f180ef-cfe2-437c-a035-6b17400eaff6",
    "outputId": "248b86c1-b275-4789-84ad-4124476cd144"
   },
   "outputs": [
    {
     "name": "stdout",
     "output_type": "stream",
     "text": [
      "esto es una cadena\n"
     ]
    }
   ],
   "source": [
    "# Manejo de cadenas\n",
    "string = \"esto es una cadena\"\n",
    "print(string)"
   ]
  },
  {
   "cell_type": "code",
   "execution_count": 4,
   "id": "1a27e9ab-4600-4317-8044-745262810280",
   "metadata": {},
   "outputs": [
    {
     "data": {
      "text/plain": [
       "str"
      ]
     },
     "execution_count": 4,
     "metadata": {},
     "output_type": "execute_result"
    }
   ],
   "source": [
    "type(string)"
   ]
  },
  {
   "cell_type": "code",
   "execution_count": 5,
   "id": "e05c7b3d-542c-4c6d-9b4e-0493ed08fc2f",
   "metadata": {},
   "outputs": [
    {
     "name": "stdout",
     "output_type": "stream",
     "text": [
      "4\n"
     ]
    }
   ],
   "source": [
    "string = 4\n",
    "print(string)"
   ]
  },
  {
   "cell_type": "code",
   "execution_count": 6,
   "id": "452afe27-afc0-4eba-8583-b1201bae46ec",
   "metadata": {
    "editable": true,
    "slideshow": {
     "slide_type": ""
    },
    "tags": []
   },
   "outputs": [
    {
     "data": {
      "text/plain": [
       "int"
      ]
     },
     "execution_count": 6,
     "metadata": {},
     "output_type": "execute_result"
    }
   ],
   "source": [
    "type(string)"
   ]
  },
  {
   "cell_type": "code",
   "execution_count": 244,
   "id": "0c3f9866-9971-4a0e-87ba-31be85027036",
   "metadata": {
    "id": "0c3f9866-9971-4a0e-87ba-31be85027036",
    "outputId": "6361cfea-e153-4dc6-8ff2-7bf50ae330ec"
   },
   "outputs": [
    {
     "data": {
      "text/plain": [
       "'C:\\\\Users\\\\Diego\\\\Documents\\\\proyectos\\\\clases'"
      ]
     },
     "execution_count": 244,
     "metadata": {},
     "output_type": "execute_result"
    }
   ],
   "source": [
    "import os\n",
    "os.getcwd()\n",
    "\n",
    "\"./\""
   ]
  },
  {
   "cell_type": "code",
   "execution_count": 8,
   "id": "c0d01ff3-2ecb-4243-9f24-d8ca2fc01357",
   "metadata": {},
   "outputs": [
    {
     "data": {
      "text/plain": [
       "['.env',\n",
       " '.ipynb_checkpoints',\n",
       " '01 - Python basico.ipynb',\n",
       " '02 - Python Basico (Bonus Track).ipynb',\n",
       " 'Práctica clase 1.ipynb']"
      ]
     },
     "execution_count": 8,
     "metadata": {},
     "output_type": "execute_result"
    }
   ],
   "source": [
    "os.listdir(\"./\")"
   ]
  },
  {
   "cell_type": "code",
   "execution_count": null,
   "id": "9cad60ea-152e-4995-ad0a-a921c9342811",
   "metadata": {
    "id": "9cad60ea-152e-4995-ad0a-a921c9342811",
    "outputId": "1a1f0f95-23b5-44fe-85e9-420a9050d68a"
   },
   "outputs": [
    {
     "data": {
      "text/plain": [
       "str"
      ]
     },
     "execution_count": 4,
     "metadata": {},
     "output_type": "execute_result"
    }
   ],
   "source": [
    "type(string)"
   ]
  },
  {
   "cell_type": "code",
   "execution_count": null,
   "id": "f3edcaef-9bbc-470b-9ef2-7dd4ec7c84e8",
   "metadata": {
    "id": "f3edcaef-9bbc-470b-9ef2-7dd4ec7c84e8",
    "outputId": "11682728-05ce-470d-af5a-51ee313ea217"
   },
   "outputs": [
    {
     "name": "stdout",
     "output_type": "stream",
     "text": [
      "5\n"
     ]
    }
   ],
   "source": [
    "string = 5\n",
    "print(string)"
   ]
  },
  {
   "cell_type": "code",
   "execution_count": null,
   "id": "91c165eb-7d36-4bfd-ac05-baa37b67d24d",
   "metadata": {
    "id": "91c165eb-7d36-4bfd-ac05-baa37b67d24d",
    "outputId": "d827c40c-bc84-4b8a-c794-50848e36072f"
   },
   "outputs": [
    {
     "data": {
      "text/plain": [
       "int"
      ]
     },
     "execution_count": 6,
     "metadata": {},
     "output_type": "execute_result"
    }
   ],
   "source": [
    "type(string)"
   ]
  },
  {
   "cell_type": "code",
   "execution_count": 12,
   "id": "ddb9b3bb-655a-41dc-a145-c14da91807d2",
   "metadata": {
    "id": "ddb9b3bb-655a-41dc-a145-c14da91807d2",
    "outputId": "5776b57f-9228-4887-c88b-90fbc956f0de"
   },
   "outputs": [
    {
     "name": "stdout",
     "output_type": "stream",
     "text": [
      "3\n"
     ]
    }
   ],
   "source": [
    "string_1 = 2\n",
    "string_2 = 1\n",
    "print(string_1+string_2)"
   ]
  },
  {
   "cell_type": "code",
   "execution_count": 14,
   "id": "b8235fd9-5df8-47a3-95dd-337dcb0de367",
   "metadata": {
    "id": "b8235fd9-5df8-47a3-95dd-337dcb0de367",
    "outputId": "0e533de4-d33f-4c8f-a92d-ffd01fbbd8cc"
   },
   "outputs": [
    {
     "data": {
      "text/plain": [
       "'dinamicaesto es una cadena dinamica'"
      ]
     },
     "execution_count": 14,
     "metadata": {},
     "output_type": "execute_result"
    }
   ],
   "source": [
    "\"{}{}\".format(string_1,string_2)"
   ]
  },
  {
   "cell_type": "code",
   "execution_count": 15,
   "id": "82c122ce-3d99-4833-a062-6d3f0a7f66c4",
   "metadata": {
    "id": "82c122ce-3d99-4833-a062-6d3f0a7f66c4",
    "outputId": "383d4eea-f084-450f-d96e-59967150285c"
   },
   "outputs": [
    {
     "name": "stdout",
     "output_type": "stream",
     "text": [
      "esto es una cadena dinamica2\n"
     ]
    }
   ],
   "source": [
    "#Armo un string \"dinamico\", se verá la utilidad cuando trabajemos con ciclos o loops.\n",
    "string_1 = \"dinamica2\"\n",
    "string_2 = \"esto es una cadena {}\".format(string_1)\n",
    "print(string_2)"
   ]
  },
  {
   "cell_type": "code",
   "execution_count": 32,
   "id": "4e2d181a-933f-4ee4-a0cd-386108c0b168",
   "metadata": {},
   "outputs": [
    {
     "data": {
      "text/plain": [
       "'xls'"
      ]
     },
     "execution_count": 32,
     "metadata": {},
     "output_type": "execute_result"
    }
   ],
   "source": [
    "archivo = \"prueba.xls\"\n",
    "archivo[-3:]"
   ]
  },
  {
   "cell_type": "code",
   "execution_count": 25,
   "id": "091dc902-02cb-4244-97b6-8a53c07cbcc5",
   "metadata": {},
   "outputs": [
    {
     "data": {
      "text/plain": [
       "'Sus'"
      ]
     },
     "execution_count": 25,
     "metadata": {},
     "output_type": "execute_result"
    }
   ],
   "source": [
    "string = \"hola Susana\"\n",
    "#Mostrar solo la palabra susana\n",
    "\n",
    "\n",
    "\n",
    "\n"
   ]
  },
  {
   "cell_type": "code",
   "execution_count": 37,
   "id": "198fab89-6e17-4fbe-beb9-0aa78230e57d",
   "metadata": {},
   "outputs": [
    {
     "ename": "ValueError",
     "evalue": "invalid literal for int() with base 10: 'hola'",
     "output_type": "error",
     "traceback": [
      "\u001b[1;31m---------------------------------------------------------------------------\u001b[0m",
      "\u001b[1;31mValueError\u001b[0m                                Traceback (most recent call last)",
      "Cell \u001b[1;32mIn[37], line 1\u001b[0m\n\u001b[1;32m----> 1\u001b[0m \u001b[38;5;28;43mint\u001b[39;49m\u001b[43m(\u001b[49m\u001b[38;5;124;43m'\u001b[39;49m\u001b[38;5;124;43mhola\u001b[39;49m\u001b[38;5;124;43m'\u001b[39;49m\u001b[43m)\u001b[49m\n",
      "\u001b[1;31mValueError\u001b[0m: invalid literal for int() with base 10: 'hola'"
     ]
    }
   ],
   "source": []
  },
  {
   "cell_type": "code",
   "execution_count": 38,
   "id": "776b660d-27a0-4957-858d-c018eda0a867",
   "metadata": {
    "id": "776b660d-27a0-4957-858d-c018eda0a867",
    "outputId": "f491231c-5e7f-429a-91bc-a4df46c96302"
   },
   "outputs": [
    {
     "name": "stdout",
     "output_type": "stream",
     "text": [
      "la posicion donde se encuentra el 2 es 19\n",
      "Esta es otra forma de concatenar strings o hacer strings dinamicos con el indice 19\n",
      "2 dentro de una \n"
     ]
    }
   ],
   "source": [
    "lista_nombres = \"Busqueda del valor 2 dentro de una cadena\"\n",
    "#Calculamos e imprimimos el indice en donde arranca el caracter (podemos buscar una palabra también, mostrará la posición en donde comienza dicha palabra)\n",
    "indice_comienzo = lista_nombres.find(\"2\")\n",
    "print(\"la posicion donde se encuentra el 2 es \"+str(indice_comienzo))\n",
    "print(\"Esta es otra forma de concatenar strings o hacer strings dinamicos con el indice {}\".format(str(indice_comienzo)))\n",
    "\n",
    "#imprimimos la parte de la cadena desde que comienza el caracter 2\n",
    "print(lista_nombres[indice_comienzo:-6])"
   ]
  },
  {
   "cell_type": "code",
   "execution_count": 45,
   "id": "8f23e2ec-c983-4dbc-a9c7-4c2d9c4f059d",
   "metadata": {
    "editable": true,
    "slideshow": {
     "slide_type": ""
    },
    "tags": []
   },
   "outputs": [
    {
     "data": {
      "text/plain": [
       "'chau'"
      ]
     },
     "execution_count": 45,
     "metadata": {},
     "output_type": "execute_result"
    }
   ],
   "source": [
    "a = 'hola'\n",
    "a \n",
    "\n",
    "b=\"chau\"\n",
    "b"
   ]
  },
  {
   "cell_type": "markdown",
   "id": "287001cd-dcbb-48b9-a8a6-a92b62240737",
   "metadata": {
    "id": "287001cd-dcbb-48b9-a8a6-a92b62240737"
   },
   "source": [
    "## Ejercicio ##\n",
    "Concatenar dos cadenas que nos indiquen la palabras \"Hello\" y \"World\" (dejar un espacio entre cada palabra)"
   ]
  },
  {
   "cell_type": "code",
   "execution_count": 46,
   "id": "a9279b83-b67e-4819-a6fe-b87d24d47ed2",
   "metadata": {
    "id": "a9279b83-b67e-4819-a6fe-b87d24d47ed2",
    "outputId": "f0835c51-63fc-45fe-db9b-97ba73791cf7"
   },
   "outputs": [
    {
     "name": "stdout",
     "output_type": "stream",
     "text": [
      "hello world\n",
      "hello world\n",
      "hello world\n",
      "hello world\n"
     ]
    }
   ],
   "source": [
    "string_1 = \"hello\"\n",
    "string_2 = \" \"\n",
    "string_3 = \"world\"\n",
    "\n",
    "print(string_1+string_2+string_3)\n",
    "\n",
    "\n",
    "\n",
    "string_1 = \"hello \"\n",
    "string_2 = \"world\"\n",
    "print(string_1+string_2)\n",
    "\n",
    "\n",
    "string_1 = \"hello\"\n",
    "string_2 = \" world\"\n",
    "\n",
    "print(string_1+string_2)\n",
    "\n",
    "\n",
    "string_1 = \"hello\"\n",
    "string_2 = \"world\"\n",
    "\n",
    "\n",
    "print(\"{} {}\".format(string_1,string_2))\n",
    "\n"
   ]
  },
  {
   "cell_type": "code",
   "execution_count": 53,
   "id": "fcce8174-e442-4875-a982-0684bd6ff1c9",
   "metadata": {},
   "outputs": [
    {
     "ename": "TypeError",
     "evalue": "must be str, not int",
     "output_type": "error",
     "traceback": [
      "\u001b[1;31m---------------------------------------------------------------------------\u001b[0m",
      "\u001b[1;31mTypeError\u001b[0m                                 Traceback (most recent call last)",
      "Cell \u001b[1;32mIn[53], line 1\u001b[0m\n\u001b[1;32m----> 1\u001b[0m \u001b[43mlista_nombres\u001b[49m\u001b[38;5;241;43m.\u001b[39;49m\u001b[43mfind\u001b[49m\u001b[43m(\u001b[49m\u001b[38;5;241;43m2\u001b[39;49m\u001b[43m)\u001b[49m\n",
      "\u001b[1;31mTypeError\u001b[0m: must be str, not int"
     ]
    }
   ],
   "source": [
    "lista_nombres.find(2)"
   ]
  },
  {
   "cell_type": "code",
   "execution_count": 61,
   "id": "5e8460fd-153a-4f21-a68d-e1de9041c52c",
   "metadata": {
    "id": "5e8460fd-153a-4f21-a68d-e1de9041c52c",
    "outputId": "375a3106-898f-484a-8c89-c5394c72485b"
   },
   "outputs": [
    {
     "name": "stdout",
     "output_type": "stream",
     "text": [
      "no devuelve ningun indice ya que arranca a evaluar a partir de la posicion 22, 19\n"
     ]
    }
   ],
   "source": [
    "lista_nombres = \"Busqueda del valor 2 dentro de una cadena 2\"\n",
    "indice_comienzo = lista_nombres.find(\"2\", lista_nombres.find(\"2\")+1)\n",
    "print(\"no devuelve ningun indice ya que arranca a evaluar a partir de la posicion 22, {}\".format(indice_comienzo))\n",
    "#Veremos que no devuelve nada"
   ]
  },
  {
   "cell_type": "code",
   "execution_count": 71,
   "id": "0fb8aa0a-ff67-467c-9fb2-9a22d3d35cb3",
   "metadata": {
    "id": "0fb8aa0a-ff67-467c-9fb2-9a22d3d35cb3",
    "outputId": "f4c45715-2116-4767-9357-422bf1bb9d7b"
   },
   "outputs": [
    {
     "name": "stdout",
     "output_type": "stream",
     "text": [
      "primera posición en la cadena: 1\n",
      "ultima posición en la cadena: 4\n"
     ]
    }
   ],
   "source": [
    "#buscar diferentes posiciones dentro de un string\n",
    "string = \"1, 2, 3, 4\"\n",
    "#Primera posicion\n",
    "print(\"primera posición en la cadena: {}\".format(string[0]))\n",
    "#Ultima posición\n",
    "print(\"ultima posición en la cadena: {}\".format(string[-1]))"
   ]
  },
  {
   "cell_type": "code",
   "execution_count": 72,
   "id": "04946914-8a93-4143-888a-f8b54939c425",
   "metadata": {
    "id": "04946914-8a93-4143-888a-f8b54939c425",
    "outputId": "54c1af17-9e7e-4127-84cb-df89e8992d03"
   },
   "outputs": [
    {
     "data": {
      "text/plain": [
       "'4'"
      ]
     },
     "execution_count": 72,
     "metadata": {},
     "output_type": "execute_result"
    }
   ],
   "source": [
    "string[len(string)-1]\n",
    "string[-1]"
   ]
  },
  {
   "cell_type": "code",
   "execution_count": 75,
   "id": "a437de4e-6340-4b75-8e18-90de22b2ffc3",
   "metadata": {
    "id": "a437de4e-6340-4b75-8e18-90de22b2ffc3",
    "outputId": "3e8e1398-464a-43de-cc7a-26f7a4464545"
   },
   "outputs": [
    {
     "name": "stdout",
     "output_type": "stream",
     "text": [
      "Nuestra empresa es Santander Rio\n",
      "Nuestra empresa es Santander\n"
     ]
    }
   ],
   "source": [
    "#Reemplazar parte de un string \n",
    "empresa = \"Nuestra empresa es Santander Rio\"\n",
    "print(empresa)\n",
    "empresa = empresa.replace(\"Santander Rio\", \"Santander\")\n",
    "print(empresa)"
   ]
  },
  {
   "cell_type": "code",
   "execution_count": 76,
   "id": "dbff2d48-41f9-4914-9adf-368b8bf4ad9d",
   "metadata": {
    "id": "dbff2d48-41f9-4914-9adf-368b8bf4ad9d",
    "outputId": "1ded1ab6-ef7e-4842-fbd5-3cb18fbb3a07"
   },
   "outputs": [
    {
     "data": {
      "text/plain": [
       "'ESTO ES UNA PRUEBA'"
      ]
     },
     "execution_count": 76,
     "metadata": {},
     "output_type": "execute_result"
    }
   ],
   "source": [
    "string = \"1STO 1S UNA PRUEBA\"\n",
    "string.replace(\"1\", \"E\")"
   ]
  },
  {
   "cell_type": "code",
   "execution_count": 97,
   "id": "69a922ad-5d2e-408c-9b7e-e8f02878778a",
   "metadata": {},
   "outputs": [
    {
     "data": {
      "text/plain": [
       "4"
      ]
     },
     "execution_count": 97,
     "metadata": {},
     "output_type": "execute_result"
    }
   ],
   "source": [
    "string[string.find(\"1\")+1:].find(\"1\")"
   ]
  },
  {
   "cell_type": "code",
   "execution_count": 90,
   "id": "bb9b015d-a8c0-413a-afd1-89eb61235534",
   "metadata": {
    "id": "bb9b015d-a8c0-413a-afd1-89eb61235534",
    "outputId": "42f70efa-7f35-43ef-9592-7b8f3afe128c"
   },
   "outputs": [
    {
     "data": {
      "text/plain": [
       "'1STO ES UNA PRUEBA'"
      ]
     },
     "execution_count": 90,
     "metadata": {},
     "output_type": "execute_result"
    }
   ],
   "source": [
    "string = \"1STO 1S UNA PRUEBA\"\n",
    "string[0:string.find(\"1\")+1]+ string[string.find(\"1\")+1:].replace(\"1\", \"E\")\n"
   ]
  },
  {
   "cell_type": "code",
   "execution_count": 78,
   "id": "c3a1c102-3cc2-4b2f-967f-685d96deaffc",
   "metadata": {
    "id": "c3a1c102-3cc2-4b2f-967f-685d96deaffc",
    "outputId": "54460fda-28ac-46a6-c511-1f83e026c62f"
   },
   "outputs": [
    {
     "data": {
      "text/plain": [
       "' 1S UNA PRUEBA'"
      ]
     },
     "execution_count": 78,
     "metadata": {},
     "output_type": "execute_result"
    }
   ],
   "source": [
    "string = \"1STO 1S UNA PRUEBA\"\n",
    "#string[-6:]\n",
    "\n",
    "string[4:]\n",
    "\n"
   ]
  },
  {
   "cell_type": "code",
   "execution_count": 100,
   "id": "a011cd3b-9322-4b2f-89a9-bc7e6c309834",
   "metadata": {
    "id": "a011cd3b-9322-4b2f-89a9-bc7e6c309834",
    "outputId": "c81b6fb6-f047-4556-c152-86987ebd73fb"
   },
   "outputs": [
    {
     "name": "stdout",
     "output_type": "stream",
     "text": [
      "********************************************************************************************************************************************************************************************************\n",
      "*   Se me pegaron muchos espacios    *\n",
      "*Se me pegaron muchos espacios*\n",
      "*   Se me pegaron muchos espacios*\n",
      "*Se me pegaron muchos espacios    *\n",
      "****************************************************************************************************\n"
     ]
    }
   ],
   "source": [
    "#Quito espacios de izquierda y de derecha\n",
    "\n",
    "print(\"**\"*100)\n",
    "\n",
    "string = \"   Se me pegaron muchos espacios    \"\n",
    "print(\"*\"+string+\"*\")\n",
    "print(\"*\"+string.strip()+\"*\")\n",
    "\n",
    "#sólo quito espacios a derecha\n",
    "print(\"*\"+string.rstrip()+\"*\")\n",
    "\n",
    "#sólo quito espacios a iquierda\n",
    "print(\"*\"+string.lstrip()+\"*\")\n",
    "\n",
    "print(\"*\"*100)\n"
   ]
  },
  {
   "cell_type": "code",
   "execution_count": 101,
   "id": "6ae11a4f-73e0-4753-b798-6ca541077ddc",
   "metadata": {
    "id": "6ae11a4f-73e0-4753-b798-6ca541077ddc",
    "outputId": "b1126be2-51bf-4c0b-95f8-d40cae97d159"
   },
   "outputs": [
    {
     "name": "stdout",
     "output_type": "stream",
     "text": [
      "BIENVENIDOS AL CURSO DE MACHINE LEARNING\n",
      "bienvenidos al curso de machine learning\n"
     ]
    }
   ],
   "source": [
    "#Convierto todo en mayusculas o en minusculas\n",
    "string = \"Bienvenidos al curso de Machine Learning\"\n",
    "print(string.upper())\n",
    "print(string.lower())"
   ]
  },
  {
   "cell_type": "code",
   "execution_count": 102,
   "id": "1a2f2503-f6df-4264-b933-7a3769a70f54",
   "metadata": {
    "id": "1a2f2503-f6df-4264-b933-7a3769a70f54",
    "outputId": "c6450cd6-55e5-4e2a-8ba0-06d16d35641a"
   },
   "outputs": [
    {
     "name": "stdout",
     "output_type": "stream",
     "text": [
      "Bienvenidos al curso de machine learning\n"
     ]
    }
   ],
   "source": [
    "#Convierto todo en \"Capital Letter\"\n",
    "string = \"bienvenidos al curso de machine learning\"\n",
    "print(string.capitalize())\n"
   ]
  },
  {
   "cell_type": "code",
   "execution_count": 104,
   "id": "ae20abd6-a832-45c7-81af-8c8fa4bf3b1b",
   "metadata": {
    "id": "ae20abd6-a832-45c7-81af-8c8fa4bf3b1b",
    "outputId": "21bf077e-b93b-4ddb-c0ca-7950e56bac7c"
   },
   "outputs": [
    {
     "name": "stdout",
     "output_type": "stream",
     "text": [
      "2030\n",
      "****\n",
      "50\n"
     ]
    }
   ],
   "source": [
    "string_1 = \"20\"\n",
    "string_2 = \"30\"\n",
    "\n",
    "#Concateno las cadenas\n",
    "print(string_1+string_2)\n",
    "\n",
    "print(\"*\"*4)\n",
    "#sumo las cadenas\n",
    "print(int(string_1)+int(string_2))"
   ]
  },
  {
   "cell_type": "markdown",
   "id": "975f37a9-08df-44d8-98de-81d4431c82d2",
   "metadata": {
    "id": "975f37a9-08df-44d8-98de-81d4431c82d2"
   },
   "source": [
    "## Ejercicio ##\n",
    "Teniendo una cadena con el siguiente formato: \"5 y 2\", restar el primer caracter y el último de la cadena e imprimir el resultado"
   ]
  },
  {
   "cell_type": "code",
   "execution_count": null,
   "id": "5f97f400-4ff5-49ca-ad4c-23ddacf9334c",
   "metadata": {
    "id": "5f97f400-4ff5-49ca-ad4c-23ddacf9334c",
    "outputId": "b3859957-0386-4193-a553-65771acda6ad"
   },
   "outputs": [
    {
     "name": "stdout",
     "output_type": "stream",
     "text": [
      "3\n"
     ]
    }
   ],
   "source": [
    "string = \"5 y 2\"\n",
    "\n",
    "a = int(string[0])-int(string[-1])\n",
    "print(a)"
   ]
  },
  {
   "cell_type": "markdown",
   "id": "a27d676c-72e0-44eb-9110-2ed405f15c21",
   "metadata": {
    "id": "a27d676c-72e0-44eb-9110-2ed405f15c21"
   },
   "source": [
    "## Operaciones Básicas\n",
    "\n",
    "\n",
    "| Operador  | Operación                        | Ejemplo         |\n",
    "| --------- | -------------------------------- | --------------- |\n",
    "| **        | Potencia                         | `2 ** 3 = 8`    |\n",
    "| %         | Resto                            | `22 % 8 = 6`    |\n",
    "| //        | División de enteros              | `22 // 8 = 2`   |\n",
    "| /         | Division normal                  | `22 / 8 = 2.75` |\n",
    "| *         | Multiplicación                   | `3 * 3 = 9`     |\n",
    "| -         | Resta                            | `5 - 2 = 3`     |\n",
    "| +         | Suma         | `2 + 2 = 4`     |"
   ]
  },
  {
   "cell_type": "code",
   "execution_count": 106,
   "id": "1b08490d-e12a-444d-a926-f3a531288a87",
   "metadata": {
    "id": "1b08490d-e12a-444d-a926-f3a531288a87",
    "outputId": "6fe3d4a2-140e-439e-fac4-4a7d4c01a873"
   },
   "outputs": [
    {
     "name": "stdout",
     "output_type": "stream",
     "text": [
      "2.75\n",
      "2\n",
      "6\n"
     ]
    }
   ],
   "source": [
    "operacion = 22/8\n",
    "print(operacion)\n",
    "\n",
    "operacion = 22//8\n",
    "print(operacion)\n",
    "\n",
    "\n",
    "operacion = 22%8\n",
    "print(operacion)\n",
    "\n"
   ]
  },
  {
   "cell_type": "code",
   "execution_count": 107,
   "id": "a766e1ce-c0ae-47bb-b139-4d52a3ea1a95",
   "metadata": {
    "id": "a766e1ce-c0ae-47bb-b139-4d52a3ea1a95",
    "outputId": "93f97b94-f7ca-4a00-ae5a-b6a2d0b05efa"
   },
   "outputs": [
    {
     "name": "stdout",
     "output_type": "stream",
     "text": [
      "12\n",
      "3\n"
     ]
    }
   ],
   "source": [
    "operaciones = 51\n",
    "bach = 4\n",
    "\n",
    "print(operaciones //4)\n",
    "\n",
    "operaciones_fuera = operaciones % 4\n",
    "print(operaciones_fuera)"
   ]
  },
  {
   "cell_type": "code",
   "execution_count": 108,
   "id": "dfa01644-1aad-48a2-9bad-4945b773ae49",
   "metadata": {},
   "outputs": [
    {
     "data": {
      "text/plain": [
       "2"
      ]
     },
     "execution_count": 108,
     "metadata": {},
     "output_type": "execute_result"
    }
   ],
   "source": [
    "a = True\n",
    "b = True\n",
    "\n",
    "a+b"
   ]
  },
  {
   "cell_type": "code",
   "execution_count": null,
   "id": "0fbb83ec-01d1-4c5d-87ce-aecf5aa6836c",
   "metadata": {},
   "outputs": [],
   "source": []
  },
  {
   "cell_type": "markdown",
   "id": "d68fe4a8-1996-4dc1-9bc0-3e991842111a",
   "metadata": {
    "id": "d68fe4a8-1996-4dc1-9bc0-3e991842111a"
   },
   "source": [
    "## Tipos Básicos de Datos\n",
    "\n",
    "\n",
    "| Tipo  | Ejemplo\n",
    "| --------- | --------------- |\n",
    "| Lógico    | True, False| \n",
    "| Entero    | 1, 2, 3| \n",
    "| Decimal o punto flotante         | 1.25, -120.25 | \n",
    "| Cadena o texto        | Hola, Adiós              | \n",
    "| Lista        | \\[1, 2, 3\\]              |\n",
    "| Diccionario        | {\"llave\": \"valor\"}              |"
   ]
  },
  {
   "cell_type": "code",
   "execution_count": null,
   "id": "be99d8b7-3840-43cd-a5be-3157b8cc1b11",
   "metadata": {
    "id": "be99d8b7-3840-43cd-a5be-3157b8cc1b11",
    "outputId": "fe7bc623-9d2f-4d93-c1cd-b2a7084249b0"
   },
   "outputs": [
    {
     "name": "stdout",
     "output_type": "stream",
     "text": [
      "Variable            Type    Data/Info\n",
      "-------------------------------------\n",
      "a                   int     3\n",
      "bach                int     4\n",
      "empresa             str     Nuestra empresa es IUDU\n",
      "indice_comienzo     int     -1\n",
      "lista_nombres       str     Busqueda del valor 2 dentro de una cadena\n",
      "operacion           int     6\n",
      "operaciones         int     51\n",
      "operaciones_fuera   int     3\n",
      "string              str     5 y 2\n",
      "string_1            str     20\n",
      "string_2            str     30\n",
      "string_3            str     world\n"
     ]
    }
   ],
   "source": [
    "#Con esta sentencia vemos todas las variables que están creadas en el entorno\n",
    "%whos"
   ]
  },
  {
   "cell_type": "code",
   "execution_count": 109,
   "id": "2ec52a41-b7fb-48b5-bdd8-ae78092ef9c8",
   "metadata": {
    "id": "2ec52a41-b7fb-48b5-bdd8-ae78092ef9c8"
   },
   "outputs": [],
   "source": [
    "from datetime import datetime\n",
    "import time\n"
   ]
  },
  {
   "cell_type": "code",
   "execution_count": 11,
   "id": "4e8fe186-fb8e-4444-9e7c-9d19a32b8993",
   "metadata": {},
   "outputs": [
    {
     "data": {
      "text/plain": [
       "6"
      ]
     },
     "execution_count": 11,
     "metadata": {},
     "output_type": "execute_result"
    }
   ],
   "source": [
    "array2 = [0,1,2,3,4,5,6]\n",
    "array2[len(array2)-1]"
   ]
  },
  {
   "cell_type": "code",
   "execution_count": 12,
   "id": "2188cd0f-5372-49d8-8f39-6aadcbf453a0",
   "metadata": {},
   "outputs": [
    {
     "data": {
      "text/plain": [
       "6"
      ]
     },
     "execution_count": 12,
     "metadata": {},
     "output_type": "execute_result"
    }
   ],
   "source": [
    "array2[-1]"
   ]
  },
  {
   "cell_type": "code",
   "execution_count": 16,
   "id": "e6613079-9b39-45c6-98d1-d5f6eb5ab30a",
   "metadata": {},
   "outputs": [
    {
     "data": {
      "text/plain": [
       "5"
      ]
     },
     "execution_count": 16,
     "metadata": {},
     "output_type": "execute_result"
    }
   ],
   "source": [
    "array2[5]"
   ]
  },
  {
   "cell_type": "code",
   "execution_count": 110,
   "id": "a52aa3fe-c712-4874-9777-4dba74af5fc3",
   "metadata": {},
   "outputs": [
    {
     "data": {
      "text/plain": [
       "datetime.datetime(2023, 8, 16, 15, 55, 5, 229591)"
      ]
     },
     "execution_count": 110,
     "metadata": {},
     "output_type": "execute_result"
    }
   ],
   "source": [
    "datetime.today()"
   ]
  },
  {
   "cell_type": "code",
   "execution_count": null,
   "id": "b451544d-a68f-4e3c-8184-2dfffbd84e14",
   "metadata": {
    "id": "b451544d-a68f-4e3c-8184-2dfffbd84e14",
    "outputId": "d8c3334b-8e7f-4ea1-a875-737f20e188bb"
   },
   "outputs": [
    {
     "data": {
      "text/plain": [
       "10"
      ]
     },
     "execution_count": 88,
     "metadata": {},
     "output_type": "execute_result"
    }
   ],
   "source": [
    "datetime.today().year\n",
    "\n",
    "\n",
    "datetime.today().month\n",
    "datetime.today().second\n",
    "datetime.today().hour"
   ]
  },
  {
   "cell_type": "code",
   "execution_count": null,
   "id": "e23836dd-bc64-4714-9b90-3d946c130d04",
   "metadata": {
    "id": "e23836dd-bc64-4714-9b90-3d946c130d04",
    "outputId": "7c9a1d66-0e88-433b-c142-44b79976e32e"
   },
   "outputs": [
    {
     "name": "stdout",
     "output_type": "stream",
     "text": [
      "0:00:10.001076\n"
     ]
    }
   ],
   "source": [
    "a = datetime.today()\n",
    "time.sleep(10)\n",
    "print(datetime.today()-a)\n"
   ]
  },
  {
   "cell_type": "code",
   "execution_count": 140,
   "id": "8f34b108-49f2-4ff9-91a2-2f620ff83418",
   "metadata": {},
   "outputs": [
    {
     "data": {
      "text/plain": [
       "30"
      ]
     },
     "execution_count": 140,
     "metadata": {},
     "output_type": "execute_result"
    }
   ],
   "source": [
    "len(string)"
   ]
  },
  {
   "cell_type": "code",
   "execution_count": 139,
   "id": "f883c920-2e9e-4eb8-8659-6d671ad8571a",
   "metadata": {
    "scrolled": true
   },
   "outputs": [
    {
     "data": {
      "text/plain": [
       "27"
      ]
     },
     "execution_count": 139,
     "metadata": {},
     "output_type": "execute_result"
    }
   ],
   "source": [
    "string = \"quiero contar s en este string\"\n",
    "letras = []\n",
    "contador = 0 \n",
    "for x in string:\n",
    "    if x != \"s\":\n",
    "        letras.append(x)\n",
    "\n",
    "len(letras)"
   ]
  },
  {
   "cell_type": "code",
   "execution_count": 133,
   "id": "7a0d82bd-f6f7-4366-90c4-42ca37efade8",
   "metadata": {},
   "outputs": [
    {
     "data": {
      "text/plain": [
       "3"
      ]
     },
     "execution_count": 133,
     "metadata": {},
     "output_type": "execute_result"
    }
   ],
   "source": [
    "len([x for x in string if x == \"s\"])"
   ]
  },
  {
   "cell_type": "code",
   "execution_count": 141,
   "id": "684720d0-ff9e-42f7-8072-44819f0d0de9",
   "metadata": {
    "id": "684720d0-ff9e-42f7-8072-44819f0d0de9",
    "outputId": "b8cfab0b-e082-4ea0-9f08-d973039d704a"
   },
   "outputs": [
    {
     "name": "stdout",
     "output_type": "stream",
     "text": [
      "ejecucion numero: hola\n",
      "ejecucion numero: mundo\n"
     ]
    }
   ],
   "source": [
    "# Loops\n",
    "string = \"hola mundo\"\n",
    "for x in string.split(\" \"):\n",
    "    print(\"ejecucion numero: {}\".format(x))"
   ]
  },
  {
   "cell_type": "code",
   "execution_count": 143,
   "id": "b03a1af9-03fb-42d8-a724-ee7d5199f0f8",
   "metadata": {},
   "outputs": [
    {
     "name": "stdout",
     "output_type": "stream",
     "text": [
      "ejecucion numero: 1\n",
      "ejecucion numero: 2\n",
      "ejecucion numero: 3\n",
      "ejecucion numero: 4\n",
      "ejecucion numero: 5\n",
      "ejecucion numero: 6\n",
      "ejecucion numero: 7\n",
      "ejecucion numero: 8\n",
      "ejecucion numero: 9\n",
      "ejecucion numero: 10\n"
     ]
    }
   ],
   "source": [
    "# Loops\n",
    "string = \"hola mundo\"\n",
    "for x in [1,2,3,4,5,6,7,8,9,10]:\n",
    "    print(\"ejecucion numero: {}\".format(x))"
   ]
  },
  {
   "cell_type": "code",
   "execution_count": 144,
   "id": "be1c4951-9c7b-48d6-924c-72ba1ced3f0f",
   "metadata": {
    "id": "be1c4951-9c7b-48d6-924c-72ba1ced3f0f",
    "outputId": "e432a0e0-fbca-4d03-a945-39e75be714f8"
   },
   "outputs": [
    {
     "name": "stdout",
     "output_type": "stream",
     "text": [
      "ejecución numero: 0\n",
      "ejecución numero: 1\n",
      "ejecución numero: 2\n",
      "ejecución numero: 3\n",
      "ejecución numero: 4\n",
      "ejecución numero: 5\n",
      "ejecución numero: 6\n",
      "ejecución numero: 7\n",
      "ejecución numero: 8\n",
      "ejecución numero: 9\n"
     ]
    }
   ],
   "source": [
    "seguir = True\n",
    "i = 0\n",
    "while seguir:\n",
    "    print(\"ejecución numero: {}\".format(i))\n",
    "    i+=1\n",
    "    if i == 10:\n",
    "        break"
   ]
  },
  {
   "cell_type": "code",
   "execution_count": null,
   "id": "8069b5ed-9680-44d9-8617-6d1fecaf84c0",
   "metadata": {},
   "outputs": [],
   "source": []
  },
  {
   "cell_type": "code",
   "execution_count": 159,
   "id": "0c585cba-2d37-4af5-b577-ed698736833c",
   "metadata": {
    "id": "0c585cba-2d37-4af5-b577-ed698736833c",
    "outputId": "3a6873c7-be02-46c9-bbd0-d346c756c051"
   },
   "outputs": [
    {
     "name": "stdout",
     "output_type": "stream",
     "text": [
      "ejecución numero: 0\n",
      "ejecución numero: 5\n",
      "ejecución numero: 10\n"
     ]
    }
   ],
   "source": [
    "seguir = True\n",
    "i = 0\n",
    "while i <= 10:\n",
    "    if i == 0:\n",
    "        pass\n",
    "    print(\"ejecución numero: {}\".format(i))\n",
    "    i+=5\n"
   ]
  },
  {
   "cell_type": "code",
   "execution_count": 160,
   "id": "2af529bf-dcc9-475f-950e-fca77280d2f6",
   "metadata": {
    "collapsed": true,
    "id": "2af529bf-dcc9-475f-950e-fca77280d2f6",
    "jupyter": {
     "outputs_hidden": true
    },
    "outputId": "451c49b3-5ae4-4372-9541-d1e37292049d"
   },
   "outputs": [
    {
     "name": "stdout",
     "output_type": "stream",
     "text": [
      "********************\n",
      "ejecucion numero: 0\n",
      "es una ejecucion par\n",
      "********************\n",
      "ejecucion numero: 1\n",
      "********************\n",
      "ejecucion numero: 2\n",
      "es una ejecucion par\n",
      "********************\n",
      "ejecucion numero: 3\n",
      "Es la ejecucion del número 3\n",
      "********************\n",
      "ejecucion numero: 4\n",
      "es una ejecucion par\n",
      "********************\n",
      "ejecucion numero: 5\n",
      "********************\n",
      "ejecucion numero: 6\n",
      "es una ejecucion par\n",
      "********************\n",
      "ejecucion numero: 7\n",
      "********************\n",
      "ejecucion numero: 8\n",
      "es una ejecucion par\n",
      "********************\n",
      "ejecucion numero: 9\n",
      "********************\n",
      "ejecucion numero: 10\n",
      "es una ejecucion par\n",
      "********************\n",
      "ejecucion numero: 11\n",
      "********************\n",
      "ejecucion numero: 12\n",
      "es una ejecucion par\n"
     ]
    }
   ],
   "source": [
    "# Loops\n",
    "for x in range(0,100):\n",
    "    print(\"*\"*20)\n",
    "    print(\"ejecucion numero: {}\".format(x))\n",
    "    if x % 2 == 0:\n",
    "        print(\"es una ejecucion par\")\n",
    "    elif x == 3:\n",
    "        pass\n",
    "        print(\"Es la ejecucion del número 3\")\n",
    "    else:\n",
    "        continue\n",
    "        print(\"Es la ejecucion del número un numero impar\")\n",
    "    \n",
    "#Probar cambiando esta linea por if x==11\n",
    "    if x == 12:\n",
    "        break"
   ]
  },
  {
   "cell_type": "markdown",
   "id": "d9a1492d-ce81-46f2-9490-f31df2424aee",
   "metadata": {
    "id": "d9a1492d-ce81-46f2-9490-f31df2424aee"
   },
   "source": [
    "## Ejercicio ##\n",
    "Sumar los valores del 1 al 100 e imprimir el valor final"
   ]
  },
  {
   "cell_type": "code",
   "execution_count": 161,
   "id": "37c5d78f-b7b9-4373-8a1e-9261b104343a",
   "metadata": {
    "id": "37c5d78f-b7b9-4373-8a1e-9261b104343a",
    "outputId": "8440bbf6-3092-4d0e-ee61-50cd058ee119"
   },
   "outputs": [
    {
     "name": "stdout",
     "output_type": "stream",
     "text": [
      "5050\n",
      "101\n",
      "5050\n",
      "100\n",
      "hola\n"
     ]
    }
   ],
   "source": [
    "suma = 0\n",
    "iteraciones = 0\n",
    "for x in range(0,101):\n",
    "    suma += x\n",
    "    iteraciones+=1\n",
    "\n",
    "print(suma)\n",
    "print(iteraciones)\n",
    "\n",
    "suma = 0\n",
    "iteraciones = 0\n",
    "for x in range(1,101):\n",
    "    suma += x\n",
    "    iteraciones+=1    \n",
    "\n",
    "print(suma)\n",
    "print(iteraciones)\n",
    "\n",
    "\n",
    "if suma == 5050:\n",
    "    print(\"hola\")"
   ]
  },
  {
   "cell_type": "markdown",
   "id": "43fc7274-d8a4-4014-96b8-aaf3d4b772b6",
   "metadata": {
    "id": "43fc7274-d8a4-4014-96b8-aaf3d4b772b6"
   },
   "source": [
    "### Listas ###\n",
    "\n",
    "Una lista es una estructura de datos que contiene una colección o secuencia de datos. Los datos o elementos de una lista deben ir separados con una coma y todo el conjunto entre corchetes. Se dice que una lista es una estructura mutable porque además de permitir el acceso a los elementos, pueden suprimirse o agregarse nuevos.\n",
    "\n",
    "lista = [\"hola\", \"mundo\", 1, 2, 4.5, [\"otra\", \"lista\"]]\n",
    "\n"
   ]
  },
  {
   "cell_type": "code",
   "execution_count": 188,
   "id": "890575fe-fd3e-4af9-98b5-6e6d7cd07935",
   "metadata": {
    "id": "890575fe-fd3e-4af9-98b5-6e6d7cd07935",
    "outputId": "676b5b39-bfb2-4092-de7b-8d3277ae5b01"
   },
   "outputs": [
    {
     "name": "stdout",
     "output_type": "stream",
     "text": [
      "la lista es: [1, 2, 3, 4]\n"
     ]
    }
   ],
   "source": [
    "lista = [1, 2, 3, 4]\n",
    "print(\"la lista es: {}\".format(lista))"
   ]
  },
  {
   "cell_type": "code",
   "execution_count": 189,
   "id": "ca39bd5a-d3cd-4483-9dd8-28390d198243",
   "metadata": {
    "id": "ca39bd5a-d3cd-4483-9dd8-28390d198243",
    "outputId": "7657787d-3594-415c-fd22-6cc86170cc07"
   },
   "outputs": [
    {
     "name": "stdout",
     "output_type": "stream",
     "text": [
      "la lista actualizada es: [1, 2, 3, 4]\n"
     ]
    }
   ],
   "source": [
    "print(\"la lista actualizada es: {}\".format(lista))"
   ]
  },
  {
   "cell_type": "code",
   "execution_count": 180,
   "id": "01c8ecff-ee69-4ed0-9471-e153493acdc0",
   "metadata": {},
   "outputs": [
    {
     "data": {
      "text/plain": [
       "[1, 2, 4]"
      ]
     },
     "execution_count": 180,
     "metadata": {},
     "output_type": "execute_result"
    }
   ],
   "source": [
    "lista"
   ]
  },
  {
   "cell_type": "code",
   "execution_count": 186,
   "id": "6416ff9c-90e3-4dad-b0e6-9a0c9b0ccd17",
   "metadata": {
    "id": "6416ff9c-90e3-4dad-b0e6-9a0c9b0ccd17",
    "outputId": "34101ca2-760d-4104-daf7-9386c3cce493"
   },
   "outputs": [],
   "source": [
    "#Elimino valor por key\n",
    "for x in [0,1]:\n",
    "    lista.pop(x)\n"
   ]
  },
  {
   "cell_type": "code",
   "execution_count": 187,
   "id": "ec1bd5b2-958d-4250-a2b5-ead88ed61676",
   "metadata": {
    "id": "ec1bd5b2-958d-4250-a2b5-ead88ed61676",
    "outputId": "56c7de73-e586-46f6-bab8-8e7687b75e33"
   },
   "outputs": [
    {
     "name": "stdout",
     "output_type": "stream",
     "text": [
      "la lista actualizada es: [3]\n"
     ]
    }
   ],
   "source": [
    "print(\"la lista actualizada es: {}\".format(lista))"
   ]
  },
  {
   "cell_type": "code",
   "execution_count": 190,
   "id": "e8df9ae9-e072-494e-9c63-96c876a21d04",
   "metadata": {
    "id": "e8df9ae9-e072-494e-9c63-96c876a21d04"
   },
   "outputs": [],
   "source": [
    "#Elimino valor por value\n",
    "lista.remove(1)"
   ]
  },
  {
   "cell_type": "code",
   "execution_count": 191,
   "id": "ae38abeb-433b-4124-9103-d71356d411a9",
   "metadata": {
    "id": "ae38abeb-433b-4124-9103-d71356d411a9",
    "outputId": "e870c929-93ec-4ab8-988b-3d20325d094d"
   },
   "outputs": [
    {
     "name": "stdout",
     "output_type": "stream",
     "text": [
      "la lista actualizada es: [2, 3, 4]\n"
     ]
    }
   ],
   "source": [
    "print(\"la lista actualizada es: {}\".format(lista))"
   ]
  },
  {
   "cell_type": "code",
   "execution_count": 192,
   "id": "cf833505-24b9-4d74-afd1-1f357f807fe4",
   "metadata": {
    "id": "cf833505-24b9-4d74-afd1-1f357f807fe4"
   },
   "outputs": [],
   "source": [
    "lista.append(1)\n",
    "lista.append(5)"
   ]
  },
  {
   "cell_type": "code",
   "execution_count": 193,
   "id": "62ff11a3-0012-4880-beeb-b9fa2ee429b7",
   "metadata": {},
   "outputs": [
    {
     "data": {
      "text/plain": [
       "[2, 3, 4, 1, 5]"
      ]
     },
     "execution_count": 193,
     "metadata": {},
     "output_type": "execute_result"
    }
   ],
   "source": [
    "lista"
   ]
  },
  {
   "cell_type": "code",
   "execution_count": 194,
   "id": "a68f4586-4543-49d2-ad05-35e2d1520ebb",
   "metadata": {
    "id": "a68f4586-4543-49d2-ad05-35e2d1520ebb",
    "outputId": "9d19501e-e387-453f-ba5e-f39aadff044a"
   },
   "outputs": [
    {
     "name": "stdout",
     "output_type": "stream",
     "text": [
      "valor de la lista: 2\n",
      "valor de la lista: 3\n",
      "valor de la lista: 4\n",
      "valor de la lista: 1\n",
      "valor de la lista: 5\n"
     ]
    }
   ],
   "source": [
    "for x in lista:\n",
    "    print(\"valor de la lista: {}\".format(x))"
   ]
  },
  {
   "cell_type": "code",
   "execution_count": 212,
   "id": "8a411dc9-bc70-4e51-9db8-9e22a4801f4d",
   "metadata": {
    "id": "8a411dc9-bc70-4e51-9db8-9e22a4801f4d",
    "outputId": "722511a4-6d74-4dda-82ed-c49a89d939ab"
   },
   "outputs": [
    {
     "name": "stdout",
     "output_type": "stream",
     "text": [
      "la lista nueva es: [2, 4, 6, 8, 10]\n"
     ]
    }
   ],
   "source": [
    "#otra forma de iterar una lista\n",
    "lista_nueva = [x*2 for x in lista]\n",
    "\n",
    "print(\"la lista nueva es: {}\".format(lista_nueva))"
   ]
  },
  {
   "cell_type": "code",
   "execution_count": 199,
   "id": "a940645e-4a6d-46d0-a743-4871cc69290b",
   "metadata": {
    "editable": true,
    "slideshow": {
     "slide_type": ""
    },
    "tags": []
   },
   "outputs": [],
   "source": [
    "lista = sorted(lista)"
   ]
  },
  {
   "cell_type": "code",
   "execution_count": 209,
   "id": "e17d1239-fb78-4e44-aabe-5da23db68b26",
   "metadata": {},
   "outputs": [],
   "source": [
    "del lista_3 "
   ]
  },
  {
   "cell_type": "code",
   "execution_count": 210,
   "id": "ed3baf26-3676-4fa0-a8f4-0e5065daca6f",
   "metadata": {
    "id": "ed3baf26-3676-4fa0-a8f4-0e5065daca6f",
    "outputId": "966a457a-eb43-43b5-891c-c57452197cf0"
   },
   "outputs": [
    {
     "ename": "NameError",
     "evalue": "name 'lista_3' is not defined",
     "output_type": "error",
     "traceback": [
      "\u001b[1;31m---------------------------------------------------------------------------\u001b[0m",
      "\u001b[1;31mNameError\u001b[0m                                 Traceback (most recent call last)",
      "Cell \u001b[1;32mIn[210], line 2\u001b[0m\n\u001b[0;32m      1\u001b[0m \u001b[38;5;28;01mfor\u001b[39;00m x \u001b[38;5;129;01min\u001b[39;00m lista:\n\u001b[1;32m----> 2\u001b[0m     \u001b[43mlista_3\u001b[49m\u001b[38;5;241m.\u001b[39mappend(x\u001b[38;5;241m*\u001b[39m\u001b[38;5;241m*\u001b[39m\u001b[38;5;241m2\u001b[39m)\n\u001b[0;32m      3\u001b[0m \u001b[38;5;28mprint\u001b[39m(lista_3)\n",
      "\u001b[1;31mNameError\u001b[0m: name 'lista_3' is not defined"
     ]
    }
   ],
   "source": [
    "lista_3 = []\n",
    "for x in lista:\n",
    "    lista_3.append(x**2)\n",
    "print(lista_3)"
   ]
  },
  {
   "cell_type": "markdown",
   "id": "72c23647-9f01-469f-b9cf-0f4db754be1a",
   "metadata": {
    "id": "72c23647-9f01-469f-b9cf-0f4db754be1a"
   },
   "source": [
    "## Ejercicio ##\n",
    "De la lista = [2,3,4,5,6] crear una nueva lista con los mismos números potenciados con el mismo numero, e imprimir la nueva lista\n",
    "\n",
    "Por ejemplo: si el valor es 8, se debería calcular $8^8$"
   ]
  },
  {
   "cell_type": "code",
   "execution_count": 213,
   "id": "87c583de-3550-4e51-802e-7f5d99a36ad1",
   "metadata": {
    "id": "87c583de-3550-4e51-802e-7f5d99a36ad1",
    "outputId": "89b62ff5-1327-4be5-cdd9-8e6de9ff1d2b"
   },
   "outputs": [
    {
     "name": "stdout",
     "output_type": "stream",
     "text": [
      "el valor de la primera lista es: 1, y el valor del a segunda lista es: 2\n",
      "el valor de la primera lista es: 2, y el valor del a segunda lista es: 4\n",
      "el valor de la primera lista es: 3, y el valor del a segunda lista es: 6\n",
      "el valor de la primera lista es: 4, y el valor del a segunda lista es: 8\n",
      "el valor de la primera lista es: 5, y el valor del a segunda lista es: 10\n"
     ]
    }
   ],
   "source": [
    "#itero dos listas en simultaneo\n",
    "for x, y in zip(lista, lista_nueva):\n",
    "    print(\"el valor de la primera lista es: {}, y el valor del a segunda lista es: {}\".format(x,y))"
   ]
  },
  {
   "cell_type": "code",
   "execution_count": null,
   "id": "a6a335de-5adf-4ada-bee9-017d13b1f63c",
   "metadata": {
    "id": "a6a335de-5adf-4ada-bee9-017d13b1f63c",
    "outputId": "7af17c0d-9837-4bfa-dcff-923f69b341a1"
   },
   "outputs": [
    {
     "name": "stdout",
     "output_type": "stream",
     "text": [
      "la nueva lista modificada es: [9, 2, 3, 4, 5]\n"
     ]
    }
   ],
   "source": [
    "#Modificamos el primer valor de la lista\n",
    "lista[0] = lista[0]+8\n",
    "print(\"la nueva lista modificada es: {}\".format(lista))"
   ]
  },
  {
   "cell_type": "code",
   "execution_count": 214,
   "id": "962c5bc4-32cd-43e9-901c-7a83bc65e14c",
   "metadata": {
    "id": "962c5bc4-32cd-43e9-901c-7a83bc65e14c",
    "outputId": "22a5e6a8-6719-44fc-bad0-aed3ae1bcbd9"
   },
   "outputs": [
    {
     "name": "stdout",
     "output_type": "stream",
     "text": [
      "Longitud de la lista: 5 valores\n"
     ]
    }
   ],
   "source": [
    "print(\"Longitud de la lista: {} valores\".format(len(lista)))"
   ]
  },
  {
   "cell_type": "markdown",
   "id": "9d7ee767-2c79-4de0-bd81-f641e8b37120",
   "metadata": {
    "id": "9d7ee767-2c79-4de0-bd81-f641e8b37120"
   },
   "source": [
    "## Tuplas ##\n",
    "\n",
    "Una tupla permite tener agrupados un conjunto inmutable de elementos, es decir, en una tupla no es posible agregar ni eliminar elementos. Las tuplas se declaran separando los elementos por comas y éstos, opcionalmente, pueden ir entre paréntesis. Se recomienda el uso de paréntesis para evitar ambigüedades del tipo"
   ]
  },
  {
   "cell_type": "code",
   "execution_count": 215,
   "id": "e2705ff0-5493-4228-8c42-a2aa3563b34f",
   "metadata": {
    "id": "e2705ff0-5493-4228-8c42-a2aa3563b34f"
   },
   "outputs": [],
   "source": [
    "tupla = (4,5,6)"
   ]
  },
  {
   "cell_type": "code",
   "execution_count": 218,
   "id": "6030f1b6-fce5-42f6-a589-a690b9d28698",
   "metadata": {},
   "outputs": [
    {
     "data": {
      "text/plain": [
       "5"
      ]
     },
     "execution_count": 218,
     "metadata": {},
     "output_type": "execute_result"
    }
   ],
   "source": [
    "tupla[1]"
   ]
  },
  {
   "cell_type": "code",
   "execution_count": 219,
   "id": "7735f921-c301-4bc8-a55e-b80edd8a049f",
   "metadata": {
    "id": "7735f921-c301-4bc8-a55e-b80edd8a049f",
    "outputId": "45c7c237-27fd-4258-ee6f-0bb60830cdf2"
   },
   "outputs": [
    {
     "name": "stdout",
     "output_type": "stream",
     "text": [
      "el valor en la tupla es: 4\n",
      "el valor en la tupla es: 5\n",
      "el valor en la tupla es: 6\n"
     ]
    }
   ],
   "source": [
    "for valor in tupla:\n",
    "    print(\"el valor en la tupla es: {}\".format(valor))"
   ]
  },
  {
   "cell_type": "code",
   "execution_count": 222,
   "id": "6a4eb924-9734-47b5-adcc-f524abeb9dd5",
   "metadata": {
    "id": "6a4eb924-9734-47b5-adcc-f524abeb9dd5",
    "outputId": "e1fb3750-0e0d-497b-ca0a-4fd3e4661d4d"
   },
   "outputs": [
    {
     "ename": "TypeError",
     "evalue": "'tuple' object does not support item assignment",
     "output_type": "error",
     "traceback": [
      "\u001b[1;31m---------------------------------------------------------------------------\u001b[0m",
      "\u001b[1;31mTypeError\u001b[0m                                 Traceback (most recent call last)",
      "Cell \u001b[1;32mIn[222], line 2\u001b[0m\n\u001b[0;32m      1\u001b[0m \u001b[38;5;66;03m#Tirará un error ya que no se puede modificar\u001b[39;00m\n\u001b[1;32m----> 2\u001b[0m \u001b[43mtupla\u001b[49m\u001b[43m[\u001b[49m\u001b[38;5;241;43m0\u001b[39;49m\u001b[43m]\u001b[49m \u001b[38;5;241m=\u001b[39m \u001b[38;5;241m5\u001b[39m\n",
      "\u001b[1;31mTypeError\u001b[0m: 'tuple' object does not support item assignment"
     ]
    }
   ],
   "source": [
    "#Tirará un error ya que no se puede modificar\n",
    "tupla[0] = 5"
   ]
  },
  {
   "cell_type": "code",
   "execution_count": 221,
   "id": "6efda58c-3c7d-4797-8926-9c51b79db554",
   "metadata": {
    "id": "6efda58c-3c7d-4797-8926-9c51b79db554",
    "outputId": "a10059aa-6e90-4349-aeb0-4326238b4e23"
   },
   "outputs": [
    {
     "name": "stdout",
     "output_type": "stream",
     "text": [
      "imprimo una lista vacia: []\n"
     ]
    }
   ],
   "source": [
    "#crear una lista vacía\n",
    "lista = []\n",
    "print(\"imprimo una lista vacia: {}\".format(lista))"
   ]
  },
  {
   "cell_type": "code",
   "execution_count": null,
   "id": "ac0f6e8b-4301-4828-b61a-cc2c3ff67b1f",
   "metadata": {
    "id": "ac0f6e8b-4301-4828-b61a-cc2c3ff67b1f",
    "outputId": "9fd447fe-d73c-44df-e102-3af1f77d301f"
   },
   "outputs": [
    {
     "name": "stdout",
     "output_type": "stream",
     "text": [
      "lista armada desde un string: ['1', ' 2', ' 3', ' 4', ' 5', ' 6']\n"
     ]
    }
   ],
   "source": [
    "string_1 = \"1, 2, 3, 4, 5, 6\"\n",
    "lista_1 = string_1.split(\",\")\n",
    "print(\"lista armada desde un string: {}\".format(lista_1))"
   ]
  },
  {
   "cell_type": "code",
   "execution_count": 223,
   "id": "79e84b63-898f-43af-b56d-0865dbaf227b",
   "metadata": {
    "id": "79e84b63-898f-43af-b56d-0865dbaf227b",
    "outputId": "1b87f7a6-573b-403a-f4a2-1a02bb5f5636"
   },
   "outputs": [
    {
     "name": "stdout",
     "output_type": "stream",
     "text": [
      "lista armada desde un string: ['20']\n"
     ]
    }
   ],
   "source": [
    "#Corrijo la lista sacando los espacios\n",
    "lista_1 = string_1.replace(\" \", \"\").split(\",\")\n",
    "print(\"lista armada desde un string: {}\".format(lista_1))"
   ]
  },
  {
   "cell_type": "code",
   "execution_count": null,
   "id": "9cdc5f98-f0ac-419b-8254-6aecee45da26",
   "metadata": {
    "id": "9cdc5f98-f0ac-419b-8254-6aecee45da26",
    "outputId": "d13da1a0-9c88-4362-8b61-b8a63bd0b90c"
   },
   "outputs": [
    {
     "name": "stdout",
     "output_type": "stream",
     "text": [
      "lista armada desde un string: [1, 2, 3, 4, 5, 6]\n"
     ]
    }
   ],
   "source": [
    "#Realizo la ultima modificacion para que los valores sean numéricos\n",
    "lista_1 = string_1.replace(\" \", \"\").split(\",\")\n",
    "lista_1 = [int(x) for x in lista_1]\n",
    "print(\"lista armada desde un string: {}\".format(lista_1))\n"
   ]
  },
  {
   "cell_type": "markdown",
   "id": "301c5052-856d-4807-ba1c-85db64ae1ee4",
   "metadata": {
    "id": "301c5052-856d-4807-ba1c-85db64ae1ee4"
   },
   "source": [
    "## Ejercicio ##\n",
    "En base a la siguiente lista: string_1 = \"1, 2, 3, 4, 5, 6\". En una sola línea crear la suma de todos los números e imprimirlo\n"
   ]
  },
  {
   "cell_type": "code",
   "execution_count": null,
   "id": "ed0f5316-d568-4ba2-aa47-cffe6b435815",
   "metadata": {
    "id": "ed0f5316-d568-4ba2-aa47-cffe6b435815"
   },
   "outputs": [],
   "source": []
  },
  {
   "cell_type": "code",
   "execution_count": null,
   "id": "5cb42ff4-8d14-499f-8ae1-650ac34c7bf0",
   "metadata": {
    "id": "5cb42ff4-8d14-499f-8ae1-650ac34c7bf0",
    "outputId": "38a11d52-10e3-4db8-b98d-6df4ddf5a3ef"
   },
   "outputs": [
    {
     "name": "stdout",
     "output_type": "stream",
     "text": [
      "la suma total es: 21\n",
      "la suma total es: 21\n"
     ]
    }
   ],
   "source": [
    "#Sumo los valores de la lista\n",
    "suma_total = 0\n",
    "suma_total_2 = 0\n",
    "for valor in lista_1:\n",
    "    suma_total+=valor\n",
    "    suma_total_2 = suma_total_2+valor\n",
    "print(\"la suma total es: {}\".format(suma_total))\n",
    "print(\"la suma total es: {}\".format(suma_total_2))"
   ]
  },
  {
   "cell_type": "code",
   "execution_count": null,
   "id": "77ce2a74-4ac4-4940-b364-ab7fd8364b56",
   "metadata": {
    "id": "77ce2a74-4ac4-4940-b364-ab7fd8364b56",
    "outputId": "93d65c2d-95f7-4d55-a155-05f5b682cbba"
   },
   "outputs": [
    {
     "name": "stdout",
     "output_type": "stream",
     "text": [
      "la suma total es: 21\n",
      "la suma total es: 21\n"
     ]
    }
   ],
   "source": [
    "#Otra forma de sumar los valores de una lista\n",
    "suma_total = sum(lista_1)\n",
    "print(\"la suma total es: {}\".format(suma_total))\n",
    "print(\"la suma total es: {}\".format(sum(lista_1)))\n"
   ]
  },
  {
   "cell_type": "code",
   "execution_count": null,
   "id": "5650096f-4f3a-4c5d-89d2-a1967f375170",
   "metadata": {
    "id": "5650096f-4f3a-4c5d-89d2-a1967f375170",
    "outputId": "ba76e77e-15fd-4e4a-c2ca-81bb64725027"
   },
   "outputs": [
    {
     "name": "stdout",
     "output_type": "stream",
     "text": [
      "lista ordenada descendente: [1, 2, 3, 4, 5, 6]\n"
     ]
    }
   ],
   "source": [
    "lista_1.sort(reverse=True)\n",
    "print(\"lista ordenada descendente: {}\".format(lista_1))"
   ]
  },
  {
   "cell_type": "markdown",
   "id": "d231e610-2ee1-44a9-8565-4ffe6f2e185c",
   "metadata": {
    "id": "d231e610-2ee1-44a9-8565-4ffe6f2e185c"
   },
   "source": [
    "## Diccionarios ##\n",
    "\n",
    "Los diccionarios son objetos que contienen una lista de parejas de elementos. De cada pareja un elemento es la clave, que no puede repetirse, y, el otro, un valor asociado. La clave que se utiliza para acceder al valor tiene que ser un dato inmutable como una cadena, mientras que el valor puede ser un número, una cadena, un valor lógico (True/False), una lista o una tupla.\n",
    "\n",
    "Los pares clave-valor están separados por dos puntos, las parejas por comas y todo el conjunto se encierra entre llaves."
   ]
  },
  {
   "cell_type": "code",
   "execution_count": 231,
   "id": "1a8a1338-f153-4fec-839e-eba15f710ee7",
   "metadata": {
    "id": "1a8a1338-f153-4fec-839e-eba15f710ee7"
   },
   "outputs": [],
   "source": [
    "campeonato_local = {\n",
    "\"River Plate\": 1,\n",
    "\"Defensa y Justicia\":[1,2,3,4],\n",
    "\"Talleres de Cordoba\": 2,\n",
    "\"Platense\": 19\n",
    "}"
   ]
  },
  {
   "cell_type": "code",
   "execution_count": 232,
   "id": "7eef6c3c-a605-44fa-9e17-8ede4f234cfe",
   "metadata": {},
   "outputs": [
    {
     "data": {
      "text/plain": [
       "[1, 2, 3, 4]"
      ]
     },
     "execution_count": 232,
     "metadata": {},
     "output_type": "execute_result"
    }
   ],
   "source": [
    "campeonato_local[\"Defensa y Justicia\"]"
   ]
  },
  {
   "cell_type": "code",
   "execution_count": 226,
   "id": "0e669eab-8a5f-4318-abeb-4dd62a4c70c1",
   "metadata": {
    "id": "0e669eab-8a5f-4318-abeb-4dd62a4c70c1",
    "outputId": "9a8b4408-a61a-4769-986a-f852ceefae71"
   },
   "outputs": [
    {
     "name": "stdout",
     "output_type": "stream",
     "text": [
      "la posición que tiene el equipo River Plate es: 1\n"
     ]
    }
   ],
   "source": [
    "equipo = \"River Plate\"\n",
    "print(\"la posición que tiene el equipo {} es: {}\".format(equipo, campeonato_local[equipo]))"
   ]
  },
  {
   "cell_type": "code",
   "execution_count": 233,
   "id": "c02da087-ea1c-4b33-84ee-b7a42a4e6d9a",
   "metadata": {
    "id": "c02da087-ea1c-4b33-84ee-b7a42a4e6d9a",
    "outputId": "306e1dc1-a64c-468d-c7fa-3234912b28cb"
   },
   "outputs": [
    {
     "name": "stdout",
     "output_type": "stream",
     "text": [
      "el diccionario de goleadores es: {'Julian Alvarez': 19, 'Marco Ruben': 16}\n"
     ]
    }
   ],
   "source": [
    "campeonato_local_2 = {}\n",
    "campeonato_local_2[\"Julian Alvarez\"] = 19\n",
    "campeonato_local_2[\"Marco Ruben\"] = 16\n",
    "\n",
    "print(\"el diccionario de goleadores es: {}\".format(campeonato_local_2))\n"
   ]
  },
  {
   "cell_type": "code",
   "execution_count": null,
   "id": "caebbcd5-b078-404b-bb81-75fc8683aa44",
   "metadata": {
    "id": "caebbcd5-b078-404b-bb81-75fc8683aa44",
    "outputId": "2ee84cb4-c57e-4d54-fb9b-a495214568a1"
   },
   "outputs": [
    {
     "data": {
      "text/plain": [
       "19"
      ]
     },
     "execution_count": 39,
     "metadata": {},
     "output_type": "execute_result"
    }
   ],
   "source": [
    "campeonato_local_2[\"Julian Alvarez\"]"
   ]
  },
  {
   "cell_type": "code",
   "execution_count": 235,
   "id": "0e2cc5a2-59b7-4428-9954-2bf9555707a6",
   "metadata": {
    "id": "0e2cc5a2-59b7-4428-9954-2bf9555707a6",
    "outputId": "63ecf409-4ab1-4f65-c535-7888bfbae637"
   },
   "outputs": [
    {
     "name": "stdout",
     "output_type": "stream",
     "text": [
      "v1 1\n",
      "v2 2\n",
      "v3 3\n"
     ]
    }
   ],
   "source": [
    "diccionario = {\"v1\": 1, \"v2\": 2, \"v3\": 3}\n",
    "for a in diccionario.keys():\n",
    "    print(a, diccionario[a])"
   ]
  },
  {
   "cell_type": "code",
   "execution_count": 238,
   "id": "50cdb5ac-f82b-4e2f-94dc-68a7188df468",
   "metadata": {
    "id": "50cdb5ac-f82b-4e2f-94dc-68a7188df468",
    "outputId": "29f5f0a3-e17b-4fc3-c2aa-34ae4d414e2e"
   },
   "outputs": [
    {
     "name": "stdout",
     "output_type": "stream",
     "text": [
      "v1 1\n",
      "v2 2\n",
      "v3 3\n"
     ]
    }
   ],
   "source": [
    "for a in diccionario:\n",
    "    print(a, diccionario[a])"
   ]
  },
  {
   "cell_type": "code",
   "execution_count": 237,
   "id": "5d6772eb-2fdc-4b5d-81d9-1a78535ba013",
   "metadata": {
    "id": "5d6772eb-2fdc-4b5d-81d9-1a78535ba013",
    "outputId": "002eaa24-2848-4f63-b50d-68af13e9afdf"
   },
   "outputs": [
    {
     "data": {
      "text/plain": [
       "dict_items([('v1', 1), ('v2', 2), ('v3', 3)])"
      ]
     },
     "execution_count": 237,
     "metadata": {},
     "output_type": "execute_result"
    }
   ],
   "source": [
    "diccionario.items()"
   ]
  },
  {
   "cell_type": "code",
   "execution_count": 241,
   "id": "618c6112-4eda-4380-9e11-4518ca38c59b",
   "metadata": {
    "id": "618c6112-4eda-4380-9e11-4518ca38c59b",
    "outputId": "5c034f29-70b9-418c-e11f-c6390618a6f3"
   },
   "outputs": [
    {
     "name": "stdout",
     "output_type": "stream",
     "text": [
      "v1 1\n",
      "v2 2\n",
      "v3 3\n"
     ]
    }
   ],
   "source": [
    "for a, b in diccionario.items():\n",
    "    print(a, b)"
   ]
  },
  {
   "cell_type": "code",
   "execution_count": 242,
   "id": "5ae299ab-cdf1-4d30-b7a8-f49994a09ae0",
   "metadata": {
    "id": "5ae299ab-cdf1-4d30-b7a8-f49994a09ae0"
   },
   "outputs": [],
   "source": [
    "lista = []\n",
    "for x in range(100, 501):\n",
    "    if x%50==0:\n",
    "        lista.append(x)\n"
   ]
  },
  {
   "cell_type": "code",
   "execution_count": 243,
   "id": "6e2067c1-0fb4-4f55-82bb-bfe3b460d5a7",
   "metadata": {
    "editable": true,
    "id": "6e2067c1-0fb4-4f55-82bb-bfe3b460d5a7",
    "outputId": "38e67389-00eb-4534-9dbc-766d02f38928",
    "slideshow": {
     "slide_type": ""
    },
    "tags": []
   },
   "outputs": [
    {
     "data": {
      "text/plain": [
       "[100, 150, 200, 250, 300, 350, 400, 450, 500]"
      ]
     },
     "execution_count": 243,
     "metadata": {},
     "output_type": "execute_result"
    }
   ],
   "source": [
    "[x for x in range(100,501) if x%50==0]"
   ]
  },
  {
   "cell_type": "markdown",
   "id": "ca2c575f-4b80-400e-8558-3425d228faa4",
   "metadata": {
    "id": "ca2c575f-4b80-400e-8558-3425d228faa4"
   },
   "source": [
    "## Ejercicios ##\n",
    "\n",
    "1) Asignar a una variable la división de 450 por 34  \n",
    "2) De la división anterior, quedarse con el resto de la operación  \n",
    "3) iterar el número de veces igual al resto obtenido de la operación anterior. En cada una de las iteraciones imprimir el valor e indicar si el mismo es par o impar.  \n",
    "4) Crear una lista y agregar todos los elementos de la iteración anterior.  \n",
    "5) Eliminar el valor de la posición 5 y obtener el valor mínimo de la lista  \n",
    "6) Crear una lista similar a la primera (con los valores del resto) pero todos potenciados a la 2  \n",
    "7) Imprimo todos los valores (el valor y la potencia) de cada uno de los elementos de las listas  \n",
    "8) Crear una lista con valores del 100 al 500 a intervalos de 50\n",
    "\n",
    "Bonus extra \n",
    "\n",
    "9) Calculo la raiz cuadrada de 4 \n",
    "10) Calculo la media de la lista. (Tratar de realizarlo en una sóla línea)"
   ]
  },
  {
   "cell_type": "code",
   "execution_count": null,
   "id": "EOXSdZPAiKBt",
   "metadata": {
    "id": "EOXSdZPAiKBt"
   },
   "outputs": [],
   "source": []
  }
 ],
 "metadata": {
  "colab": {
   "collapsed_sections": [
    "a27d676c-72e0-44eb-9110-2ed405f15c21",
    "d68fe4a8-1996-4dc1-9bc0-3e991842111a",
    "d9a1492d-ce81-46f2-9490-f31df2424aee",
    "43fc7274-d8a4-4014-96b8-aaf3d4b772b6",
    "72c23647-9f01-469f-b9cf-0f4db754be1a",
    "d231e610-2ee1-44a9-8565-4ffe6f2e185c"
   ],
   "name": "01 - Python basico.ipynb",
   "provenance": []
  },
  "kernelspec": {
   "display_name": "Python 3 (ipykernel)",
   "language": "python",
   "name": "python3"
  },
  "language_info": {
   "codemirror_mode": {
    "name": "ipython",
    "version": 3
   },
   "file_extension": ".py",
   "mimetype": "text/x-python",
   "name": "python",
   "nbconvert_exporter": "python",
   "pygments_lexer": "ipython3",
   "version": "3.10.11"
  }
 },
 "nbformat": 4,
 "nbformat_minor": 5
}
