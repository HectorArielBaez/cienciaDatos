{
 "cells": [
  {
   "cell_type": "markdown",
   "id": "ed34dc69-298b-4c84-be56-618056384d47",
   "metadata": {},
   "source": [
    "## Ejercicios"
   ]
  },
  {
   "cell_type": "markdown",
   "id": "a13e6586-95a0-4a6a-a083-bda6326809c4",
   "metadata": {},
   "source": [
    "1) Dado el siguiente array:\n",
    "\n",
    "data = np.array([[0, 1, 2, 3, 4], \n",
    " [2, 3, 5, 6, 7], \n",
    " [5, 6, 7, 8, 9], \n",
    " [10, 11, 12, 13, 14], \n",
    " [15, 16, 17, 18, 19], \n",
    " [20, 21, 22, 23, 24]])\n",
    "\n",
    "Seleccionar las filas \"pares\" usando:  \n",
    "a) slicing  \n",
    "b) Fancy indexing\n",
    "\n",
    "Deberíamos tener el siguiente resultado:\n",
    "np.array([[0, 1, 2, 3, 4],  [5, 6, 7, 8, 9],  [15, 16, 17, 18, 19 )]]\n"
   ]
  },
  {
   "cell_type": "markdown",
   "id": "a1c66846-76bf-48f8-9d0e-b517699407e6",
   "metadata": {},
   "source": [
    "2) Seleccionar los elementos de valor impar de 'data' usando boolean indexing"
   ]
  },
  {
   "cell_type": "markdown",
   "id": "01321bd6-871d-4245-aaaa-edf69c0dc039",
   "metadata": {},
   "source": [
    "3) Leer los datos del archivo /M1/CLASE_03_Numpy/Data/sales_data_sample_excercise.csv\n",
    "\n",
    "Este archivo tiene algunos datos numéricos y otros de tipo cadena de caracteres. \n",
    "\n",
    "Las columnas son:\n",
    "\n",
    "* ORDERNUMBER: int, id de la orden\n",
    "\n",
    "* SALES: float, monto abonado\n",
    "\n",
    "* MONTH_ID: int, mes\n",
    "\n",
    "* YEAR_ID: int, año\n",
    "\n",
    "* PRODUCTLINE: str, producto\n",
    "\n",
    "* COUNTRY: str, país de venta\n",
    "\n",
    "¿Recuerdan que todos los elementos de una instancia de ndarray deben ser del mismo tipo? Entonces vamos a leer el archivo y crear una instancia de ndarray de tipo cadena de caracteres.\n",
    "\n",
    "¿Qué pasaría si intentáramos crear una instancia de tipo int? ¿Y de tipo float?\n"
   ]
  },
  {
   "cell_type": "markdown",
   "id": "6eb870fb-5ccb-406b-8cfb-6238c0b5e29f",
   "metadata": {},
   "source": [
    "3) Crear un array numérico que tenga como valores las columna SALES y otro array de str que tenga como valores la columna COUNTRY\r\n",
    "\r\n",
    "Ayuda: https://docs.scipy.org/doc/numpy/reference/generated/numpy.ndarray.astype.html"
   ]
  },
  {
   "cell_type": "markdown",
   "id": "a9860b14-01c5-4e0f-80b7-c8b3d293082a",
   "metadata": {},
   "source": [
    "4) ¿Cuál fue el monto mínimo de una venta? ¿Cuál fue el monto máximo?"
   ]
  },
  {
   "cell_type": "markdown",
   "id": "9f77632c-bec1-4293-bfa0-8725dc08dd85",
   "metadata": {},
   "source": [
    "5) ¿Cuántas ventas se hicieron en Spain?"
   ]
  },
  {
   "cell_type": "markdown",
   "id": "90334c3a-0f4d-429f-92b3-fae90cb3c6f3",
   "metadata": {},
   "source": [
    "6) ¿Qué porcentaje de las ventas se hicieron en Spain?"
   ]
  },
  {
   "cell_type": "markdown",
   "id": "c7246155-bb8c-424b-acbf-68f34b0932eb",
   "metadata": {},
   "source": [
    "7) ¿Cuál es el país de la venta de precio máximo? ¿Cuál es el id de esa venta?\r\n",
    "\r\n",
    "Ayuda: boolean indexing"
   ]
  },
  {
   "cell_type": "markdown",
   "id": "102215d5-bff4-4d32-b0a6-cd7bfdb87878",
   "metadata": {},
   "source": [
    "8) ¿Cuál es el precio promedio de ventas en France? ¿Cuál es el desvío?"
   ]
  },
  {
   "cell_type": "markdown",
   "id": "afda5f62-e1b4-44e7-9abc-bfaf6da4e353",
   "metadata": {},
   "source": [
    "9) ¿Cuál fue el año con máximo desvío en las ventas en France?\r\n",
    "\r\n",
    "Ayuda: https://docs.scipy.org/doc/numpy/reference/generated/numpy.unique.html"
   ]
  }
 ],
 "metadata": {
  "kernelspec": {
   "display_name": "Python 3 (ipykernel)",
   "language": "python",
   "name": "python3"
  },
  "language_info": {
   "codemirror_mode": {
    "name": "ipython",
    "version": 3
   },
   "file_extension": ".py",
   "mimetype": "text/x-python",
   "name": "python",
   "nbconvert_exporter": "python",
   "pygments_lexer": "ipython3",
   "version": "3.10.11"
  }
 },
 "nbformat": 4,
 "nbformat_minor": 5
}
