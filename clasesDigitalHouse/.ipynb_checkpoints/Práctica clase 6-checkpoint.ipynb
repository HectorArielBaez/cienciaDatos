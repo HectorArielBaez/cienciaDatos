{
 "cells": [
  {
   "cell_type": "markdown",
   "metadata": {},
   "source": [
    "## Ejercicios"
   ]
  },
  {
   "cell_type": "markdown",
   "metadata": {},
   "source": [
    "1) Levantar la base **Customer-Churn-Records.csv** que posee los siguientes campos:  \n",
    "a) RowNumber: Correponde a la posición del registro en la base. No debería tener ningún efecto con el output  \n",
    "b) CustomerId: Es el id del cliente.  \n",
    "c) Surname: Apellido del cliente.  \n",
    "d) CreditScore: Score crediticio del cliente.  \n",
    "e) Geography: Locación del cliente.  \n",
    "f) Gender: Género del cliente.  \n",
    "g) Age: Edad del cliente.  \n",
    "h) Tenure: Número de años que el cliente se encuentra relacionado al banco.  \n",
    "i) Balance: Balance en las cuentas.  \n",
    "j) NumOfProducts: Cantidad de productos que posee el cliente con el banco.  \n",
    "k) HasCrCard: Si el cliente posee o no tarjeta de crédito.  \n",
    "l) IsActiveMember: Si el cliente es un cliente activo, es decir, realiza transacciones con el banco.  \n",
    "m) EstimatedSalary: Salario estimado del cliente.  \n",
    "n) Exited: (Target de la base) Indica si el cliente se dio de baja o no.  \n",
    "o) Complain: Si el cliente tiene quejas o no.  \n",
    "p) Satisfaction Score: Score de satisfacción del cliente.  \n",
    "q) Card Type: Tipo de tarjeta de crédito que posee el cliente.  \n",
    "r) Points Earned: Puntos ganados por los clientes usando su tarjeta de crédito.  \n"
   ]
  },
  {
   "cell_type": "markdown",
   "metadata": {},
   "source": [
    "2) Realizar una descripción de la base levantada. ¿Existen variables que sean categóricas? Si es así ¿pueden ser usadas en un modelo?  \n",
    "3) Realizar una separación de la base en un 70% para entrenar y un 30% para validar.  \n",
    "4) Crear un árbol de decisión de clasificación con todos sus hiperparámetros por defecto.  \n",
    "5) Qué *accuracy* posee el modelo creado en el punto 4).  \n",
    "6) Modificar el parámetro max_depth a 3. ¿El *accuracy* de este modelo es mejor o peor que el obtenido en el punto 5)?.  \n",
    "7) Graficar el árbol creado en el punto 6).  \n",
    "8) Cuál es la variable por la que el modelo del punto 6) cortó primero? (Primera Variable del Árbol).  \n",
    "\n",
    "### Puntos Extras ###\n",
    "9) Construir la curva ROC del modelo creado en el punto 6)  \n",
    "10) Crear un modelo cambiando algún hiperparámetro que se desee que de un mayor valor de *accuracy* que en el punto 6)."
   ]
  },
  {
   "cell_type": "markdown",
   "metadata": {},
   "source": []
  }
 ],
 "metadata": {
  "language_info": {
   "name": "python"
  },
  "orig_nbformat": 4
 },
 "nbformat": 4,
 "nbformat_minor": 2
}
