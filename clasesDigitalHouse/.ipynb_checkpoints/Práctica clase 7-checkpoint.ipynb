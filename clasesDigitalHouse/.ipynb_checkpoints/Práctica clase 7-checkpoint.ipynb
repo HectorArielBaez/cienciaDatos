{
 "cells": [
  {
   "cell_type": "markdown",
   "metadata": {},
   "source": [
    "## Ejercicios"
   ]
  },
  {
   "cell_type": "markdown",
   "metadata": {},
   "source": [
    "1) Levantar la base **Customer-Churn-Records.csv** que posee los siguientes campos:  \n",
    "a) RowNumber: Correponde a la posición del registro en la base. No debería tener ningún efecto con el output  \n",
    "b) CustomerId: Es el id del cliente.  \n",
    "c) Surname: Apellido del cliente.  \n",
    "d) CreditScore: Score crediticio del cliente.  \n",
    "e) Geography: Locación del cliente.  \n",
    "f) Gender: Género del cliente.  \n",
    "g) Age: Edad del cliente.  \n",
    "h) Tenure: Número de años que el cliente se encuentra relacionado al banco.  \n",
    "i) Balance: Balance en las cuentas.  \n",
    "j) NumOfProducts: Cantidad de productos que posee el cliente con el banco.  \n",
    "k) HasCrCard: Si el cliente posee o no tarjeta de crédito.  \n",
    "l) IsActiveMember: Si el cliente es un cliente activo, es decir, realiza transacciones con el banco.  \n",
    "m) EstimatedSalary: Salario estimado del cliente.  \n",
    "n) Exited: (Target de la base) Indica si el cliente se dio de baja o no.  \n",
    "o) Complain: Si el cliente tiene quejas o no.  \n",
    "p) Satisfaction Score: Score de satisfacción del cliente.  \n",
    "q) Card Type: Tipo de tarjeta de crédito que posee el cliente.  \n",
    "r) Points Earned: Puntos ganados por los clientes usando su tarjeta de crédito.  \n"
   ]
  },
  {
   "cell_type": "markdown",
   "metadata": {},
   "source": [
    "2) Realizar una descripción de la base levantada. ¿Existen variables que sean categóricas? Si es así ¿pueden ser usadas en un modelo?  \n",
    "3) Realizar una separación de la base en un 70% para entrenar y un 30% para validar.  \n",
    "4) Crear un árbol de decisión de clasificación con todos sus hiperparámetros por defecto y calcular el accuracy.\n",
    "5) Qué Curva ROC y área bajo la curva obtenemos del modelo de punto 4).  \n",
    "6) Modificar el parámetro max_depth a 5. ¿El *área bajo la curva roc* de este modelo es mejor o peor que el obtenido en el punto 5)?.  \n",
    "7) Crear otro modelo pero cuya profundidad (max_depth) sea igual a 4.  \n",
    "8) Calcular el recall y el recall del modelo generado en el punto 7.\n",
    "\n",
    "### Puntos Extras ###\n",
    "9) Crear un modelo de random forest con 500 árboles. Calcular La curva ROC y el área bajo la curva. ¿Es mejor o peor que el modelo creado en el punto 4 y en el punto 6.  \n",
    "10) Crear un modelo de lightgbm, con los parámetros por defecto. Si calculamos el Accuracy y lo comparamos con el accuracy del punto 4, ¿mejoró?"
   ]
  },
  {
   "cell_type": "markdown",
   "metadata": {},
   "source": []
  }
 ],
 "metadata": {
  "kernelspec": {
   "display_name": "Python 3 (ipykernel)",
   "language": "python",
   "name": "python3"
  },
  "language_info": {
   "codemirror_mode": {
    "name": "ipython",
    "version": 3
   },
   "file_extension": ".py",
   "mimetype": "text/x-python",
   "name": "python",
   "nbconvert_exporter": "python",
   "pygments_lexer": "ipython3",
   "version": "3.10.11"
  }
 },
 "nbformat": 4,
 "nbformat_minor": 4
}
