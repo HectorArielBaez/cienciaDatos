{
 "cells": [
  {
   "cell_type": "markdown",
   "id": "894cf6bd-e746-4991-b6bd-102caea33e56",
   "metadata": {},
   "source": [
    "## Ejercicios"
   ]
  },
  {
   "cell_type": "markdown",
   "id": "ca533a16-bdcd-496b-8d41-2b7bd71aafe7",
   "metadata": {},
   "source": [
    "1) Subir la base Titanic a Databricks.   \n",
    "2) Mostrar las primeras 5 filas en pantalla.   \n",
    "3) ¿Cuántos registros tenemos en la base? ¿Qué comando utilizamos para obtener dicho valor?     \n",
    "4) ¿Cuál es el valor medio de del campo Fare para aquellas personas que no fallecieron? ¿Tiene algún tipo de correlación con la clase de la persona?    \n",
    "5) Renombrar la columna \"PassengerId\" por \"passengerId\"  \n",
    "6) Transformar el campo Embarked. Para los valores que figuran \"C\" asignar el valor Cherbourg, para los valores \"Q\", asignar el valor Queenstown y para el valor \"S\", asignar el valor Southampton\n",
    "7) Eliminar la variable \"Cabin\".   \n",
    "8) Calcular la Mediana de la edad abierto por Puerto de embarcación y por Género.   \n",
    "9) Crear una variable que indique los deciles del campo \"Fare\".   \n"
   ]
  }
 ],
 "metadata": {
  "kernelspec": {
   "display_name": "Python 3 (ipykernel)",
   "language": "python",
   "name": "python3"
  },
  "language_info": {
   "codemirror_mode": {
    "name": "ipython",
    "version": 3
   },
   "file_extension": ".py",
   "mimetype": "text/x-python",
   "name": "python",
   "nbconvert_exporter": "python",
   "pygments_lexer": "ipython3",
   "version": "3.10.11"
  }
 },
 "nbformat": 4,
 "nbformat_minor": 5
}
