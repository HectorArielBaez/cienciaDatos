{
  "cells": [
    {
      "cell_type": "markdown",
      "metadata": {},
      "source": [
        "<a href=\"https://colab.research.google.com/github/dieguito1331/cienciaDatos/blob/master/posgrado/practica/01 - Ejercicio - Python.ipynb\" target=\"_parent\"><img src=\"https://colab.research.google.com/assets/colab-badge.svg\" alt=\"Open In Colab\"/></a>"
      ]
    },
    {
      "cell_type": "markdown",
      "metadata": {
        "id": "L7zDuRLiLzxS"
      },
      "source": [
        "## Ejercicio ##\n",
        "1) ¿Cuál es la diferencia entre un array y una tupla?. Nombrar un caso de uso para cada uno de estos tipos de datos.\n",
        "\n",
        "2) Tengo el siguiente array:\n",
        "array = [1,2,3,4,5]\n",
        "\n",
        "Quiero imprimir el cuadrado de cada valor por pantalla. Desarrollar el código para realizarlo.\n",
        "\n",
        "3) Tengo el diccionario:\n",
        "diccionario = {\"key1\": 1, \"key2\": \"hola\"}\n",
        "\n",
        "Quiero modificar la clave \"key1\" y asignarle el valor \"chau\", ¿se puede?, si es así desarrollar el código para hacerlo\n",
        "\n",
        "4) Tengo la tupla: tupla = (1,2,3,4)\n",
        "\n",
        "Quiero modificar la 4 posición por un 7. ¿Se puede?. Si es así, desarrollar el código para hacerlo.\n",
        "\n",
        "5) Tengo el siguiente array: array = [1,2,\"hola\",4]. Imprimir en pantalla \"hola\"\n",
        "\n",
        "6) teniendo el array: array = [0,1,2,3,4,5,6,7,8]. Imprimir el cuadrado de elemento del array, mientras el elemento sea menor o igual a 6.\n",
        "\n",
        "7) Imprimir la longitud del array del punto 6)\n",
        "\n",
        "\n",
        "Bonus Track:\n",
        "\n",
        "1) Teniendo el siguiente array: array = [0,1,2,3,4,5,6,7,8,9,10,11,12,13].\n",
        "\n",
        "Imprimir cada Una línea cada 3 elementos, La línea tiene que contener siempre 3 elementos, si no se llega a tener 3 elementos para imprimir la línea, no imprimirla. Un ejemplo de impresión sería \"0, 1, 2\", otra línea debería ser \"3, 4, 5\"\n",
        "\n",
        "\n"
      ]
    }
  ],
  "metadata": {
    "colab": {
      "provenance": [],
      "toc_visible": true
    },
    "kernelspec": {
      "display_name": "Python 3",
      "name": "python3"
    },
    "language_info": {
      "name": "python"
    }
  },
  "nbformat": 4,
  "nbformat_minor": 0
}
