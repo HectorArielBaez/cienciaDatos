{
  "cells": [
    {
      "cell_type": "markdown",
      "id": "59f6bef0-6844-4e04-92ed-97b3281af7f5",
      "metadata": {
        "id": "59f6bef0-6844-4e04-92ed-97b3281af7f5"
      },
      "source": [
        "## Ejercicios"
      ]
    },
    {
      "cell_type": "markdown",
      "id": "64ad0dd1-34fb-42aa-84a1-48d9b200d641",
      "metadata": {
        "id": "64ad0dd1-34fb-42aa-84a1-48d9b200d641"
      },
      "source": [
        "1) Levantar la base de Titanic.  \n",
        "2) Realizar una breve descripción de las variables.   \n",
        "3) ¿Cuál es la mediana de la edad de las personas que fallecen?   \n",
        "4) ¿Existen variables con valores faltantes? Si la variable posee menos del 20% de los faltantes, realizar algun tratamiento para poder imputar valores. Si el faltante es mayor, eliminar la columna.   \n",
        "5) Convertir la variable Embarked es una variable dummy.\n",
        "6) La/s variable/s creadas en el punto 5 renombrarlas agregando un sufijo \"Embarked_\" y el nombre de la columna.  \n",
        "6) Eliminar la variable \"Embarked\".   \n",
        "7) Crear un gráfico de tortas mostrando la cantidad de pasajeros abierto por Género.   \n",
        "8) Crear una variable que indique los deciles del campo \"Fare\".   \n"
      ]
    },
    {
      "cell_type": "code",
      "source": [],
      "metadata": {
        "id": "cFB9KN7GIyFd"
      },
      "id": "cFB9KN7GIyFd",
      "execution_count": null,
      "outputs": []
    }
  ],
  "metadata": {
    "kernelspec": {
      "display_name": "Python 3 (ipykernel)",
      "language": "python",
      "name": "python3"
    },
    "language_info": {
      "codemirror_mode": {
        "name": "ipython",
        "version": 3
      },
      "file_extension": ".py",
      "mimetype": "text/x-python",
      "name": "python",
      "nbconvert_exporter": "python",
      "pygments_lexer": "ipython3",
      "version": "3.10.11"
    },
    "colab": {
      "provenance": []
    }
  },
  "nbformat": 4,
  "nbformat_minor": 5
}