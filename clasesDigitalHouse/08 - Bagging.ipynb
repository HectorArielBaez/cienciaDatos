{
 "cells": [
  {
   "cell_type": "markdown",
   "id": "WDRaAKEgjKA6",
   "metadata": {
    "id": "WDRaAKEgjKA6"
   },
   "source": [
    "# **Ensembles**\n",
    "Los modelos estadísticos y de Machine Learning poseen un problema que es el equilibrio entre el sesgo (bias) y la varianza (variance)  \n",
    "El concepto de **sesgo** hace referencia a cuánto en promedio los valores con respecto a los valores reales. Es decir, nos dice qué tan real es la relación que encontró entre los predictores y la variable respuesta.  \n",
    "El término varianza nos dice cuánto cambia el modelo dependiendo de los datos utilizados en el entrenamiento. Lo que uno espera que un modelo pueda _**generalizar**_ su comportamiento, es decir, que con observaciones sucesivas (diferentes a las que se utilizó en el entrenamiento) el modelo no varíe demasiado sus resultados.  \n",
    "A medida que se aumenta la complejidad del modelo, éste logra adaptarse mejor a la realidad que se debe modelar, no obstante, si esta complejidad no es medida, puede aparecer un concepto denominado _overfitting_, esto significa que el modelo se ajusta tanto a los datos de entrenamiento que no es capaz de identificar nuevas observaciones. Por tal motivo, el mejor modelo será aquel que pueda equilibrar de la mejor manera el sesgo y la varianza.  \n",
    "La gran pregunta será, ¿cómo puedo controlar el sesgo y la varianza? Los árboles pequeños tienen poca varianza pero consiguen representar bien la relación entre las variables (alto sesgo). Por el contrario, árboles grandes se ajustan mucho a los datos de entrenamiento, por ende el sesgo es bajo pero la varianza es muy alta. Un método para resolver esta problemática es trabajar con métodos de _ensembles_.  \n",
    "Los **ensembles** son métodos que combinan múltiples modelos en uno sólo que tienen como objetivo lograr un equilibrio entre el sesgo y la varianza. Los dos ensembles más utilizados son:\n",
    "-  **Bagging**: Se generan muchos modelos, con un subconjunto distinto de datos para cada uno de los mismo. (Estos subconjuntos son armados en base a los datos de entrenamiento). Todos los modelos aportan a la hora de dar el _veredicto_ final, siendo así el valor final como la media de todas las predicciones(variables continuas) o la clase más frecuente (variables categóricas). El modelo más utilizado de esta técnica se denomina **Random Forest**\n",
    "- En el bagging se emplean modelos con muy poco sesgo pero muchísima varianza, lo que agregando dichos modelos se loggra reducir dicha varianza sin apenas modificar el sesgo.\n",
    "- En cambio en el boosting se emplean modelos con muy poca varianza pero mucho sesgo, que ajustanto secuencialmente, los modelos reducen.\n",
    "\n",
    "En el bagging la forma de tomar muestras aleatorias sobre la base de entrenamiento se realiza sobre la técnica de bootstraping. En los modelos boosting se ajustan los pesos de cad modelo en base a cada iteración.\n",
    "\n",
    "Estos tipos de modelos tienen un gran resultado en comparación de otros modelos más clásicos (por ejemplo regresiones logísticas, etc) pero se pierde un poco la interpretabilidad de los modelos. \n",
    "\n",
    "## **Bagging** (Bootstrap aggregation)\n",
    "Dadas $n$ mestras de observaciones independientes $Z_1, .., >_n$, cada una con una varianza $\\epsilon^2$, la varianza de la media de las observaciones es de $\\epsilon^2/n$. Dicho de otra forma, al promediar un con junto de observaciones, se reduce la varianza.  \n",
    "El Random Forest es una implementación del método Bagging con una diferencia, utiliza además una selección m predictores para cada una de las muestras armadas.\n",
    "\n",
    "![imagen](https://miro.medium.com/max/722/1*zbA_Ebgi1AC1dY5gpvHXdg.png)\n",
    "\n",
    "\n",
    "**Principales pasos relacionados al modelo Bagging**:\n",
    "- Creación de múltipes datasets: Sobre un único data set se crean n subdatasets, cada muestreo se realiza con la técnica de bootstrap con repetición. La cantidad de subsets será igual a la cantidad de iteraciones o clasificadores / regresores que se armen.\n",
    "- Construcción de múltiples clasificadores / regresores: Con cada una de las muestras creadas se arman los diferentes modelos. \n",
    "- Combinación de los modelos: Las predicciones de los modelos individuales se combinan para obtener un único resultado \n",
    "\n",
    "\n",
    "### bootstrapping \n",
    "source: [towardsdatascience.com](https://deepnote.com/@a_mas/Bootstrapping-en-Python-9ad885fd-c261-475e-b2b7-6461fd65490a)\n",
    "\n",
    "\n",
    "![imagen](https://deepnote.com/publish/9ad885fd-c261-475e-b2b7-6461fd65490a/14fd44ff-2902-4239-8cc6-0a3e073b1da8/file?path=bootstrapping.jpeg)\n",
    "\n",
    "El bootstrapping (o bootstrap) es un método de remuestreo propuesto por Bradley Efron en 1979. Se utiliza para aproximar la distribución en el muestreo de un estadístico. Se usa frecuentemente para aproximar el sesgo o la varianza de un análisis estadístico, así como para construir intervalos de confianza o realizar contrastes de hipótesis sobre parámetros de interés. En la mayor parte de los casos no pueden obtenerse expresiones cerradas para las aproximaciones bootstrap y por lo tanto es necesario obtener remuestras en un ordenador para poner a prueba el método. La enorme potencia de cálculo de los ordenadores actuales facilita considerablemente la aplicabilidad de este método tan costoso computacionalmente.\n",
    "\n",
    "La idea básica de bootstrap es que la inferencia sobre una población a partir de datos de muestra, (muestra → población), puede ser modelada mediante un nuevo muestreo de los datos de la muestra y realizando la inferencia sobre una muestra a partir de datos remuestreados. Como la población es desconocida, el verdadero error en una muestra estadística contra su valor poblacional es desconocido. En las re-muestras de bootstrap, la 'población' es de hecho la muestra, y esto se conoce; por lo tanto, se puede medir la calidad de la inferencia de la muestra \"verdadera\" a partir de datos remuestreados, (muestra re-muestreada)."
   ]
  },
  {
   "cell_type": "markdown",
   "id": "BNCMTD8mehum",
   "metadata": {
    "id": "BNCMTD8mehum"
   },
   "source": [
    "## implementación de Bootstrap en python"
   ]
  },
  {
   "cell_type": "code",
   "execution_count": 1,
   "id": "275-0ALMel1U",
   "metadata": {
    "id": "275-0ALMel1U"
   },
   "outputs": [],
   "source": [
    "import numpy as np\n",
    "import random"
   ]
  },
  {
   "cell_type": "code",
   "execution_count": 2,
   "id": "hiqS4-feeofC",
   "metadata": {
    "colab": {
     "base_uri": "https://localhost:8080/"
    },
    "id": "hiqS4-feeofC",
    "outputId": "cb040887-f42b-41e6-87a9-03563225c500"
   },
   "outputs": [
    {
     "data": {
      "text/plain": [
       "array([25.6853657 , 26.45923714, 24.398483  , ..., 25.71397536,\n",
       "       23.50712237, 26.63707162])"
      ]
     },
     "execution_count": 2,
     "metadata": {},
     "output_type": "execute_result"
    }
   ],
   "source": [
    "# Creamos una muestra aleatoria de 50.0000 personas que tienen una edad promedio de 25 años\n",
    "data = np.random.normal(loc = 25, size = 50000)\n",
    "data"
   ]
  },
  {
   "cell_type": "code",
   "execution_count": 3,
   "id": "NJa9aZ8Heoht",
   "metadata": {
    "colab": {
     "base_uri": "https://localhost:8080/"
    },
    "id": "NJa9aZ8Heoht",
    "outputId": "cecaabda-6666-47a4-a606-6fc8e72210ef"
   },
   "outputs": [
    {
     "data": {
      "text/plain": [
       "24.992814125585774"
      ]
     },
     "execution_count": 3,
     "metadata": {},
     "output_type": "execute_result"
    }
   ],
   "source": [
    "#Calculamos el promedio\n",
    "data.mean()"
   ]
  },
  {
   "cell_type": "code",
   "execution_count": 16,
   "id": "lw1iZHOxeomC",
   "metadata": {
    "id": "lw1iZHOxeomC"
   },
   "outputs": [],
   "source": [
    "# Vamos a crear 500 muestras de tamaño 10 para estimar el promedio\n",
    "promedio = []\n",
    "for i in range(500):\n",
    "    muestra = random.sample(data.tolist(), 100)\n",
    "    prom = np.mean(muestra)\n",
    "    promedio.append(prom)"
   ]
  },
  {
   "cell_type": "code",
   "execution_count": 17,
   "id": "RBfMxYJJeooZ",
   "metadata": {
    "colab": {
     "base_uri": "https://localhost:8080/"
    },
    "id": "RBfMxYJJeooZ",
    "outputId": "b714250f-7b9a-49cf-a3ed-66371aa83463"
   },
   "outputs": [
    {
     "data": {
      "text/plain": [
       "24.992252604635087"
      ]
     },
     "execution_count": 17,
     "metadata": {},
     "output_type": "execute_result"
    }
   ],
   "source": [
    "np.mean(promedio)    "
   ]
  },
  {
   "cell_type": "code",
   "execution_count": 1,
   "id": "x8KqR0zMg_qb",
   "metadata": {
    "id": "x8KqR0zMg_qb"
   },
   "outputs": [],
   "source": [
    "import pandas as pd\n",
    "from sklearn.model_selection import train_test_split\n",
    "from sklearn.ensemble import RandomForestClassifier\n",
    "from sklearn.tree import DecisionTreeClassifier\n",
    "import os\n",
    "\n",
    "\n",
    "import pandas as pd\n",
    "import numpy as np\n",
    "#Este seteo de pandas sirve para que se puedan visualizar todas las columnas\n",
    "#del dataframe#############################\n",
    "pd.set_option('display.max_columns', None)#\n",
    "###########################################\n",
    "\n",
    "#Esta librería sirve para que oculte todo tipo de warnings que puedan \n",
    "#aparecer en el código. Generalmente si una función está por ser data de \n",
    "#baja o modificada en una librería, varias versiones antes aparecen estos\n",
    "#tipos de advertencias cuando se ejecuta el código\n",
    "import warnings###################\n",
    "warnings.filterwarnings(\"ignore\")#\n",
    "##################################\n",
    "\n",
    "#La función train_test_split sirve para dividir la base en dos partes\n",
    "#Train y test para poder entrenar y validar un modelo#\n",
    "from sklearn.model_selection import train_test_split##\n",
    "######################################################\n",
    "\n",
    "#Definimos las métricas\n",
    "from sklearn.metrics import confusion_matrix, accuracy_score, recall_score, precision_score, roc_auc_score, roc_curve\n",
    "\n",
    "import matplotlib.pyplot as plt\n",
    "\n",
    "#Importo Random Forest\n",
    "from sklearn.ensemble import RandomForestClassifier\n",
    "\n",
    "import os\n"
   ]
  },
  {
   "cell_type": "markdown",
   "id": "z4luYBawkk18",
   "metadata": {
    "id": "z4luYBawkk18"
   },
   "source": [
    "### Levanto la base "
   ]
  },
  {
   "cell_type": "code",
   "execution_count": 2,
   "id": "0d0c7918-3c92-4674-982c-b885921344a4",
   "metadata": {
    "id": "0d0c7918-3c92-4674-982c-b885921344a4"
   },
   "outputs": [],
   "source": [
    "#Levantamos la base\n",
    "data = pd.read_csv(\"./Data/titanic_train.txt\")\n",
    "data = data.drop(columns = [\"Cabin\"])\n",
    "data['titulo']=data['Name'].map(lambda x:x.split(',')[1].split('.')[0].strip())\n",
    "tituloEdad = data[data.Age.isnull() == False].groupby(\"titulo\").agg({\"Age\": \"mean\"}).reset_index()\n",
    "tituloEdad = tituloEdad.rename(columns={\"Age\": \"Age_Mean\"})\n",
    "data = pd.merge(data, tituloEdad, how=\"left\", on=\"titulo\")\n",
    "data[\"Age\"] = np.where((data.Age.isnull()) & (data.titulo != \"Mr\"), data.Age_Mean, data.Age)\n",
    "\n",
    "medianAge = data[data.Age.isnull() == False].groupby([\"Pclass\", \"Embarked\"]).agg( {\"Age\": \"median\"}).reset_index().rename(columns = {\"Age\": \"medianAge\"})\n",
    "data = pd.merge(data, medianAge, how=\"left\", on = [\"Pclass\", \"Embarked\"])\n",
    "data[\"Age\"] = np.where(data.Age.isnull(), data.medianAge, data.Age)\n",
    "data = data.drop(columns = [\"medianAge\", \"Age_Mean\"])\n",
    "\n",
    "data[\"Embarked\"] = np.where(data.Embarked.isnull(), data.Embarked.mode().values[0], data.Embarked)\n",
    "\n",
    "medianAge = data.groupby(\"titulo\").agg( {\"Age\": \"median\"}).reset_index().rename(columns = {\"Age\": \"medianAge\"})\n",
    "data = pd.merge(data, medianAge, how=\"left\", on = \"titulo\")\n",
    "data[\"ageRatioTitle\"] = data.Age / data.medianAge\n",
    "data.drop(columns=[\"medianAge\"], inplace = True)\n",
    "\n",
    "data = data.join(pd.get_dummies(data[\"Embarked\"]).astype(int))\n",
    "data = data.join(pd.get_dummies(data[\"Sex\"]).astype(int))\n",
    "data.drop(columns=[\"Embarked\", \"titulo\", \"Ticket\", \"Name\", \"Sex\"], inplace = True)"
   ]
  },
  {
   "cell_type": "code",
   "execution_count": 3,
   "id": "886cf107-7c8b-474f-8b59-1f0b5ed41ecd",
   "metadata": {
    "colab": {
     "base_uri": "https://localhost:8080/",
     "height": 206
    },
    "id": "886cf107-7c8b-474f-8b59-1f0b5ed41ecd",
    "outputId": "748dd4f8-c6b5-47f7-bf36-8b3ccf2a81a1"
   },
   "outputs": [
    {
     "data": {
      "text/html": [
       "<div>\n",
       "<style scoped>\n",
       "    .dataframe tbody tr th:only-of-type {\n",
       "        vertical-align: middle;\n",
       "    }\n",
       "\n",
       "    .dataframe tbody tr th {\n",
       "        vertical-align: top;\n",
       "    }\n",
       "\n",
       "    .dataframe thead th {\n",
       "        text-align: right;\n",
       "    }\n",
       "</style>\n",
       "<table border=\"1\" class=\"dataframe\">\n",
       "  <thead>\n",
       "    <tr style=\"text-align: right;\">\n",
       "      <th></th>\n",
       "      <th>PassengerId</th>\n",
       "      <th>Survived</th>\n",
       "      <th>Pclass</th>\n",
       "      <th>Age</th>\n",
       "      <th>SibSp</th>\n",
       "      <th>Parch</th>\n",
       "      <th>Fare</th>\n",
       "      <th>ageRatioTitle</th>\n",
       "      <th>C</th>\n",
       "      <th>Q</th>\n",
       "      <th>S</th>\n",
       "      <th>female</th>\n",
       "      <th>male</th>\n",
       "    </tr>\n",
       "  </thead>\n",
       "  <tbody>\n",
       "    <tr>\n",
       "      <th>0</th>\n",
       "      <td>1</td>\n",
       "      <td>0</td>\n",
       "      <td>3</td>\n",
       "      <td>22.0</td>\n",
       "      <td>1</td>\n",
       "      <td>0</td>\n",
       "      <td>7.2500</td>\n",
       "      <td>0.785714</td>\n",
       "      <td>0</td>\n",
       "      <td>0</td>\n",
       "      <td>1</td>\n",
       "      <td>0</td>\n",
       "      <td>1</td>\n",
       "    </tr>\n",
       "    <tr>\n",
       "      <th>1</th>\n",
       "      <td>2</td>\n",
       "      <td>1</td>\n",
       "      <td>1</td>\n",
       "      <td>38.0</td>\n",
       "      <td>1</td>\n",
       "      <td>0</td>\n",
       "      <td>71.2833</td>\n",
       "      <td>1.058550</td>\n",
       "      <td>1</td>\n",
       "      <td>0</td>\n",
       "      <td>0</td>\n",
       "      <td>1</td>\n",
       "      <td>0</td>\n",
       "    </tr>\n",
       "    <tr>\n",
       "      <th>2</th>\n",
       "      <td>3</td>\n",
       "      <td>1</td>\n",
       "      <td>3</td>\n",
       "      <td>26.0</td>\n",
       "      <td>0</td>\n",
       "      <td>0</td>\n",
       "      <td>7.9250</td>\n",
       "      <td>1.194086</td>\n",
       "      <td>0</td>\n",
       "      <td>0</td>\n",
       "      <td>1</td>\n",
       "      <td>1</td>\n",
       "      <td>0</td>\n",
       "    </tr>\n",
       "    <tr>\n",
       "      <th>3</th>\n",
       "      <td>4</td>\n",
       "      <td>1</td>\n",
       "      <td>1</td>\n",
       "      <td>35.0</td>\n",
       "      <td>1</td>\n",
       "      <td>0</td>\n",
       "      <td>53.1000</td>\n",
       "      <td>0.974981</td>\n",
       "      <td>0</td>\n",
       "      <td>0</td>\n",
       "      <td>1</td>\n",
       "      <td>1</td>\n",
       "      <td>0</td>\n",
       "    </tr>\n",
       "    <tr>\n",
       "      <th>4</th>\n",
       "      <td>5</td>\n",
       "      <td>0</td>\n",
       "      <td>3</td>\n",
       "      <td>35.0</td>\n",
       "      <td>0</td>\n",
       "      <td>0</td>\n",
       "      <td>8.0500</td>\n",
       "      <td>1.250000</td>\n",
       "      <td>0</td>\n",
       "      <td>0</td>\n",
       "      <td>1</td>\n",
       "      <td>0</td>\n",
       "      <td>1</td>\n",
       "    </tr>\n",
       "  </tbody>\n",
       "</table>\n",
       "</div>"
      ],
      "text/plain": [
       "   PassengerId  Survived  Pclass   Age  SibSp  Parch     Fare  ageRatioTitle  \\\n",
       "0            1         0       3  22.0      1      0   7.2500       0.785714   \n",
       "1            2         1       1  38.0      1      0  71.2833       1.058550   \n",
       "2            3         1       3  26.0      0      0   7.9250       1.194086   \n",
       "3            4         1       1  35.0      1      0  53.1000       0.974981   \n",
       "4            5         0       3  35.0      0      0   8.0500       1.250000   \n",
       "\n",
       "   C  Q  S  female  male  \n",
       "0  0  0  1       0     1  \n",
       "1  1  0  0       1     0  \n",
       "2  0  0  1       1     0  \n",
       "3  0  0  1       1     0  \n",
       "4  0  0  1       0     1  "
      ]
     },
     "execution_count": 3,
     "metadata": {},
     "output_type": "execute_result"
    }
   ],
   "source": [
    "data.head()"
   ]
  },
  {
   "cell_type": "markdown",
   "id": "mue7s6xvNs5Y",
   "metadata": {
    "id": "mue7s6xvNs5Y"
   },
   "source": [
    "### Documentación de Scikit Learn\n",
    "\n",
    "*La* documentación de la implementación del árbol de decisión de Sklearn se encuentra [aqui](https://scikit-learn.org/stable/modules/generated/sklearn.tree.DecisionTreeClassifier.html)"
   ]
  },
  {
   "cell_type": "markdown",
   "id": "ElSZIrQ2OLzv",
   "metadata": {
    "id": "ElSZIrQ2OLzv"
   },
   "source": [
    "### Divido la base\n",
    "Divido la base en dos partes, una parte para entrenar el modelo (la llamaré train) y otra parte con la que testearé el modelo (la llamaré test)  \n",
    "Utilizo una función de la librería scikit que se denomina train_test_split() y la documentación la pueden entrondar [aqui](https://scikit-learn.org/stable/modules/generated/sklearn.model_selection.train_test_split.html)"
   ]
  },
  {
   "cell_type": "code",
   "execution_count": 4,
   "id": "h9oBW-cTON-f",
   "metadata": {
    "id": "h9oBW-cTON-f"
   },
   "outputs": [],
   "source": [
    "X = data.drop(columns = [\"PassengerId\", \"Survived\"])\n",
    "y = data.Survived\n",
    "X_train, X_test, y_train, y_test = train_test_split(X, y, test_size=0.30, random_state=42)"
   ]
  },
  {
   "cell_type": "code",
   "execution_count": 5,
   "id": "4efb6134-70cc-447c-ab13-042e2c304209",
   "metadata": {
    "colab": {
     "base_uri": "https://localhost:8080/"
    },
    "id": "4efb6134-70cc-447c-ab13-042e2c304209",
    "outputId": "49c6fbf1-f619-473b-fa1d-3fc6eb7ac14b"
   },
   "outputs": [
    {
     "name": "stdout",
     "output_type": "stream",
     "text": [
      "Registros de la base de entrenamiento: 623, que es el 0.6992143658810326 de la base total\n",
      "Registros de la base de testeo: 268, que es el 0.30078563411896747 de la base total\n"
     ]
    }
   ],
   "source": [
    "print(\"Registros de la base de entrenamiento: {}, que es el {} de la base total\".format(len(X_train), len(X_train)/len(X)))\n",
    "print(\"Registros de la base de testeo: {}, que es el {} de la base total\".format(len(X_test), len(X_test)/len(X)))"
   ]
  },
  {
   "cell_type": "markdown",
   "id": "04lOm3tgOpPw",
   "metadata": {
    "id": "04lOm3tgOpPw"
   },
   "source": [
    "### Entreno el modelo"
   ]
  },
  {
   "cell_type": "code",
   "execution_count": 6,
   "id": "BMu2TktMldsj",
   "metadata": {
    "id": "BMu2TktMldsj"
   },
   "outputs": [],
   "source": [
    "rfModel = RandomForestClassifier().fit(X_train, y_train)\n",
    "rfProbs = rfModel.predict_proba(X_test)[:,-1]"
   ]
  },
  {
   "cell_type": "markdown",
   "id": "CxByuE6NkSfA",
   "metadata": {
    "id": "CxByuE6NkSfA"
   },
   "source": [
    "## Calculo el _accuracy_ del modelo"
   ]
  },
  {
   "cell_type": "code",
   "execution_count": 7,
   "id": "f0dc0de1-54d4-4445-a09e-a0e00ede9619",
   "metadata": {
    "colab": {
     "base_uri": "https://localhost:8080/"
    },
    "id": "f0dc0de1-54d4-4445-a09e-a0e00ede9619",
    "outputId": "e418bf5d-917e-481e-f75c-8e85f5266915"
   },
   "outputs": [
    {
     "data": {
      "text/plain": [
       "0.7835820895522388"
      ]
     },
     "execution_count": 7,
     "metadata": {},
     "output_type": "execute_result"
    }
   ],
   "source": [
    "accuracy_score(y_test, rfProbs > 0.5)"
   ]
  },
  {
   "cell_type": "markdown",
   "id": "YavZ_PFakbNW",
   "metadata": {
    "id": "YavZ_PFakbNW"
   },
   "source": [
    "## Genero el gráfico de la curva ROC para el modelo de Random Forest"
   ]
  },
  {
   "cell_type": "code",
   "execution_count": 8,
   "id": "2c30ac95-20fd-4eff-a3db-7579171fae0d",
   "metadata": {
    "colab": {
     "base_uri": "https://localhost:8080/",
     "height": 621
    },
    "id": "2c30ac95-20fd-4eff-a3db-7579171fae0d",
    "outputId": "8b39e858-bbe2-465e-e3ea-b228688a8191"
   },
   "outputs": [
    {
     "data": {
      "image/png": "[encoded data removed]",
      "text/plain": [
       "<Figure size 1000x1000 with 1 Axes>"
      ]
     },
     "metadata": {},
     "output_type": "display_data"
    }
   ],
   "source": [
    "#De esta forma graficamos la curva ROC y calculamos el área debajo de la curva\n",
    "areaBajoCurvaRoc = roc_auc_score(y_test, rfProbs)\n",
    "fpr, tpr, _ = roc_curve(y_test, rfProbs)\n",
    "plt.figure(figsize=(10,10))\n",
    "plt.title(\"Grafico ROC para el modelo\")\n",
    "plt.plot(fpr, tpr)\n",
    "plt.plot([0,1])\n",
    "plt.xlabel('FPR')\n",
    "plt.ylabel('TPR')\n",
    "plt.annotate('Area bajo la curva ROC del modelo: {}'.format(areaBajoCurvaRoc), (-0.02,0.99))\n",
    "plt.show()"
   ]
  },
  {
   "cell_type": "markdown",
   "id": "5xo8SNXnko-X",
   "metadata": {
    "id": "5xo8SNXnko-X"
   },
   "source": [
    "## Creo el gráfico _Feature Importance_"
   ]
  },
  {
   "cell_type": "code",
   "execution_count": 9,
   "id": "68a22994-cfc0-4810-a38b-1b2d6366f5be",
   "metadata": {
    "colab": {
     "base_uri": "https://localhost:8080/",
     "height": 655
    },
    "id": "68a22994-cfc0-4810-a38b-1b2d6366f5be",
    "outputId": "77feb081-5ecf-40c6-87b7-750d43f2a774"
   },
   "outputs": [
    {
     "data": {
      "text/plain": [
       "([<matplotlib.axis.XTick at 0x1d66131afb0>,\n",
       "  <matplotlib.axis.XTick at 0x1d66131af80>,\n",
       "  <matplotlib.axis.XTick at 0x1d6612ef5b0>,\n",
       "  <matplotlib.axis.XTick at 0x1d6612718d0>,\n",
       "  <matplotlib.axis.XTick at 0x1d661270460>,\n",
       "  <matplotlib.axis.XTick at 0x1d661270f40>,\n",
       "  <matplotlib.axis.XTick at 0x1d661271d50>,\n",
       "  <matplotlib.axis.XTick at 0x1d6612721a0>,\n",
       "  <matplotlib.axis.XTick at 0x1d660f67820>,\n",
       "  <matplotlib.axis.XTick at 0x1d660f67d30>,\n",
       "  <matplotlib.axis.XTick at 0x1d660f4f400>],\n",
       " [Text(0, 0, 'Fare'),\n",
       "  Text(1, 0, 'Age'),\n",
       "  Text(2, 0, 'male'),\n",
       "  Text(3, 0, 'ageRatioTitle'),\n",
       "  Text(4, 0, 'female'),\n",
       "  Text(5, 0, 'Pclass'),\n",
       "  Text(6, 0, 'SibSp'),\n",
       "  Text(7, 0, 'Parch'),\n",
       "  Text(8, 0, 'S'),\n",
       "  Text(9, 0, 'C'),\n",
       "  Text(10, 0, 'Q')])"
      ]
     },
     "execution_count": 9,
     "metadata": {},
     "output_type": "execute_result"
    },
    {
     "data": {
      "image/png": "[encoded data removed]",
      "text/plain": [
       "<Figure size 640x480 with 1 Axes>"
      ]
     },
     "metadata": {},
     "output_type": "display_data"
    }
   ],
   "source": [
    "#La importancia de las variables o feature importance nos permite identificar entre todos los modelos débiles que se generan las variables que más aparecen y te los pondera para \n",
    "#dar una explicación de las variables\n",
    "importances = rfModel.feature_importances_\n",
    "importances = importances / importances.sum()\n",
    "indices = np.argsort(importances)[::-1][0:20]\n",
    "names = [X_train.columns[i] for i in indices]\n",
    "plt.figure()\n",
    "plt.title(\"Feature Importance model 1\")\n",
    "plt.bar(range(len(names)), importances[indices])\n",
    "plt.xticks(range(len(names)), names, rotation=90)\n"
   ]
  },
  {
   "cell_type": "markdown",
   "id": "79fa6e8f",
   "metadata": {},
   "source": [
    "## Una forma para calcular mejores puntos de corte"
   ]
  },
  {
   "cell_type": "markdown",
   "id": "769183a9",
   "metadata": {},
   "source": [
    "La idea es poder encontrar un punto de corte que nos mejore las predicciones y así poder implementar los modelos.  \n",
    "Realizo dos divisiones:\n",
    "* La primera divido las probabilidades en 10 grupos (previo normalizo la probabilidad y la multiplico por 1000)  \n",
    "* La segunda división será por deciles en base a las probabilidades obtenidas en el modelo"
   ]
  },
  {
   "cell_type": "markdown",
   "id": "be5a33f3",
   "metadata": {},
   "source": [
    "Comienzo a realizar los cálculos.\n",
    "* Primero se realizar una sumarización de la variable que utilizamos como target (en nuestro caso se denomina _fallecido_. (casos positivos y total de casos\n",
    "* Segundo calculamos los % de fallecidos y no Fallecidos.\n",
    "* Ordenamos el dataset por deciles y realizamos la acumulación de los porcentajes "
   ]
  },
  {
   "cell_type": "code",
   "execution_count": 10,
   "id": "nAu1YqbKnLIr",
   "metadata": {
    "id": "nAu1YqbKnLIr"
   },
   "outputs": [],
   "source": [
    "\n",
    "X_test[\"probabilities\"] =  rfProbs\n",
    "#Normalizo el score\n",
    "X_test[\"normalizedScore\"] = X_test.probabilities * 1000\n",
    "#Armo los buckets cada 100 puntos\n",
    "X_test[\"bucket\"] = pd.cut(X_test.normalizedScore, np.array([0,100,200,300,400,500,600,700,800,900,1000]))\n",
    "#Armo los deciles por scores\n",
    "X_test['decile'] = pd.qcut(X_test.probabilities, 10, labels=False)\n",
    "\n"
   ]
  },
  {
   "cell_type": "code",
   "execution_count": 11,
   "id": "f6A0QpHYmdqd",
   "metadata": {
    "colab": {
     "base_uri": "https://localhost:8080/",
     "height": 394
    },
    "id": "f6A0QpHYmdqd",
    "outputId": "79b45fbf-13a8-4159-d53e-1f08affbfbe6"
   },
   "outputs": [
    {
     "data": {
      "text/html": [
       "<div>\n",
       "<style scoped>\n",
       "    .dataframe tbody tr th:only-of-type {\n",
       "        vertical-align: middle;\n",
       "    }\n",
       "\n",
       "    .dataframe tbody tr th {\n",
       "        vertical-align: top;\n",
       "    }\n",
       "\n",
       "    .dataframe thead th {\n",
       "        text-align: right;\n",
       "    }\n",
       "</style>\n",
       "<table border=\"1\" class=\"dataframe\">\n",
       "  <thead>\n",
       "    <tr style=\"text-align: right;\">\n",
       "      <th></th>\n",
       "      <th>Survived</th>\n",
       "      <th>Cases</th>\n",
       "      <th>notSurvived</th>\n",
       "      <th>% no Survived</th>\n",
       "      <th>% Survived</th>\n",
       "      <th>% no Survived acum.</th>\n",
       "      <th>% Survived acum.</th>\n",
       "    </tr>\n",
       "    <tr>\n",
       "      <th>decile</th>\n",
       "      <th></th>\n",
       "      <th></th>\n",
       "      <th></th>\n",
       "      <th></th>\n",
       "      <th></th>\n",
       "      <th></th>\n",
       "      <th></th>\n",
       "    </tr>\n",
       "  </thead>\n",
       "  <tbody>\n",
       "    <tr>\n",
       "      <th>9</th>\n",
       "      <td>25</td>\n",
       "      <td>26</td>\n",
       "      <td>1</td>\n",
       "      <td>0.01</td>\n",
       "      <td>0.23</td>\n",
       "      <td>0.01</td>\n",
       "      <td>0.23</td>\n",
       "    </tr>\n",
       "    <tr>\n",
       "      <th>8</th>\n",
       "      <td>25</td>\n",
       "      <td>28</td>\n",
       "      <td>3</td>\n",
       "      <td>0.02</td>\n",
       "      <td>0.23</td>\n",
       "      <td>0.03</td>\n",
       "      <td>0.46</td>\n",
       "    </tr>\n",
       "    <tr>\n",
       "      <th>7</th>\n",
       "      <td>19</td>\n",
       "      <td>25</td>\n",
       "      <td>6</td>\n",
       "      <td>0.04</td>\n",
       "      <td>0.17</td>\n",
       "      <td>0.07</td>\n",
       "      <td>0.63</td>\n",
       "    </tr>\n",
       "    <tr>\n",
       "      <th>6</th>\n",
       "      <td>12</td>\n",
       "      <td>27</td>\n",
       "      <td>15</td>\n",
       "      <td>0.10</td>\n",
       "      <td>0.11</td>\n",
       "      <td>0.17</td>\n",
       "      <td>0.74</td>\n",
       "    </tr>\n",
       "    <tr>\n",
       "      <th>5</th>\n",
       "      <td>9</td>\n",
       "      <td>28</td>\n",
       "      <td>19</td>\n",
       "      <td>0.12</td>\n",
       "      <td>0.08</td>\n",
       "      <td>0.29</td>\n",
       "      <td>0.82</td>\n",
       "    </tr>\n",
       "    <tr>\n",
       "      <th>4</th>\n",
       "      <td>10</td>\n",
       "      <td>27</td>\n",
       "      <td>17</td>\n",
       "      <td>0.11</td>\n",
       "      <td>0.09</td>\n",
       "      <td>0.40</td>\n",
       "      <td>0.91</td>\n",
       "    </tr>\n",
       "    <tr>\n",
       "      <th>3</th>\n",
       "      <td>7</td>\n",
       "      <td>26</td>\n",
       "      <td>19</td>\n",
       "      <td>0.12</td>\n",
       "      <td>0.06</td>\n",
       "      <td>0.52</td>\n",
       "      <td>0.97</td>\n",
       "    </tr>\n",
       "    <tr>\n",
       "      <th>2</th>\n",
       "      <td>1</td>\n",
       "      <td>27</td>\n",
       "      <td>26</td>\n",
       "      <td>0.17</td>\n",
       "      <td>0.01</td>\n",
       "      <td>0.69</td>\n",
       "      <td>0.98</td>\n",
       "    </tr>\n",
       "    <tr>\n",
       "      <th>1</th>\n",
       "      <td>2</td>\n",
       "      <td>23</td>\n",
       "      <td>21</td>\n",
       "      <td>0.13</td>\n",
       "      <td>0.02</td>\n",
       "      <td>0.82</td>\n",
       "      <td>1.00</td>\n",
       "    </tr>\n",
       "    <tr>\n",
       "      <th>0</th>\n",
       "      <td>1</td>\n",
       "      <td>31</td>\n",
       "      <td>30</td>\n",
       "      <td>0.19</td>\n",
       "      <td>0.01</td>\n",
       "      <td>1.01</td>\n",
       "      <td>1.01</td>\n",
       "    </tr>\n",
       "  </tbody>\n",
       "</table>\n",
       "</div>"
      ],
      "text/plain": [
       "        Survived  Cases  notSurvived  % no Survived  % Survived  \\\n",
       "decile                                                            \n",
       "9             25     26            1           0.01        0.23   \n",
       "8             25     28            3           0.02        0.23   \n",
       "7             19     25            6           0.04        0.17   \n",
       "6             12     27           15           0.10        0.11   \n",
       "5              9     28           19           0.12        0.08   \n",
       "4             10     27           17           0.11        0.09   \n",
       "3              7     26           19           0.12        0.06   \n",
       "2              1     27           26           0.17        0.01   \n",
       "1              2     23           21           0.13        0.02   \n",
       "0              1     31           30           0.19        0.01   \n",
       "\n",
       "        % no Survived acum.  % Survived acum.  \n",
       "decile                                         \n",
       "9                      0.01              0.23  \n",
       "8                      0.03              0.46  \n",
       "7                      0.07              0.63  \n",
       "6                      0.17              0.74  \n",
       "5                      0.29              0.82  \n",
       "4                      0.40              0.91  \n",
       "3                      0.52              0.97  \n",
       "2                      0.69              0.98  \n",
       "1                      0.82              1.00  \n",
       "0                      1.01              1.01  "
      ]
     },
     "execution_count": 11,
     "metadata": {},
     "output_type": "execute_result"
    }
   ],
   "source": [
    "X_test[\"Survived\"] = y_test\n",
    "\n",
    "measures = X_test.groupby(\"decile\").agg({\"Survived\": [\"sum\", \"count\"]})\n",
    "measures.columns = [\"Survived\", \"Cases\"]\n",
    "measures[\"notSurvived\"] = measures[\"Cases\"]-measures[\"Survived\"]\n",
    "measures[\"% no Survived\"] = (measures[\"notSurvived\"] / len(X_test[X_test.Survived == 0])).round(2)\n",
    "measures[\"% Survived\"] = (measures[\"Survived\"] / len(X_test[X_test.Survived == 1])).round(2)\n",
    "measures = measures.sort_index(ascending = False)\n",
    "a = measures[[\"% no Survived\", \"% Survived\"]]\\\n",
    "                .cumsum()\\\n",
    "                .rename(columns={\"% no Survived\": \"% no Survived acum.\", \n",
    "                                 \"% Survived\": \"% Survived acum.\"})\n",
    "\n",
    "measures = measures.join(a)\n",
    "measures"
   ]
  },
  {
   "cell_type": "code",
   "execution_count": 12,
   "id": "NwhS1DQcnHYK",
   "metadata": {
    "colab": {
     "base_uri": "https://localhost:8080/",
     "height": 394
    },
    "id": "NwhS1DQcnHYK",
    "outputId": "fef35542-a0c0-441e-9b69-f7c528435940"
   },
   "outputs": [
    {
     "data": {
      "text/html": [
       "<div>\n",
       "<style scoped>\n",
       "    .dataframe tbody tr th:only-of-type {\n",
       "        vertical-align: middle;\n",
       "    }\n",
       "\n",
       "    .dataframe tbody tr th {\n",
       "        vertical-align: top;\n",
       "    }\n",
       "\n",
       "    .dataframe thead th {\n",
       "        text-align: right;\n",
       "    }\n",
       "</style>\n",
       "<table border=\"1\" class=\"dataframe\">\n",
       "  <thead>\n",
       "    <tr style=\"text-align: right;\">\n",
       "      <th></th>\n",
       "      <th>Survived</th>\n",
       "      <th>Cases</th>\n",
       "      <th>notSurvived</th>\n",
       "      <th>% no Survived</th>\n",
       "      <th>% Survived</th>\n",
       "      <th>% no Survived acum.</th>\n",
       "      <th>% Survived acum.</th>\n",
       "    </tr>\n",
       "    <tr>\n",
       "      <th>bucket</th>\n",
       "      <th></th>\n",
       "      <th></th>\n",
       "      <th></th>\n",
       "      <th></th>\n",
       "      <th></th>\n",
       "      <th></th>\n",
       "      <th></th>\n",
       "    </tr>\n",
       "  </thead>\n",
       "  <tbody>\n",
       "    <tr>\n",
       "      <th>(900, 1000]</th>\n",
       "      <td>50</td>\n",
       "      <td>54</td>\n",
       "      <td>4</td>\n",
       "      <td>0.03</td>\n",
       "      <td>0.45</td>\n",
       "      <td>0.03</td>\n",
       "      <td>0.45</td>\n",
       "    </tr>\n",
       "    <tr>\n",
       "      <th>(800, 900]</th>\n",
       "      <td>10</td>\n",
       "      <td>11</td>\n",
       "      <td>1</td>\n",
       "      <td>0.01</td>\n",
       "      <td>0.09</td>\n",
       "      <td>0.04</td>\n",
       "      <td>0.54</td>\n",
       "    </tr>\n",
       "    <tr>\n",
       "      <th>(700, 800]</th>\n",
       "      <td>5</td>\n",
       "      <td>8</td>\n",
       "      <td>3</td>\n",
       "      <td>0.02</td>\n",
       "      <td>0.05</td>\n",
       "      <td>0.06</td>\n",
       "      <td>0.59</td>\n",
       "    </tr>\n",
       "    <tr>\n",
       "      <th>(600, 700]</th>\n",
       "      <td>7</td>\n",
       "      <td>10</td>\n",
       "      <td>3</td>\n",
       "      <td>0.02</td>\n",
       "      <td>0.06</td>\n",
       "      <td>0.08</td>\n",
       "      <td>0.65</td>\n",
       "    </tr>\n",
       "    <tr>\n",
       "      <th>(500, 600]</th>\n",
       "      <td>4</td>\n",
       "      <td>16</td>\n",
       "      <td>12</td>\n",
       "      <td>0.08</td>\n",
       "      <td>0.04</td>\n",
       "      <td>0.16</td>\n",
       "      <td>0.69</td>\n",
       "    </tr>\n",
       "    <tr>\n",
       "      <th>(400, 500]</th>\n",
       "      <td>7</td>\n",
       "      <td>19</td>\n",
       "      <td>12</td>\n",
       "      <td>0.08</td>\n",
       "      <td>0.06</td>\n",
       "      <td>0.24</td>\n",
       "      <td>0.75</td>\n",
       "    </tr>\n",
       "    <tr>\n",
       "      <th>(300, 400]</th>\n",
       "      <td>8</td>\n",
       "      <td>17</td>\n",
       "      <td>9</td>\n",
       "      <td>0.06</td>\n",
       "      <td>0.07</td>\n",
       "      <td>0.30</td>\n",
       "      <td>0.82</td>\n",
       "    </tr>\n",
       "    <tr>\n",
       "      <th>(200, 300]</th>\n",
       "      <td>7</td>\n",
       "      <td>21</td>\n",
       "      <td>14</td>\n",
       "      <td>0.09</td>\n",
       "      <td>0.06</td>\n",
       "      <td>0.39</td>\n",
       "      <td>0.88</td>\n",
       "    </tr>\n",
       "    <tr>\n",
       "      <th>(100, 200]</th>\n",
       "      <td>9</td>\n",
       "      <td>32</td>\n",
       "      <td>23</td>\n",
       "      <td>0.15</td>\n",
       "      <td>0.08</td>\n",
       "      <td>0.54</td>\n",
       "      <td>0.96</td>\n",
       "    </tr>\n",
       "    <tr>\n",
       "      <th>(0, 100]</th>\n",
       "      <td>3</td>\n",
       "      <td>60</td>\n",
       "      <td>57</td>\n",
       "      <td>0.36</td>\n",
       "      <td>0.03</td>\n",
       "      <td>0.90</td>\n",
       "      <td>0.99</td>\n",
       "    </tr>\n",
       "  </tbody>\n",
       "</table>\n",
       "</div>"
      ],
      "text/plain": [
       "             Survived  Cases  notSurvived  % no Survived  % Survived  \\\n",
       "bucket                                                                 \n",
       "(900, 1000]        50     54            4           0.03        0.45   \n",
       "(800, 900]         10     11            1           0.01        0.09   \n",
       "(700, 800]          5      8            3           0.02        0.05   \n",
       "(600, 700]          7     10            3           0.02        0.06   \n",
       "(500, 600]          4     16           12           0.08        0.04   \n",
       "(400, 500]          7     19           12           0.08        0.06   \n",
       "(300, 400]          8     17            9           0.06        0.07   \n",
       "(200, 300]          7     21           14           0.09        0.06   \n",
       "(100, 200]          9     32           23           0.15        0.08   \n",
       "(0, 100]            3     60           57           0.36        0.03   \n",
       "\n",
       "             % no Survived acum.  % Survived acum.  \n",
       "bucket                                              \n",
       "(900, 1000]                 0.03              0.45  \n",
       "(800, 900]                  0.04              0.54  \n",
       "(700, 800]                  0.06              0.59  \n",
       "(600, 700]                  0.08              0.65  \n",
       "(500, 600]                  0.16              0.69  \n",
       "(400, 500]                  0.24              0.75  \n",
       "(300, 400]                  0.30              0.82  \n",
       "(200, 300]                  0.39              0.88  \n",
       "(100, 200]                  0.54              0.96  \n",
       "(0, 100]                    0.90              0.99  "
      ]
     },
     "execution_count": 12,
     "metadata": {},
     "output_type": "execute_result"
    }
   ],
   "source": [
    "measures = X_test.groupby(\"bucket\").agg({\"Survived\": [\"sum\", \"count\"]})\n",
    "measures.columns = [\"Survived\", \"Cases\"]\n",
    "measures[\"notSurvived\"] = measures[\"Cases\"]-measures[\"Survived\"]\n",
    "measures[\"% no Survived\"] = (measures[\"notSurvived\"] / len(X_test[X_test.Survived == 0])).round(2)\n",
    "measures[\"% Survived\"] = (measures[\"Survived\"] / len(X_test[X_test.Survived == 1])).round(2)\n",
    "measures = measures.sort_index(ascending = False)\n",
    "a = measures[[\"% no Survived\", \"% Survived\"]]\\\n",
    "                .cumsum()\\\n",
    "                .rename(columns={\"% no Survived\": \"% no Survived acum.\", \n",
    "                                 \"% Survived\": \"% Survived acum.\"})\n",
    "\n",
    "measures = measures.join(a)\n",
    "measures"
   ]
  },
  {
   "cell_type": "code",
   "execution_count": null,
   "id": "djzoPLT0nUBS",
   "metadata": {
    "id": "djzoPLT0nUBS"
   },
   "outputs": [],
   "source": []
  }
 ],
 "metadata": {
  "colab": {
   "collapsed_sections": [],
   "provenance": []
  },
  "kernelspec": {
   "display_name": "Python 3 (ipykernel)",
   "language": "python",
   "name": "python3"
  },
  "language_info": {
   "codemirror_mode": {
    "name": "ipython",
    "version": 3
   },
   "file_extension": ".py",
   "mimetype": "text/x-python",
   "name": "python",
   "nbconvert_exporter": "python",
   "pygments_lexer": "ipython3",
   "version": "3.10.11"
  }
 },
 "nbformat": 4,
 "nbformat_minor": 5
}
