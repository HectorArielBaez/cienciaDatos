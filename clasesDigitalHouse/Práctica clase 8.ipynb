{
 "cells": [
  {
   "cell_type": "markdown",
   "id": "fd6800ba-8975-4e29-b103-1d9c98d87603",
   "metadata": {},
   "source": [
    "## Ejercicios"
   ]
  },
  {
   "cell_type": "markdown",
   "id": "db41ca4b-0b29-459e-86c4-4053c0b73f11",
   "metadata": {},
   "source": [
    "1) Levantar la base **Customer-Churn-Records.csv** que posee los siguientes campos:  \n",
    "a) RowNumber: Correponde a la posición del registro en la base. No debería tener ningún efecto con el output  \n",
    "b) CustomerId: Es el id del cliente.  \n",
    "c) Surname: Apellido del cliente.  \n",
    "d) CreditScore: Score crediticio del cliente.  \n",
    "e) Geography: Locación del cliente.  \n",
    "f) Gender: Género del cliente.  \n",
    "g) Age: Edad del cliente.  \n",
    "h) Tenure: Número de años que el cliente se encuentra relacionado al banco.  \n",
    "i) Balance: Balance en las cuentas.  \n",
    "j) NumOfProducts: Cantidad de productos que posee el cliente con el banco.  \n",
    "k) HasCrCard: Si el cliente posee o no tarjeta de crédito.  \n",
    "l) IsActiveMember: Si el cliente es un cliente activo, es decir, realiza transacciones con el banco.  \n",
    "m) EstimatedSalary: Salario estimado del cliente.  \n",
    "n) Exited: (Target de la base) Indica si el cliente se dio de baja o no.  \n",
    "o) Complain: Si el cliente tiene quejas o no.  \n",
    "p) Satisfaction Score: Score de satisfacción del cliente.  \n",
    "q) Card Type: Tipo de tarjeta de crédito que posee el cliente.  \n",
    "r) Points Earned: Puntos ganados por los clientes usando su tarjeta de crédito.\n",
    "2) Crear una variable que sea el ratio de la edad de la persona dividido la media de edad de la base.\n",
    "3) Crear un data set que posea la media del salario estimado por Card Type.\n",
    "4) realizar un join de la base completa con el dataset creado en el punto 3 utilizando como clave el campo Card Type.\n",
    "5) Crear un ratio del salario estimado (EstimatedSalary) por el campo creado en el punto 3. Eliminar del dataset original el campo creado en el punto 3.\n",
    "6) Crear una variable *dummy* con el campo Gender. (Recordar la funcion pd.get_dummies(). Luego eliminar el campo Gender.  \n",
    "7) Crear una variable *dummy* con la variable Card Type. Luego eliminar la columna Card Type.  \n",
    "8) Crear un dataset que sea el agrupado del campo Geography y sume la cantidad de clientes con Complain. Luego el valor absoluto (total de clientes con Complain por pais) se divida por el total de clientes con Complain.\n",
    "9) Realizar un join de la base original con la base creada en el punto 8. Eliminar la columna Geography.\n",
    "10) Crear una variable que muestre los deciles de la variable CreditScore. Luego eliminar la variable CreditScore.\n",
    "11) Crear una variable que marque los buckets cada 10 años de la variable Age. Luego eliminar la variable Age.\n",
    "12) Realizar una división de la base en un 65% para entrenar y un 35% para testear. ¿Se debe eliminar alguna otra variable? ¿Por qué?\n",
    "13) Crear un modelo de Ensemble. En este caso un Random forest con los siguientes hiperparámetros:  \n",
    "    a) 300 árboles  \n",
    "    b) criterio de corte entropía\n",
    "    c) máxima profundidad 3\n",
    "14) Calcular la curva ROC y el área debajo de la curva del modelo generado en el punto 13).\n",
    "15) Crear un modelo de Ensemble, en este caso un Lightgbm. En este caso con todos sus hiperparámetros por default.\n",
    "16) Calcular la curva ROC y el área debajo de la curva. ¿Es mejor o peor que el modelo generado en el punto 13)\n",
    "17) Calcular el recall de los modelos creados en el punto 13 y 15. ¿Qué valor es el mayor?\n",
    "18) Calcular la Precision de los modelos creados en el punto 13 y 15. ¿Qué valor es el mayor?"
   ]
  }
 ],
 "metadata": {
  "kernelspec": {
   "display_name": "Python 3 (ipykernel)",
   "language": "python",
   "name": "python3"
  },
  "language_info": {
   "codemirror_mode": {
    "name": "ipython",
    "version": 3
   },
   "file_extension": ".py",
   "mimetype": "text/x-python",
   "name": "python",
   "nbconvert_exporter": "python",
   "pygments_lexer": "ipython3",
   "version": "3.10.11"
  }
 },
 "nbformat": 4,
 "nbformat_minor": 5
}
