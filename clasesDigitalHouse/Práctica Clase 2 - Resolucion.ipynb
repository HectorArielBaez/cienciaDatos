{
 "cells": [
  {
   "cell_type": "markdown",
   "id": "ed34dc69-298b-4c84-be56-618056384d47",
   "metadata": {},
   "source": [
    "## Ejercicios"
   ]
  },
  {
   "cell_type": "markdown",
   "id": "a13e6586-95a0-4a6a-a083-bda6326809c4",
   "metadata": {},
   "source": [
    "1) Dado el siguiente array:\n",
    "\n",
    "data = np.array([[0, 1, 2, 3, 4], \n",
    " [2, 3, 5, 6, 7], \n",
    " [5, 6, 7, 8, 9], \n",
    " [10, 11, 12, 13, 14], \n",
    " [15, 16, 17, 18, 19], \n",
    " [20, 21, 22, 23, 24]])\n",
    "\n",
    "Seleccionar las filas \"pares\" usando:  \n",
    "a) slicing  \n",
    "b) Fancy indexing\n",
    "\n",
    "Deberíamos tener el siguiente resultado:\n",
    "np.array([[0, 1, 2, 3, 4],  [5, 6, 7, 8, 9],  [15, 16, 17, 18, 19 )]]\n"
   ]
  },
  {
   "cell_type": "code",
   "execution_count": 6,
   "id": "c46fc9e1-cd1e-4d4a-8298-e9b4072edc51",
   "metadata": {},
   "outputs": [
    {
     "data": {
      "text/plain": [
       "array([[ 0,  1,  2,  3,  4],\n",
       "       [ 5,  6,  7,  8,  9],\n",
       "       [15, 16, 17, 18, 19]])"
      ]
     },
     "execution_count": 6,
     "metadata": {},
     "output_type": "execute_result"
    }
   ],
   "source": [
    "import numpy as np\n",
    "#slicing\n",
    "data = np.array([[0, 1, 2, 3, 4], [2, 3, 5, 6, 7], [5, 6, 7, 8, 9], [10, 11, 12, 13, 14], [15, 16, 17, 18, 19], [20, 21, 22, 23, 24]])\n",
    "data[0:len(data)-1:2]\n",
    "#fancy indexing\n",
    "indexes = [x for x in range(0, len(data)) if x % 2 ==0 ]\n",
    "data[indexes]"
   ]
  },
  {
   "cell_type": "markdown",
   "id": "a1c66846-76bf-48f8-9d0e-b517699407e6",
   "metadata": {},
   "source": [
    "2) Seleccionar los elementos de valor impar de 'data' usando boolean indexing"
   ]
  },
  {
   "cell_type": "code",
   "execution_count": 15,
   "id": "761fbc22-8c4f-402d-9a35-9c21dd7a8ac3",
   "metadata": {},
   "outputs": [
    {
     "data": {
      "text/plain": [
       "array([[ 2,  3,  5,  6,  7],\n",
       "       [10, 11, 12, 13, 14],\n",
       "       [20, 21, 22, 23, 24]])"
      ]
     },
     "execution_count": 15,
     "metadata": {},
     "output_type": "execute_result"
    }
   ],
   "source": [
    "data = np.array([[0, 1, 2, 3, 4], [2, 3, 5, 6, 7], [5, 6, 7, 8, 9], [10, 11, 12, 13, 14], [15, 16, 17, 18, 19], [20, 21, 22, 23, 24]])\n",
    "indexing = [False if x % 2==0 else True for x in range(0, len(data))]\n",
    "data[indexing]"
   ]
  },
  {
   "cell_type": "markdown",
   "id": "01321bd6-871d-4245-aaaa-edf69c0dc039",
   "metadata": {},
   "source": [
    "3) Leer los datos del archivo /M1/CLASE_03_Numpy/Data/sales_data_sample_excercise.csv\n",
    "\n",
    "Este archivo tiene algunos datos numéricos y otros de tipo cadena de caracteres. \n",
    "\n",
    "Las columnas son:\n",
    "\n",
    "* ORDERNUMBER: int, id de la orden\n",
    "\n",
    "* SALES: float, monto abonado\n",
    "\n",
    "* MONTH_ID: int, mes\n",
    "\n",
    "* YEAR_ID: int, año\n",
    "\n",
    "* PRODUCTLINE: str, producto\n",
    "\n",
    "* COUNTRY: str, país de venta\n",
    "\n",
    "¿Recuerdan que todos los elementos de una instancia de ndarray deben ser del mismo tipo? Entonces vamos a leer el archivo y crear una instancia de ndarray de tipo cadena de caracteres.\n",
    "\n",
    "¿Qué pasaría si intentáramos crear una instancia de tipo int? ¿Y de tipo float?\n"
   ]
  },
  {
   "cell_type": "code",
   "execution_count": 16,
   "id": "d9281d01-4664-4b3c-9fcc-2b9bf90871d5",
   "metadata": {},
   "outputs": [
    {
     "data": {
      "text/plain": [
       "array([['10107', '2871', '2', '2003', 'Motorcycles', 'USA'],\n",
       "       ['10121', '2765.9', '5', '2003', 'Motorcycles', 'France'],\n",
       "       ['10134', '3884.34', '7', '2003', 'Motorcycles', 'France'],\n",
       "       ...,\n",
       "       ['10386', '5417.57', '3', '2005', 'Ships', 'Spain'],\n",
       "       ['10397', '2116.16', '3', '2005', 'Ships', 'France'],\n",
       "       ['10414', '3079.44', '5', '2005', 'Ships', 'USA']], dtype='<U16')"
      ]
     },
     "execution_count": 16,
     "metadata": {},
     "output_type": "execute_result"
    }
   ],
   "source": [
    "data_location = \"./Data/sales_data_sample_excercise.csv\"\n",
    "data = np.genfromtxt(data_location, skip_header=1, delimiter='\\t', dtype= str)\n",
    "data"
   ]
  },
  {
   "cell_type": "markdown",
   "id": "6eb870fb-5ccb-406b-8cfb-6238c0b5e29f",
   "metadata": {},
   "source": [
    "3) Crear un array numérico que tenga como valores las columna SALES y otro array de str que tenga como valores la columna COUNTRY\r\n",
    "\r\n",
    "Ayuda: https://docs.scipy.org/doc/numpy/reference/generated/numpy.ndarray.astype.html"
   ]
  },
  {
   "cell_type": "code",
   "execution_count": 23,
   "id": "3edf9467-5798-4f26-9d0f-753e75bebf82",
   "metadata": {},
   "outputs": [
    {
     "name": "stdout",
     "output_type": "stream",
     "text": [
      "[2871.   2765.9  3884.34 ... 5417.57 2116.16 3079.44]\n",
      "['USA' 'France' 'France' ... 'Spain' 'France' 'USA']\n"
     ]
    }
   ],
   "source": [
    "sales_vector_str = data[:, 1]\n",
    "sales_vector =  sales_vector_str.astype(np.float64)\n",
    "print(sales_vector)\n",
    "\n",
    "country_vector = data[:, 5]\n",
    "print(country_vector)"
   ]
  },
  {
   "cell_type": "markdown",
   "id": "a9860b14-01c5-4e0f-80b7-c8b3d293082a",
   "metadata": {},
   "source": [
    "4) ¿Cuál fue el monto mínimo de una venta? ¿Cuál fue el monto máximo?"
   ]
  },
  {
   "cell_type": "code",
   "execution_count": 24,
   "id": "d01a2ce0-8cd7-44b7-b695-69edc7238d6a",
   "metadata": {},
   "outputs": [
    {
     "name": "stdout",
     "output_type": "stream",
     "text": [
      "482.13\n",
      "14082.8\n"
     ]
    }
   ],
   "source": [
    "monto_min = sales_vector.min()\n",
    "monto_max = sales_vector.max()\n",
    "print(monto_min)\n",
    "print(monto_max)"
   ]
  },
  {
   "cell_type": "markdown",
   "id": "9f77632c-bec1-4293-bfa0-8725dc08dd85",
   "metadata": {},
   "source": [
    "5) ¿Cuántas ventas se hicieron en Spain?"
   ]
  },
  {
   "cell_type": "code",
   "execution_count": 25,
   "id": "00495e03-50ce-4410-a848-873defa2970f",
   "metadata": {},
   "outputs": [
    {
     "name": "stdout",
     "output_type": "stream",
     "text": [
      "[False False False ...  True False False]\n"
     ]
    },
    {
     "data": {
      "text/plain": [
       "342"
      ]
     },
     "execution_count": 25,
     "metadata": {},
     "output_type": "execute_result"
    }
   ],
   "source": [
    "ventas_spain_mask = country_vector == 'Spain'\n",
    "print(ventas_spain_mask)\n",
    "ventas_spain = country_vector[ventas_spain_mask]\n",
    "cant_ventas_spain = ventas_spain.size\n",
    "cant_ventas_spain"
   ]
  },
  {
   "cell_type": "markdown",
   "id": "90334c3a-0f4d-429f-92b3-fae90cb3c6f3",
   "metadata": {},
   "source": [
    "6) ¿Qué porcentaje de las ventas se hicieron en Spain?"
   ]
  },
  {
   "cell_type": "code",
   "execution_count": 26,
   "id": "f65224e9-df0f-408b-9930-2c6b9502fb40",
   "metadata": {},
   "outputs": [
    {
     "data": {
      "text/plain": [
       "12.114771519659936"
      ]
     },
     "execution_count": 26,
     "metadata": {},
     "output_type": "execute_result"
    }
   ],
   "source": [
    "cant_ventas_total = country_vector.size\n",
    "porc_spain = 100* cant_ventas_spain / cant_ventas_total\n",
    "porc_spain"
   ]
  },
  {
   "cell_type": "markdown",
   "id": "c7246155-bb8c-424b-acbf-68f34b0932eb",
   "metadata": {},
   "source": [
    "7) ¿Cuál es el país de la venta de precio máximo? ¿Cuál es el id de esa venta?\r\n",
    "\r\n",
    "Ayuda: boolean indexing"
   ]
  },
  {
   "cell_type": "code",
   "execution_count": 28,
   "id": "f132eb05-cb0a-4ea5-a59d-aed80cc6b3e5",
   "metadata": {},
   "outputs": [
    {
     "name": "stdout",
     "output_type": "stream",
     "text": [
      "USA\n",
      "10407\n"
     ]
    }
   ],
   "source": [
    "precio_max = sales_vector.max()\n",
    "#print(precio_max)\n",
    "precio_max_mask = sales_vector == precio_max\n",
    "#print(precio_max_mask)\n",
    "pais_max_precio = country_vector[precio_max_mask][0]\n",
    "print(pais_max_precio)\n",
    "\n",
    "id_vector_str = data[:, 0]\n",
    "id_vector =  id_vector_str.astype(np.int64)\n",
    "id_max_precio = id_vector[precio_max_mask][0]\n",
    "print(id_max_precio)"
   ]
  },
  {
   "cell_type": "markdown",
   "id": "102215d5-bff4-4d32-b0a6-cd7bfdb87878",
   "metadata": {},
   "source": [
    "8) ¿Cuál es el precio promedio de ventas en France? ¿Cuál es el desvío?"
   ]
  },
  {
   "cell_type": "code",
   "execution_count": 29,
   "id": "66a7e767-81b2-4f3d-86ef-0cd756adae8a",
   "metadata": {},
   "outputs": [
    {
     "name": "stdout",
     "output_type": "stream",
     "text": [
      "3537.9507006369427\n",
      "1939.214360481481\n"
     ]
    }
   ],
   "source": [
    "ventas_france_mask = country_vector == 'France'\n",
    "precios_france = sales_vector[ventas_france_mask]\n",
    "\n",
    "promedio_france = precios_france.mean()\n",
    "print(promedio_france)\n",
    "desvio_france = precios_france.std()\n",
    "print(desvio_france)"
   ]
  },
  {
   "cell_type": "markdown",
   "id": "afda5f62-e1b4-44e7-9abc-bfaf6da4e353",
   "metadata": {},
   "source": [
    "9) ¿Cuál fue el año con máximo desvío en las ventas en France?\r\n",
    "\r\n",
    "Ayuda: https://docs.scipy.org/doc/numpy/reference/generated/numpy.unique.html"
   ]
  },
  {
   "cell_type": "code",
   "execution_count": 31,
   "id": "c7c82812-c17f-4819-b16f-d923f324c948",
   "metadata": {},
   "outputs": [
    {
     "name": "stdout",
     "output_type": "stream",
     "text": [
      "[2003 2004 2005]\n"
     ]
    }
   ],
   "source": [
    "data_france_mask = country_vector == 'France'\n",
    "data_france_sales = data[data_france_mask, 1]\n",
    "data_france_years = data[data_france_mask, 3]\n",
    "\n",
    "data_france_years_num = data_france_years.astype(np.int64)\n",
    "\n",
    "years_unique = np.unique(data_france_years_num)\n",
    "print(years_unique)"
   ]
  },
  {
   "cell_type": "code",
   "execution_count": null,
   "id": "80499f80-24c1-48ff-b3df-168120dbf433",
   "metadata": {},
   "outputs": [],
   "source": []
  }
 ],
 "metadata": {
  "kernelspec": {
   "display_name": "Python 3 (ipykernel)",
   "language": "python",
   "name": "python3"
  },
  "language_info": {
   "codemirror_mode": {
    "name": "ipython",
    "version": 3
   },
   "file_extension": ".py",
   "mimetype": "text/x-python",
   "name": "python",
   "nbconvert_exporter": "python",
   "pygments_lexer": "ipython3",
   "version": "3.10.11"
  }
 },
 "nbformat": 4,
 "nbformat_minor": 5
}
