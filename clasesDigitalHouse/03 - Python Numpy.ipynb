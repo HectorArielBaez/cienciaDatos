{
 "cells": [
  {
   "cell_type": "code",
   "execution_count": 1,
   "id": "886da2e7-cce0-4c72-aa52-a59ee4ec936c",
   "metadata": {},
   "outputs": [],
   "source": [
    "#Importo las librerías\n",
    "import requests\n",
    "import numpy as np"
   ]
  },
  {
   "cell_type": "markdown",
   "id": "e3e79536-51d6-4bc4-b599-c720fd00cb21",
   "metadata": {},
   "source": [
    "### Repaso de La clase Anterior"
   ]
  },
  {
   "cell_type": "code",
   "execution_count": 2,
   "id": "668977f1-4aaf-4e42-928a-6a1cd9b8a97d",
   "metadata": {},
   "outputs": [],
   "source": [
    "a = [1,2,3,4]"
   ]
  },
  {
   "cell_type": "markdown",
   "id": "96e95048-d59e-48de-96d8-140c4d68226b",
   "metadata": {},
   "source": [
    "**¿Cómo puedo crear un array nuevo con el cuadrado de cada uno de estos elementos?**"
   ]
  },
  {
   "cell_type": "code",
   "execution_count": 6,
   "id": "4d847da8-912e-475f-9503-1cd784a00df5",
   "metadata": {},
   "outputs": [
    {
     "data": {
      "text/plain": [
       "[1, 4, 9, 16]"
      ]
     },
     "execution_count": 6,
     "metadata": {},
     "output_type": "execute_result"
    }
   ],
   "source": [
    "b = []\n",
    "for x in a:\n",
    "    b.append(x**2)\n",
    "    #b+=[x**2]\n",
    "b"
   ]
  },
  {
   "cell_type": "markdown",
   "id": "74f7196d-8af6-489a-8e38-cfa17f837e80",
   "metadata": {},
   "source": [
    "**Todos los elementos de un array tienen que poseer sí o sí el mismo tipo de datos. (Verdadero / Falso)**"
   ]
  },
  {
   "cell_type": "code",
   "execution_count": 8,
   "id": "0a99ea22-285f-4271-af23-3f7353b4aba5",
   "metadata": {},
   "outputs": [
    {
     "data": {
      "text/plain": [
       "[1, 2, 3, 4, 'hola']"
      ]
     },
     "execution_count": 8,
     "metadata": {},
     "output_type": "execute_result"
    }
   ],
   "source": [
    "a = [1,2,3,4, \"hola\"]\n",
    "a"
   ]
  },
  {
   "cell_type": "markdown",
   "id": "e4cba64f-651b-4c77-b00a-2a773d575087",
   "metadata": {},
   "source": [
    "### Librería Numpy [documentación](https://numpy.org/doc/stable/index.html)"
   ]
  },
  {
   "cell_type": "markdown",
   "id": "9a264f48-2846-4858-9920-f1932279f852",
   "metadata": {},
   "source": [
    "NumPy es el paquete fundamental para la computación científica con Python.\r\n",
    "\r\n",
    "Contiene, entre otras cosas:\r\n",
    "\r\n",
    "Un poderoso elemento: los arrays de N-dimensiones (ND arrays)\r\n",
    "\r\n",
    "Funciones para realizar cálculos y operaciones matemáticas con arrays de forma muy eficiente (vectorización)\r\n",
    "\r\n",
    "Operaciones de álgebra lineal, generación de números aleatorios, entre otras funcionalidades de computación científica\r\n",
    "\r\n",
    "Esto permite que NumPy se integre de manera rápida y sin problemas con una amplia variedad de bases de datos."
   ]
  },
  {
   "cell_type": "markdown",
   "id": "b15e3c28-4871-4239-aaed-b2f6dc9af00e",
   "metadata": {},
   "source": [
    "**¿Por qué utilizar arrays?**  \r\n",
    "Un array es una colección de items de datos, llamados elementos, asociados a un único nombre de variable.\r\n",
    "\r\n",
    "Diseñados para:\r\n",
    "\r\n",
    "Facilitar la programación y proveer buena performance\r\n",
    "\r\n",
    "Almacenar y manipular grandes colecciones de datos\r\n",
    "\r\n",
    "Simplificar la tarea de nombrar y referenciar items individuales en una colección de datos\r\n",
    "\r\n",
    "Permitir la manipulación de una colección entera de datos con una simple sentencia"
   ]
  },
  {
   "cell_type": "code",
   "execution_count": 10,
   "id": "47b79d56-dee8-431e-8edb-1e4a4d5ca151",
   "metadata": {},
   "outputs": [
    {
     "data": {
      "text/plain": [
       "array([], dtype=float64)"
      ]
     },
     "execution_count": 10,
     "metadata": {},
     "output_type": "execute_result"
    }
   ],
   "source": [
    "np.array([])"
   ]
  },
  {
   "cell_type": "code",
   "execution_count": 11,
   "id": "51d2c7b0-14e5-4136-afa3-9461ca76939b",
   "metadata": {},
   "outputs": [
    {
     "data": {
      "text/plain": [
       "array([1, 2, 3, 4])"
      ]
     },
     "execution_count": 11,
     "metadata": {},
     "output_type": "execute_result"
    }
   ],
   "source": [
    "arr1 = np.array([1,2,3,4])\n",
    "arr1"
   ]
  },
  {
   "cell_type": "code",
   "execution_count": 38,
   "id": "61aacf8d-6455-441e-b600-06c0d53e5b54",
   "metadata": {},
   "outputs": [
    {
     "data": {
      "text/plain": [
       "[[1, 2, 3, 'hola']]"
      ]
     },
     "execution_count": 38,
     "metadata": {},
     "output_type": "execute_result"
    }
   ],
   "source": [
    "arr3 = [[1,2,3,\"hola\"]]\n",
    "arr3"
   ]
  },
  {
   "cell_type": "markdown",
   "id": "b0fa7736-db15-49d3-a820-cf4024e4ae13",
   "metadata": {},
   "source": [
    "**¿Qué diferencia encuentran entre arr2 y arr3?**"
   ]
  },
  {
   "cell_type": "code",
   "execution_count": 25,
   "id": "ddcac4c4-7f04-41a6-a408-ee08db856468",
   "metadata": {},
   "outputs": [
    {
     "data": {
      "text/plain": [
       "1"
      ]
     },
     "execution_count": 25,
     "metadata": {},
     "output_type": "execute_result"
    }
   ],
   "source": [
    "arr1[0]"
   ]
  },
  {
   "cell_type": "code",
   "execution_count": null,
   "id": "22d56a78-3652-4017-bbfb-79b4aae47fbd",
   "metadata": {},
   "outputs": [],
   "source": [
    "arr1[len(arr1)] "
   ]
  },
  {
   "cell_type": "markdown",
   "id": "7d05e2e1-3aab-4c1b-89b6-44c472714085",
   "metadata": {},
   "source": [
    "Los índices van desde el 0 a (cantidad de elementos - 1)"
   ]
  },
  {
   "cell_type": "markdown",
   "id": "0f8296bf-2a0e-402b-9faa-81d38ff6abc7",
   "metadata": {},
   "source": [
    "**Tipos de Indexación**  \n",
    "Existen tres tipos de indexación:  \n",
    "a) slicing: arr1[start:stop:step]. El step puede no estar, si no está es 1.  \n",
    "b) Fancy slicing: Usar una máscara de índices arr1[[0,3,5]]  \n",
    "c) Boolean indexing: Usar una máscara de elementos verdaderos y falsos.  \n"
   ]
  },
  {
   "cell_type": "code",
   "execution_count": 29,
   "id": "357e50a4-c65f-444c-b3d2-b845509844ee",
   "metadata": {},
   "outputs": [
    {
     "data": {
      "text/plain": [
       "array([1, 2, 3, 4, 5])"
      ]
     },
     "execution_count": 29,
     "metadata": {},
     "output_type": "execute_result"
    }
   ],
   "source": [
    "arr1 = np.array([1,2,3,4,5,6,7,8])\n",
    "arr1[0:5:1]"
   ]
  },
  {
   "cell_type": "code",
   "execution_count": null,
   "id": "322945b6-8d93-4922-8662-f11bc7fea70c",
   "metadata": {},
   "outputs": [],
   "source": []
  },
  {
   "cell_type": "code",
   "execution_count": 31,
   "id": "bf309b68-b43e-48dc-b9f1-3a598c69c113",
   "metadata": {},
   "outputs": [
    {
     "data": {
      "text/plain": [
       "array([1, 4, 6])"
      ]
     },
     "execution_count": 31,
     "metadata": {},
     "output_type": "execute_result"
    }
   ],
   "source": [
    "indices = [0,3,5]\n",
    "arr1[indices] #indices 0, 3, 5"
   ]
  },
  {
   "cell_type": "code",
   "execution_count": 32,
   "id": "396bb30c-cb36-4e63-a92c-a0e3936d3c58",
   "metadata": {},
   "outputs": [
    {
     "data": {
      "text/plain": [
       "array([False, False, False, False,  True,  True,  True,  True])"
      ]
     },
     "execution_count": 32,
     "metadata": {},
     "output_type": "execute_result"
    }
   ],
   "source": [
    "arr1 > 4"
   ]
  },
  {
   "cell_type": "code",
   "execution_count": 36,
   "id": "32123047-b034-4b97-8988-8dfee481f4fb",
   "metadata": {},
   "outputs": [
    {
     "data": {
      "text/plain": [
       "array([ True, False,  True, False,  True, False,  True, False])"
      ]
     },
     "execution_count": 36,
     "metadata": {},
     "output_type": "execute_result"
    }
   ],
   "source": [
    "arr1%2==1"
   ]
  },
  {
   "cell_type": "code",
   "execution_count": 35,
   "id": "f2b8568d-6b45-400e-932e-a2e73d276e77",
   "metadata": {},
   "outputs": [
    {
     "data": {
      "text/plain": [
       "array([1, 3, 5, 7])"
      ]
     },
     "execution_count": 35,
     "metadata": {},
     "output_type": "execute_result"
    }
   ],
   "source": [
    "arr1[arr1%2==1]"
   ]
  },
  {
   "cell_type": "markdown",
   "id": "a2e9b924-d732-4810-b4e3-fad5421674eb",
   "metadata": {},
   "source": [
    "Crear un array usando arrange [documentación](https://docs.scipy.org/doc/numpy/reference/generated/numpy.arange.html)"
   ]
  },
  {
   "cell_type": "code",
   "execution_count": 39,
   "id": "edb7b29a-8396-4394-a1a4-958d495d1134",
   "metadata": {},
   "outputs": [
    {
     "name": "stdout",
     "output_type": "stream",
     "text": [
      "[0 1 2 3 4 5 6 7 8 9]\n",
      "[ 3  4  5  6  7  8  9 10]\n",
      "[3 6 9]\n"
     ]
    }
   ],
   "source": [
    "print(np.arange(10))\n",
    "print(np.arange(3,11))\n",
    "print(np.arange(3,11, 3))"
   ]
  },
  {
   "cell_type": "code",
   "execution_count": 41,
   "id": "68ebd6a8-8ed9-49a8-bad7-824ba045c69c",
   "metadata": {},
   "outputs": [
    {
     "data": {
      "text/plain": [
       "array([0, 1, 2, 3, 4, 5, 6, 7, 8, 9])"
      ]
     },
     "execution_count": 41,
     "metadata": {},
     "output_type": "execute_result"
    }
   ],
   "source": [
    "one_d_array = np.arange(10)\n",
    "one_d_array"
   ]
  },
  {
   "cell_type": "code",
   "execution_count": 44,
   "id": "39d85a03-87c1-4eb0-b624-1917fa1c059d",
   "metadata": {},
   "outputs": [
    {
     "name": "stdout",
     "output_type": "stream",
     "text": [
      "[0 3 6 9]\n"
     ]
    }
   ],
   "source": [
    "print(one_d_array[0::3])"
   ]
  },
  {
   "cell_type": "code",
   "execution_count": 46,
   "id": "1adc6a9e-00db-4c19-85d4-a70253bf2e92",
   "metadata": {},
   "outputs": [
    {
     "data": {
      "text/plain": [
       "array([9, 2, 3, 5, 4, 2, 1])"
      ]
     },
     "execution_count": 46,
     "metadata": {},
     "output_type": "execute_result"
    }
   ],
   "source": [
    "aa = np.array([1,2,4,5,3,2,9])\n",
    "aa[::-1]\n"
   ]
  },
  {
   "cell_type": "code",
   "execution_count": 50,
   "id": "5e9e8e84-d0bc-48aa-8e01-48beb1ea7cc4",
   "metadata": {},
   "outputs": [
    {
     "data": {
      "text/plain": [
       "array([8, 6, 4, 2, 0])"
      ]
     },
     "execution_count": 50,
     "metadata": {},
     "output_type": "execute_result"
    }
   ],
   "source": [
    "a = one_d_array[::-1]\n",
    "a[a % 2 == 0]"
   ]
  },
  {
   "cell_type": "code",
   "execution_count": 61,
   "id": "f6d75321-85cc-4574-8367-a21862b3f9cc",
   "metadata": {},
   "outputs": [
    {
     "data": {
      "text/plain": [
       "array([ True, False,  True, False,  True, False,  True, False,  True,\n",
       "       False])"
      ]
     },
     "execution_count": 61,
     "metadata": {},
     "output_type": "execute_result"
    }
   ],
   "source": [
    "mask_pair_number = one_d_array % 2 == 0\n",
    "mask_pair_number"
   ]
  },
  {
   "cell_type": "code",
   "execution_count": 62,
   "id": "9dfcd447-3c3e-406f-bda3-c1409218021f",
   "metadata": {},
   "outputs": [
    {
     "data": {
      "text/plain": [
       "array([0, 2, 4, 6, 8])"
      ]
     },
     "execution_count": 62,
     "metadata": {},
     "output_type": "execute_result"
    }
   ],
   "source": [
    "one_d_array[mask_pair_number]"
   ]
  },
  {
   "cell_type": "code",
   "execution_count": 63,
   "id": "11b6d43f-f823-4262-8047-b94c70072157",
   "metadata": {},
   "outputs": [
    {
     "data": {
      "text/plain": [
       "array([5, 6, 7])"
      ]
     },
     "execution_count": 63,
     "metadata": {},
     "output_type": "execute_result"
    }
   ],
   "source": [
    "a = np.array([0, 1, 2])\n",
    "b = 5\n",
    "a + b"
   ]
  },
  {
   "cell_type": "code",
   "execution_count": 53,
   "id": "23311d31-8992-43a1-9b16-bf9169fcab42",
   "metadata": {},
   "outputs": [
    {
     "data": {
      "text/plain": [
       "array([[0., 0., 0.],\n",
       "       [0., 0., 0.],\n",
       "       [0., 0., 0.]])"
      ]
     },
     "execution_count": 53,
     "metadata": {},
     "output_type": "execute_result"
    }
   ],
   "source": [
    "np.zeros((3, 3))"
   ]
  },
  {
   "cell_type": "code",
   "execution_count": 54,
   "id": "64aec657-81c9-4607-bb76-72bcbb46e1af",
   "metadata": {},
   "outputs": [
    {
     "name": "stdout",
     "output_type": "stream",
     "text": [
      "****\n",
      "[[1. 1. 1.]\n",
      " [1. 1. 1.]\n",
      " [1. 1. 1.]]\n",
      "****\n",
      "[0 1 2]\n",
      "****\n",
      "[[1. 2. 3.]\n",
      " [1. 2. 3.]\n",
      " [1. 2. 3.]]\n",
      "****\n"
     ]
    }
   ],
   "source": [
    "# linea 2 de la imagen:\n",
    "#np.ones crea un vector o matriz con todos los valores en 1\n",
    "#np.zeros crea un vector o matriz con todos los valores en 0\n",
    "\n",
    "a = np.ones((3, 3))\n",
    "print(\"*\"*4)\n",
    "print(a)\n",
    "print(\"*\"*4)\n",
    "b = np.array([0, 1, 2])\n",
    "print(b)\n",
    "print(\"*\"*4)\n",
    "print(a + b)\n",
    "print(\"*\"*4)"
   ]
  },
  {
   "cell_type": "code",
   "execution_count": 60,
   "id": "49576a43-5691-4ac9-8361-339c96b9fe21",
   "metadata": {},
   "outputs": [
    {
     "data": {
      "text/plain": [
       "1.0"
      ]
     },
     "execution_count": 60,
     "metadata": {},
     "output_type": "execute_result"
    }
   ],
   "source": [
    "a[0][1]"
   ]
  },
  {
   "cell_type": "code",
   "execution_count": 62,
   "id": "e00f1d96-f42f-4af2-aa6f-aa6ebd2821e7",
   "metadata": {},
   "outputs": [
    {
     "name": "stdout",
     "output_type": "stream",
     "text": [
      "\n",
      "a.shape: (3, 1)\n",
      "a:\n",
      "[[0]\n",
      " [1]\n",
      " [2]]\n",
      "\n",
      "b.shape: (3,)\n",
      "b:\n",
      "[0 1 2]\n",
      "\n",
      "a+b:\n",
      "[[0 1 2]\n",
      " [1 2 3]\n",
      " [2 3 4]]\n",
      "(3, 3)\n"
     ]
    }
   ],
   "source": [
    "a = np.array([[0], [1], [2]])\n",
    "print('\\na.shape:', a.shape)\n",
    "print('a:')\n",
    "print(a)\n",
    "\n",
    "b = np.array([0, 1, 2])\n",
    "print('\\nb.shape:', b.shape)\n",
    "print('b:')\n",
    "print(b)\n",
    "\n",
    "print('\\na+b:')\n",
    "print(a+b)\n",
    "print((a+b).shape)\n"
   ]
  },
  {
   "cell_type": "markdown",
   "id": "9c9d8488-c66b-42d8-8697-19213f54dccb",
   "metadata": {},
   "source": [
    "## Funciones de agregación\r\n",
    "\r\n",
    "Suelen expresarse como métodos del objeto array. En general, tienen como consecuencia disminuir las dimensiones del arreglo y son muy utilizados en matemáticas y física. <br>\r\n",
    "La siguiente tabla muestra los más utilizados, puede encontrar la documentación [aquí](https://docs.scipy.org/doc/numpy-1.13.0/reference/arrays.ndarray.html#calculation).\r\n",
    "\r\n",
    "| Operación | Descripción |\r\n",
    "|:----------|:------------|\r\n",
    "| `a.sum()`    | Retorna la suma del arreglo en el eje dado |\r\n",
    "| `a.min()`    | Retorna el valor mínimo de un eje |\r\n",
    "| `a.mean()`   | Retorna la media aritmética en un eje dado |\r\n",
    "| `a.var()`    | Retorna la varianza en un eje dado|\r\n",
    "| `a.std()`    | Retorna la desviación estándar en un eje dado |\r\n",
    "| `a.prod()`   | Retorna el producto en un eje dado |\r\n",
    "| `a.argmin()` | Retorna el índice donde ocurren los valores mínimos de cada eje |\r\n",
    "| `a.ptp()`    | Valor pico a pico en un eje |\r\n",
    "| `a.conj()`   | Retorna el conjugado complejo de todos los elementos |\r\n",
    "| `a.round()`  | Retorna el valor redondeado de cada elemento |\r\n",
    "| `a.trace()`  | Retorna la suma de las diagonales del arreglo |\r\n",
    "| `a.argmax()` | Retorna el índice donde ocurren los valores máximos de cada eje |\r\n",
    "| `a.cumsum()` | Retorna la suma acumulativa en un eje dado |\r\n",
    "| `a.cumprod()`| Retorna el producto acumulativo en un eje dado |"
   ]
  },
  {
   "cell_type": "code",
   "execution_count": 67,
   "id": "26164208-4068-42ca-a35f-338e3be9f490",
   "metadata": {},
   "outputs": [
    {
     "data": {
      "text/plain": [
       "61194"
      ]
     },
     "execution_count": 67,
     "metadata": {},
     "output_type": "execute_result"
    }
   ],
   "source": [
    "contentFolder = \"./Data\"\n",
    "#Get Data \n",
    "urlOrdersTitanicTrain = \"https://drive.google.com/uc?id=1hZAS7bZndWwIhpi7231sdQPfIfMhKyjb\"\n",
    "r = requests.get(urlOrdersTitanicTrain)\n",
    "open(\"{}/titanic_train.txt\".format(contentFolder), \"wb\").write(r.content)"
   ]
  },
  {
   "cell_type": "markdown",
   "id": "92b317ee-87eb-4b58-a42c-132c7ad61f69",
   "metadata": {},
   "source": [
    "## Diccionario de los campos de la base\r\n",
    "**Survived** -> Survival - target (0 = No, 1 = Si)\\\r\n",
    "**Pclass** -> Ticket Class (1 = 1st, 2 = 2nd, 3 = 3rd)\\\r\n",
    "**Sex** -> Sex (male, female)\\\r\n",
    "**Age** -> Age in years\\\r\n",
    "**SibSp** -> of siblings / spouses aboard the Titanic\\\r\n",
    "**Parch** -> of parents / children aboard the Titanic\\\r\n",
    "**Ticket** -> ticket number\\\r\n",
    "**Fare** -> Passenger Fare (Tarifa)\\\r\n",
    "**Cabin** -> cabin Number\\\r\n",
    "**Embarked** -> Port of Embarkation (C = Cherbourg, Q = Queenstown, S = Southampton)"
   ]
  },
  {
   "cell_type": "markdown",
   "id": "fa111ab3-3c1f-4052-adaf-f56a2b531c5b",
   "metadata": {},
   "source": [
    "Para Levantar una base usando Numpy puedo utilizar la función genfromtxt\n",
    "[documentacion](https://numpy.org/doc/stable/reference/generated/numpy.genfromtxt.html)"
   ]
  },
  {
   "cell_type": "code",
   "execution_count": 96,
   "id": "e78715d1-c863-4043-9a54-2ab3a3dce205",
   "metadata": {},
   "outputs": [],
   "source": [
    "#levantar Datos usando Numpy\n",
    "data = np.genfromtxt(\"C:/Users/Diego/Documents/proyectos/sales_data_sample_excercise.csv\", skip_header=1, delimiter='\\t', dtype=str)\n"
   ]
  },
  {
   "cell_type": "code",
   "execution_count": 97,
   "id": "67d3b166-4b63-4659-bbcf-3447199e44a2",
   "metadata": {},
   "outputs": [
    {
     "data": {
      "text/plain": [
       "array([['10107', '2871', '2', '2003', 'Motorcycles', 'USA'],\n",
       "       ['10121', '2765.9', '5', '2003', 'Motorcycles', 'France'],\n",
       "       ['10134', '3884.34', '7', '2003', 'Motorcycles', 'France'],\n",
       "       ...,\n",
       "       ['10386', '5417.57', '3', '2005', 'Ships', 'Spain'],\n",
       "       ['10397', '2116.16', '3', '2005', 'Ships', 'France'],\n",
       "       ['10414', '3079.44', '5', '2005', 'Ships', 'USA']], dtype='<U16')"
      ]
     },
     "execution_count": 97,
     "metadata": {},
     "output_type": "execute_result"
    }
   ],
   "source": []
  },
  {
   "cell_type": "code",
   "execution_count": 90,
   "id": "b631fd04-43d2-4379-8394-caaf9848a1b2",
   "metadata": {},
   "outputs": [
    {
     "data": {
      "text/plain": [
       "891"
      ]
     },
     "execution_count": 90,
     "metadata": {},
     "output_type": "execute_result"
    }
   ],
   "source": [
    "data[:,0].astype(int)"
   ]
  },
  {
   "cell_type": "markdown",
   "id": "e74e388a-6682-4503-95c4-c55b7bfe2940",
   "metadata": {},
   "source": [
    "Los campos de la base pueden sufrir cambios en sus tipos de datos, para realizar esto, necesito usar la función astype()\n",
    "\n",
    "A diferencia de un array, un numpy array todos sus elementos poseen el mismo tipo de datos"
   ]
  },
  {
   "cell_type": "code",
   "execution_count": 25,
   "id": "48badd00-eeb3-4a2e-852d-686eeb5a3da3",
   "metadata": {},
   "outputs": [
    {
     "name": "stdout",
     "output_type": "stream",
     "text": [
      "<class 'numpy.str_'>\n",
      "<class 'numpy.str_'>\n",
      "<class 'numpy.str_'>\n",
      "<class 'numpy.str_'>\n",
      "<class 'numpy.str_'>\n"
     ]
    }
   ],
   "source": [
    "for x in np.array([1,2,3,4, \"Hhola\"]):\n",
    "    print(type(x))"
   ]
  },
  {
   "cell_type": "code",
   "execution_count": 26,
   "id": "5498bcd0-bc02-4b9a-bc1d-124943130433",
   "metadata": {},
   "outputs": [
    {
     "name": "stdout",
     "output_type": "stream",
     "text": [
      "<class 'int'>\n",
      "<class 'int'>\n",
      "<class 'int'>\n",
      "<class 'int'>\n",
      "<class 'str'>\n"
     ]
    }
   ],
   "source": [
    "for x in [1,2,3,4,\"hola\"]:\n",
    "    print(type(x))"
   ]
  },
  {
   "cell_type": "code",
   "execution_count": 29,
   "id": "68dc8772-55b5-4448-ae6c-66ea07eb486e",
   "metadata": {
    "collapsed": true,
    "jupyter": {
     "outputs_hidden": true
    }
   },
   "outputs": [
    {
     "data": {
      "text/plain": [
       "array([  1,   2,   3,   4,   5,   6,   7,   8,   9,  10,  11,  12,  13,\n",
       "        14,  15,  16,  17,  18,  19,  20,  21,  22,  23,  24,  25,  26,\n",
       "        27,  28,  29,  30,  31,  32,  33,  34,  35,  36,  37,  38,  39,\n",
       "        40,  41,  42,  43,  44,  45,  46,  47,  48,  49,  50,  51,  52,\n",
       "        53,  54,  55,  56,  57,  58,  59,  60,  61,  62,  63,  64,  65,\n",
       "        66,  67,  68,  69,  70,  71,  72,  73,  74,  75,  76,  77,  78,\n",
       "        79,  80,  81,  82,  83,  84,  85,  86,  87,  88,  89,  90,  91,\n",
       "        92,  93,  94,  95,  96,  97,  98,  99, 100, 101, 102, 103, 104,\n",
       "       105, 106, 107, 108, 109, 110, 111, 112, 113, 114, 115, 116, 117,\n",
       "       118, 119, 120, 121, 122, 123, 124, 125, 126, 127, 128, 129, 130,\n",
       "       131, 132, 133, 134, 135, 136, 137, 138, 139, 140, 141, 142, 143,\n",
       "       144, 145, 146, 147, 148, 149, 150, 151, 152, 153, 154, 155, 156,\n",
       "       157, 158, 159, 160, 161, 162, 163, 164, 165, 166, 167, 168, 169,\n",
       "       170, 171, 172, 173, 174, 175, 176, 177, 178, 179, 180, 181, 182,\n",
       "       183, 184, 185, 186, 187, 188, 189, 190, 191, 192, 193, 194, 195,\n",
       "       196, 197, 198, 199, 200, 201, 202, 203, 204, 205, 206, 207, 208,\n",
       "       209, 210, 211, 212, 213, 214, 215, 216, 217, 218, 219, 220, 221,\n",
       "       222, 223, 224, 225, 226, 227, 228, 229, 230, 231, 232, 233, 234,\n",
       "       235, 236, 237, 238, 239, 240, 241, 242, 243, 244, 245, 246, 247,\n",
       "       248, 249, 250, 251, 252, 253, 254, 255, 256, 257, 258, 259, 260,\n",
       "       261, 262, 263, 264, 265, 266, 267, 268, 269, 270, 271, 272, 273,\n",
       "       274, 275, 276, 277, 278, 279, 280, 281, 282, 283, 284, 285, 286,\n",
       "       287, 288, 289, 290, 291, 292, 293, 294, 295, 296, 297, 298, 299,\n",
       "       300, 301, 302, 303, 304, 305, 306, 307, 308, 309, 310, 311, 312,\n",
       "       313, 314, 315, 316, 317, 318, 319, 320, 321, 322, 323, 324, 325,\n",
       "       326, 327, 328, 329, 330, 331, 332, 333, 334, 335, 336, 337, 338,\n",
       "       339, 340, 341, 342, 343, 344, 345, 346, 347, 348, 349, 350, 351,\n",
       "       352, 353, 354, 355, 356, 357, 358, 359, 360, 361, 362, 363, 364,\n",
       "       365, 366, 367, 368, 369, 370, 371, 372, 373, 374, 375, 376, 377,\n",
       "       378, 379, 380, 381, 382, 383, 384, 385, 386, 387, 388, 389, 390,\n",
       "       391, 392, 393, 394, 395, 396, 397, 398, 399, 400, 401, 402, 403,\n",
       "       404, 405, 406, 407, 408, 409, 410, 411, 412, 413, 414, 415, 416,\n",
       "       417, 418, 419, 420, 421, 422, 423, 424, 425, 426, 427, 428, 429,\n",
       "       430, 431, 432, 433, 434, 435, 436, 437, 438, 439, 440, 441, 442,\n",
       "       443, 444, 445, 446, 447, 448, 449, 450, 451, 452, 453, 454, 455,\n",
       "       456, 457, 458, 459, 460, 461, 462, 463, 464, 465, 466, 467, 468,\n",
       "       469, 470, 471, 472, 473, 474, 475, 476, 477, 478, 479, 480, 481,\n",
       "       482, 483, 484, 485, 486, 487, 488, 489, 490, 491, 492, 493, 494,\n",
       "       495, 496, 497, 498, 499, 500, 501, 502, 503, 504, 505, 506, 507,\n",
       "       508, 509, 510, 511, 512, 513, 514, 515, 516, 517, 518, 519, 520,\n",
       "       521, 522, 523, 524, 525, 526, 527, 528, 529, 530, 531, 532, 533,\n",
       "       534, 535, 536, 537, 538, 539, 540, 541, 542, 543, 544, 545, 546,\n",
       "       547, 548, 549, 550, 551, 552, 553, 554, 555, 556, 557, 558, 559,\n",
       "       560, 561, 562, 563, 564, 565, 566, 567, 568, 569, 570, 571, 572,\n",
       "       573, 574, 575, 576, 577, 578, 579, 580, 581, 582, 583, 584, 585,\n",
       "       586, 587, 588, 589, 590, 591, 592, 593, 594, 595, 596, 597, 598,\n",
       "       599, 600, 601, 602, 603, 604, 605, 606, 607, 608, 609, 610, 611,\n",
       "       612, 613, 614, 615, 616, 617, 618, 619, 620, 621, 622, 623, 624,\n",
       "       625, 626, 627, 628, 629, 630, 631, 632, 633, 634, 635, 636, 637,\n",
       "       638, 639, 640, 641, 642, 643, 644, 645, 646, 647, 648, 649, 650,\n",
       "       651, 652, 653, 654, 655, 656, 657, 658, 659, 660, 661, 662, 663,\n",
       "       664, 665, 666, 667, 668, 669, 670, 671, 672, 673, 674, 675, 676,\n",
       "       677, 678, 679, 680, 681, 682, 683, 684, 685, 686, 687, 688, 689,\n",
       "       690, 691, 692, 693, 694, 695, 696, 697, 698, 699, 700, 701, 702,\n",
       "       703, 704, 705, 706, 707, 708, 709, 710, 711, 712, 713, 714, 715,\n",
       "       716, 717, 718, 719, 720, 721, 722, 723, 724, 725, 726, 727, 728,\n",
       "       729, 730, 731, 732, 733, 734, 735, 736, 737, 738, 739, 740, 741,\n",
       "       742, 743, 744, 745, 746, 747, 748, 749, 750, 751, 752, 753, 754,\n",
       "       755, 756, 757, 758, 759, 760, 761, 762, 763, 764, 765, 766, 767,\n",
       "       768, 769, 770, 771, 772, 773, 774, 775, 776, 777, 778, 779, 780,\n",
       "       781, 782, 783, 784, 785, 786, 787, 788, 789, 790, 791, 792, 793,\n",
       "       794, 795, 796, 797, 798, 799, 800, 801, 802, 803, 804, 805, 806,\n",
       "       807, 808, 809, 810, 811, 812, 813, 814, 815, 816, 817, 818, 819,\n",
       "       820, 821, 822, 823, 824, 825, 826, 827, 828, 829, 830, 831, 832,\n",
       "       833, 834, 835, 836, 837, 838, 839, 840, 841, 842, 843, 844, 845,\n",
       "       846, 847, 848, 849, 850, 851, 852, 853, 854, 855, 856, 857, 858,\n",
       "       859, 860, 861, 862, 863, 864, 865, 866, 867, 868, 869, 870, 871,\n",
       "       872, 873, 874, 875, 876, 877, 878, 879, 880, 881, 882, 883, 884,\n",
       "       885, 886, 887, 888, 889, 890, 891])"
      ]
     },
     "execution_count": 29,
     "metadata": {},
     "output_type": "execute_result"
    }
   ],
   "source": [
    "#selecciono todos las filas y la columna 0 y cambio el tipo de datos\n",
    "data[:,0].astype(int)"
   ]
  }
 ],
 "metadata": {
  "kernelspec": {
   "display_name": "Python 3 (ipykernel)",
   "language": "python",
   "name": "python3"
  },
  "language_info": {
   "codemirror_mode": {
    "name": "ipython",
    "version": 3
   },
   "file_extension": ".py",
   "mimetype": "text/x-python",
   "name": "python",
   "nbconvert_exporter": "python",
   "pygments_lexer": "ipython3",
   "version": "3.10.11"
  }
 },
 "nbformat": 4,
 "nbformat_minor": 5
}
