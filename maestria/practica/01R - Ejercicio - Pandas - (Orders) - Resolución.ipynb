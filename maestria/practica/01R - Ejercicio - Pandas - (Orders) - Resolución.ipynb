{
  "nbformat": 4,
  "nbformat_minor": 0,
  "metadata": {
    "colab": {
      "provenance": [],
      "toc_visible": true
    },
    "kernelspec": {
      "name": "python3",
      "display_name": "Python 3"
    },
    "language_info": {
      "name": "python"
    }
  },
  "cells": [
    {
      "cell_type": "code",
      "execution_count": null,
      "metadata": {
        "id": "qxxMl8eJmTyV"
      },
      "outputs": [],
      "source": [
        "import pandas as pd\n",
        "pd.set_option('display.float_format', lambda x: '%.9f' % x)\n",
        "pd.set_option('display.max_columns', None)\n",
        "\n",
        "import numpy as np\n",
        "from google.colab import drive\n",
        "import os\n",
        "\n",
        "import seaborn as sns\n",
        "sns.set()\n",
        "\n",
        "import matplotlib\n",
        "import matplotlib.pyplot as plt"
      ]
    },
    {
      "cell_type": "code",
      "source": [
        "drive.mount(\"/content/drive\")\n",
        "contentFolder = \"/content/drive/MyDrive/Austral - Data Mining\"\n",
        "if not os.path.exists(contentFolder):\n",
        "    os.mkdir(contentFolder)"
      ],
      "metadata": {
        "id": "OmrhHdvvmbHu"
      },
      "execution_count": null,
      "outputs": []
    },
    {
      "cell_type": "markdown",
      "source": [
        "## Ejercicio 1"
      ],
      "metadata": {
        "id": "L3nb5GmDpWeJ"
      }
    },
    {
      "cell_type": "code",
      "source": [
        "orders = pd.read_csv(\"{}/orders.txt\".format(contentFolder), sep=\";\")\n",
        "ordersDetails = pd.read_csv(\"{}/ordersDetails.txt\".format(contentFolder), sep=\";\")"
      ],
      "metadata": {
        "id": "QPsZ8xiomiyy"
      },
      "execution_count": null,
      "outputs": []
    },
    {
      "cell_type": "markdown",
      "source": [
        "## Ejercicio 2"
      ],
      "metadata": {
        "id": "SRS3TmK7_-Kp"
      }
    },
    {
      "cell_type": "markdown",
      "source": [
        "### Ejercicio 2.a"
      ],
      "metadata": {
        "id": "xJz5OwXnpd-w"
      }
    },
    {
      "cell_type": "code",
      "source": [
        "print(\"cantidad de ordenes: {}\".format(len(orders)))"
      ],
      "metadata": {
        "id": "sXnEsxJjnBg9"
      },
      "execution_count": null,
      "outputs": []
    },
    {
      "cell_type": "code",
      "source": [
        "#abiertas por taget (valores absolutos)\n",
        "orders.groupby(\"target\").size()"
      ],
      "metadata": {
        "id": "RopZ0JQToqYo"
      },
      "execution_count": null,
      "outputs": []
    },
    {
      "cell_type": "code",
      "source": [
        "#abiertas por taget (valores relativos)\n",
        "orders.groupby(\"target\").size() / len(orders)"
      ],
      "metadata": {
        "id": "MkYPDzL-pIEx"
      },
      "execution_count": null,
      "outputs": []
    },
    {
      "cell_type": "markdown",
      "source": [
        "### Ejercicio 2.b"
      ],
      "metadata": {
        "id": "xomtQlfPpm-Y"
      }
    },
    {
      "cell_type": "code",
      "source": [
        "aggregate = ordersDetails.groupby(\"orderID\").agg({\"quantity\": \"sum\"})\n",
        "\n",
        "print(\"en promedio se compran {} productos\".format(aggregate.quantity.mean()))"
      ],
      "metadata": {
        "id": "8j3QOIyyplRv"
      },
      "execution_count": null,
      "outputs": []
    },
    {
      "cell_type": "markdown",
      "source": [
        "El promedio de unidades compradas por orden es de 2.82 productos"
      ],
      "metadata": {
        "id": "i4wn_2g0rlAs"
      }
    },
    {
      "cell_type": "markdown",
      "source": [
        "### Ejercicio 2.c"
      ],
      "metadata": {
        "id": "OH05ZzfJqfnh"
      }
    },
    {
      "cell_type": "code",
      "source": [
        "print(\"la mediana de los productos comprados es de {}\".format(ordersDetails.price.median()))"
      ],
      "metadata": {
        "id": "nBbb_IbMqjoh"
      },
      "execution_count": null,
      "outputs": []
    },
    {
      "cell_type": "markdown",
      "source": [
        "La mediana de la variable _**price**_ es de 29.99"
      ],
      "metadata": {
        "id": "fwXPPvhQrqwt"
      }
    },
    {
      "cell_type": "code",
      "source": [
        "ordersDetails.price.isnull().sum()"
      ],
      "metadata": {
        "id": "ZVjOzrfUq3mn"
      },
      "execution_count": null,
      "outputs": []
    },
    {
      "cell_type": "code",
      "source": [
        "print(\"existen {} registros donde la variable price tiene un valor menor o igual a 0\".format(len(ordersDetails[ordersDetails.price <= 0])))"
      ],
      "metadata": {
        "id": "51J1YPS9rAUG"
      },
      "execution_count": null,
      "outputs": []
    },
    {
      "cell_type": "markdown",
      "source": [
        "Podemos decir que la variable _**price**_ posee valores faltantes ya que hay valores para la variable menores o iguales a 0."
      ],
      "metadata": {
        "id": "rZ6rdY0FrTyT"
      }
    },
    {
      "cell_type": "markdown",
      "source": [
        "### Ejercicio 2.d"
      ],
      "metadata": {
        "id": "-FptWgADsmb1"
      }
    },
    {
      "cell_type": "code",
      "source": [
        "orders.isnull().sum()"
      ],
      "metadata": {
        "id": "ENGQ9vnzslSu"
      },
      "execution_count": null,
      "outputs": []
    },
    {
      "cell_type": "code",
      "source": [
        "ordersDetails.isnull().sum().sort_values(ascending = False)"
      ],
      "metadata": {
        "id": "oyyWBpfFsvue"
      },
      "execution_count": null,
      "outputs": []
    },
    {
      "cell_type": "code",
      "source": [
        "len(ordersDetails[ordersDetails.rrp <= 0])"
      ],
      "metadata": {
        "id": "gmVsi3vss7-G"
      },
      "execution_count": null,
      "outputs": []
    },
    {
      "cell_type": "code",
      "source": [
        "len(ordersDetails[ordersDetails.voucherID == '0'])"
      ],
      "metadata": {
        "id": "O4F0nmactGQI"
      },
      "execution_count": null,
      "outputs": []
    },
    {
      "cell_type": "code",
      "source": [
        "len(ordersDetails[ordersDetails.quantity <=0])"
      ],
      "metadata": {
        "id": "QvUa4bU6xF6H"
      },
      "execution_count": null,
      "outputs": []
    },
    {
      "cell_type": "markdown",
      "source": [
        "Podemos encontrar valores nulos en las variables productGroup (341), rrp (341) y voucherID (6). No obstante si consideramos que el precio de referencia no puede ser un valor menor o igual a 0, detectamos que dicha variable aumenta en 9.676 y si filtramos la variable voucherID == '0', encontramos 1.157.176 sin valores.\n",
        "\n",
        "* productGroup -> 341\n",
        "* rrp -> 10.017\n",
        "* voucherID -> 1.157.182\n",
        "* price -> 29826\n",
        "* quantity -> 20152"
      ],
      "metadata": {
        "id": "gqMMfwxxvv4A"
      }
    },
    {
      "cell_type": "markdown",
      "source": [
        "## Ejercicio 3"
      ],
      "metadata": {
        "id": "Tko8IaDtAJS5"
      }
    },
    {
      "cell_type": "markdown",
      "source": [
        "### Trabajamos sobre la variable *_price_*"
      ],
      "metadata": {
        "id": "nCWgiHHbCUZJ"
      }
    },
    {
      "cell_type": "code",
      "source": [
        "#Si la variable price posee valor 0, utilizo el valor de rrp\n",
        "ordersDetails[\"price\"] = np.where(ordersDetails.price <= 0, ordersDetails.rrp, ordersDetails.price)\n"
      ],
      "metadata": {
        "id": "JlP3Y4OLyhdf"
      },
      "execution_count": null,
      "outputs": []
    },
    {
      "cell_type": "code",
      "source": [
        "#para aquellos valores en donde rrp no tampoco tiene, usamos la mediana\n",
        "median = ordersDetails[ordersDetails.price > 0].price.median()\n",
        "ordersDetails[\"price\"] = np.where(ordersDetails.price <=0, median, ordersDetails.price)"
      ],
      "metadata": {
        "id": "MucEAS90AlhH"
      },
      "execution_count": null,
      "outputs": []
    },
    {
      "cell_type": "code",
      "source": [
        "#Validamos que no hay más valores en 0 en la variable price\n",
        "(ordersDetails.price<=0).sum()"
      ],
      "metadata": {
        "id": "pcfkQtbhBRpm"
      },
      "execution_count": null,
      "outputs": []
    },
    {
      "cell_type": "markdown",
      "source": [
        "### Trabajamos sobre la variable *quantity*"
      ],
      "metadata": {
        "id": "PNQVJsRaCav4"
      }
    },
    {
      "cell_type": "code",
      "source": [
        "(ordersDetails.quantity <= 0).sum()"
      ],
      "metadata": {
        "id": "Y23tIsiABeE9"
      },
      "execution_count": null,
      "outputs": []
    },
    {
      "cell_type": "markdown",
      "source": [
        "La moda en la variable _quantity_ nos indica que la mayor cantidad de items son por 1 unidad. Por tal motivo podemos utilizar esta estrategia para que si la variable quantity tiene un valor _\"missing\"_ sea reemplazado por 1"
      ],
      "metadata": {
        "id": "_oPFWrXuCn0c"
      }
    },
    {
      "cell_type": "code",
      "source": [
        "mode = ordersDetails.quantity.mode()\n",
        "ordersDetails[\"quantity\"] = np.where(ordersDetails.quantity <= 0, mode, ordersDetails.quantity)"
      ],
      "metadata": {
        "id": "oQvVepmIC34F"
      },
      "execution_count": null,
      "outputs": []
    },
    {
      "cell_type": "code",
      "source": [
        "(ordersDetails.quantity <= 0).sum()"
      ],
      "metadata": {
        "id": "rhzGQUswDM1x"
      },
      "execution_count": null,
      "outputs": []
    },
    {
      "cell_type": "markdown",
      "source": [
        "### Trabajamos sobre la variable _rrp_"
      ],
      "metadata": {
        "id": "SiQsl42CD1lr"
      }
    },
    {
      "cell_type": "code",
      "source": [
        "ordersDetails[\"rrp\"] = np.where((ordersDetails.rrp.isnull()) | (ordersDetails.rrp <= 0), ordersDetails.price, ordersDetails.rrp)"
      ],
      "metadata": {
        "id": "K6wUJ34lDO4_"
      },
      "execution_count": null,
      "outputs": []
    },
    {
      "cell_type": "code",
      "source": [
        "ordersDetails.rrp.isnull().sum()"
      ],
      "metadata": {
        "id": "n4OBGU31Exdi"
      },
      "execution_count": null,
      "outputs": []
    },
    {
      "cell_type": "code",
      "source": [
        "(ordersDetails.rrp <=0).sum()"
      ],
      "metadata": {
        "id": "FjeKyP2iE0eQ"
      },
      "execution_count": null,
      "outputs": []
    },
    {
      "cell_type": "markdown",
      "source": [
        "### Trabajamos sobre la variable _voucherID_"
      ],
      "metadata": {
        "id": "dPeduicrFLmn"
      }
    },
    {
      "cell_type": "code",
      "source": [
        "#La variable voucherID nos indica si la order tiene una promoción hecha por un voucher o no.\n",
        "#Vamos a crear un flag indicando si la línea de la orden tiene o no el voucher, para luego agregarla a la orden\n",
        "\n",
        "ordersDetails[\"flagVoucher\"] = np.where((ordersDetails.voucherID.isnull()) | (ordersDetails.voucherID == \"0\"), 0,1)\n"
      ],
      "metadata": {
        "id": "wKnyKWvmFPyX"
      },
      "execution_count": null,
      "outputs": []
    },
    {
      "cell_type": "code",
      "source": [
        "ordersDetails.groupby(\"flagVoucher\").size()/len(ordersDetails)"
      ],
      "metadata": {
        "id": "FZey_nKMFe4Z"
      },
      "execution_count": null,
      "outputs": []
    },
    {
      "cell_type": "code",
      "source": [
        "#eliminamos la variable VoucherID\n",
        "ordersDetails.drop(columns=[\"voucherID\"], inplace=True)"
      ],
      "metadata": {
        "id": "-rBJx1XKF1iT"
      },
      "execution_count": null,
      "outputs": []
    },
    {
      "cell_type": "markdown",
      "source": [
        "### Trabajamos sobre la variable _productGroup_"
      ],
      "metadata": {
        "id": "lMUELgKsG6eq"
      }
    },
    {
      "cell_type": "code",
      "source": [
        "mode = ordersDetails.productGroup.mode()\n",
        "ordersDetails[\"productGroup\"] = np.where(ordersDetails.productGroup.isnull(), mode, ordersDetails.productGroup)"
      ],
      "metadata": {
        "id": "HjT6OeEjGqMe"
      },
      "execution_count": null,
      "outputs": []
    },
    {
      "cell_type": "code",
      "source": [
        "ordersDetails.productGroup.isnull().sum()"
      ],
      "metadata": {
        "id": "sQTB3qiSGx32"
      },
      "execution_count": null,
      "outputs": []
    },
    {
      "cell_type": "markdown",
      "source": [
        "## Ejercicio 4"
      ],
      "metadata": {
        "id": "ooCQA6K2Hfhf"
      }
    },
    {
      "cell_type": "code",
      "source": [
        "#hacer un count distinct de articleID por orderID\n",
        "aux = ordersDetails[[\"orderID\", \"articleID\"]].drop_duplicates().groupby(\"orderID\").articleID.count().to_frame(\"distinctProducts\").reset_index()\n",
        "orders = pd.merge(orders, aux, how=\"left\", on=\"orderID\")"
      ],
      "metadata": {
        "id": "1fquanUeHiNn"
      },
      "execution_count": null,
      "outputs": []
    },
    {
      "cell_type": "code",
      "source": [
        "#Eliminamos el dataset aux\n",
        "del aux"
      ],
      "metadata": {
        "id": "qPVflgvSJ-cu"
      },
      "execution_count": null,
      "outputs": []
    },
    {
      "cell_type": "markdown",
      "source": [
        "## Ejercicio 5"
      ],
      "metadata": {
        "id": "pMD_sFcWN_-I"
      }
    },
    {
      "cell_type": "code",
      "source": [
        "aux = ordersDetails.groupby([\"orderID\", \"articleID\"]).agg({\n",
        "    \"sizeCode\":\"nunique\"\n",
        "}).reset_index()\n",
        "aux = aux.groupby(\"orderID\").agg({\n",
        "    \"sizeCode\": \"max\"\n",
        "}).reset_index().rename({\"sizeCode\":\"flagMismoProductoDiferenteTamanio\"}, axis = 1)\n",
        "orders = pd.merge(orders, aux, how=\"left\", on=\"orderID\")\n",
        "orders[\"flagMismoProductoDiferenteTamanio\"] = np.where(orders.flagMismoProductoDiferenteTamanio == 1,0,1)"
      ],
      "metadata": {
        "id": "6ZJW2r4rOHa_"
      },
      "execution_count": null,
      "outputs": []
    },
    {
      "cell_type": "code",
      "source": [
        "del aux"
      ],
      "metadata": {
        "id": "0D5NNzqTaoVm"
      },
      "execution_count": null,
      "outputs": []
    },
    {
      "cell_type": "code",
      "source": [
        "orders.groupby(\"flagMismoProductoDiferenteTamanio\").size()"
      ],
      "metadata": {
        "id": "0qZpTpHXQATA"
      },
      "execution_count": null,
      "outputs": []
    },
    {
      "cell_type": "markdown",
      "source": [
        "## Ejercicio 6"
      ],
      "metadata": {
        "id": "TDJoqW8gZGUk"
      }
    },
    {
      "cell_type": "code",
      "source": [
        "aux = ordersDetails.groupby([\"orderID\", \"articleID\"]).agg({\n",
        "    \"colorCode\":\"nunique\"\n",
        "}).reset_index()\n",
        "aux = aux.groupby(\"orderID\").agg({\n",
        "    \"colorCode\": \"max\"\n",
        "}).reset_index().rename({\"colorCode\":\"flagMismoProductoDiferenteColor\"}, axis = 1)\n",
        "orders = pd.merge(orders, aux, how=\"left\", on=\"orderID\")\n",
        "orders[\"flagMismoProductoDiferenteColor\"] = np.where(orders.flagMismoProductoDiferenteColor == 1,0,1)"
      ],
      "metadata": {
        "id": "zN_1N6njZ0Af"
      },
      "execution_count": null,
      "outputs": []
    },
    {
      "cell_type": "code",
      "source": [
        "del aux"
      ],
      "metadata": {
        "id": "_1EbKz1BP7gs"
      },
      "execution_count": null,
      "outputs": []
    },
    {
      "cell_type": "markdown",
      "source": [
        "## Ejercicio 7"
      ],
      "metadata": {
        "id": "hNIqMk3Cfjhv"
      }
    },
    {
      "cell_type": "code",
      "source": [
        "aux = ordersDetails.groupby(\"orderID\").agg({\n",
        "    \"flagVoucher\": \"max\"\n",
        "}).reset_index()\n",
        "orders = pd.merge(orders, aux, how=\"left\", on=\"orderID\")"
      ],
      "metadata": {
        "id": "pmXtZd5COySA"
      },
      "execution_count": null,
      "outputs": []
    },
    {
      "cell_type": "code",
      "source": [
        "del aux"
      ],
      "metadata": {
        "id": "sJoDqrUBcgoU"
      },
      "execution_count": null,
      "outputs": []
    },
    {
      "cell_type": "markdown",
      "source": [
        "## Ejercicio 8"
      ],
      "metadata": {
        "id": "CRo919Ioc6xP"
      }
    },
    {
      "cell_type": "code",
      "source": [
        "aux = ordersDetails.groupby(\"orderID\").agg({\n",
        "    \"price\":\"sum\"\n",
        "}).reset_index().rename({\"price\":\"totalPrice\"}, axis = 1)\n",
        "orders = pd.merge(orders, aux, how=\"left\", on=\"orderID\")"
      ],
      "metadata": {
        "id": "-X4yDnMYbmGa"
      },
      "execution_count": null,
      "outputs": []
    },
    {
      "cell_type": "code",
      "source": [
        "del aux"
      ],
      "metadata": {
        "id": "EoL7eE7IdtQ0"
      },
      "execution_count": null,
      "outputs": []
    },
    {
      "cell_type": "markdown",
      "source": [
        "## Ejercicio 9"
      ],
      "metadata": {
        "id": "uL-dOFYndqRA"
      }
    },
    {
      "cell_type": "code",
      "source": [
        "ordersDetails[\"flagPrecioMenorRrp\"] = np.where(ordersDetails.price < ordersDetails.rrp,1,0)\n",
        "aux = ordersDetails.groupby(\"orderID\").agg({\n",
        "    \"flagPrecioMenorRrp\":\"max\"\n",
        "})\n",
        "orders = pd.merge(orders,aux, how=\"left\", on=\"orderID\")"
      ],
      "metadata": {
        "id": "O8_b_YNBcso3"
      },
      "execution_count": null,
      "outputs": []
    },
    {
      "cell_type": "markdown",
      "source": [
        "## Ejercicio 10"
      ],
      "metadata": {
        "id": "QrdSMRjreku4"
      }
    },
    {
      "cell_type": "code",
      "source": [
        "orders[\"totalPriceDeciles\"] = pd.qcut(orders.totalPrice, 10, labels=False)\n"
      ],
      "metadata": {
        "id": "o3_glPOIdTcw"
      },
      "execution_count": null,
      "outputs": []
    },
    {
      "cell_type": "code",
      "source": [
        "orders.groupby(\"totalPriceDeciles\").size()"
      ],
      "metadata": {
        "id": "6oS7R9j-eWzP"
      },
      "execution_count": null,
      "outputs": []
    },
    {
      "cell_type": "markdown",
      "source": [
        "## Ejercicio 11"
      ],
      "metadata": {
        "id": "jaXb14ltj29y"
      }
    },
    {
      "cell_type": "code",
      "source": [
        "orders[\"orderDate\"] = pd.to_datetime(orders[\"orderDate\"], format = \"%Y-%m-%d\")"
      ],
      "metadata": {
        "id": "i0J1iMB3j6Sz"
      },
      "execution_count": null,
      "outputs": []
    },
    {
      "cell_type": "code",
      "source": [
        "orders[\"diaSemana\"] = orders.orderDate.dt.dayofweek\n",
        "orders[\"trimestre\"] = orders.orderDate.dt.quarter\n",
        "orders[\"mesCompra\"] = orders.orderDate.dt.month\n",
        "orders[\"diaCompra\"] = orders.orderDate.dt.day"
      ],
      "metadata": {
        "id": "CLbKT7XTkTnT"
      },
      "execution_count": null,
      "outputs": []
    },
    {
      "cell_type": "markdown",
      "source": [
        "## Ejercicio 12"
      ],
      "metadata": {
        "id": "9lLDE3UkkZ8T"
      }
    },
    {
      "cell_type": "markdown",
      "source": [
        "## Ejercicio 18"
      ],
      "metadata": {
        "id": "0qGYJU4vRd-e"
      }
    },
    {
      "cell_type": "code",
      "source": [
        "orders[\"customerID\"] = orders.customerID.str[1:]"
      ],
      "metadata": {
        "id": "lcydSb3QRj3e"
      },
      "execution_count": null,
      "outputs": []
    },
    {
      "cell_type": "code",
      "source": [],
      "metadata": {
        "id": "rSziH8Uqu4y_"
      },
      "execution_count": null,
      "outputs": []
    },
    {
      "cell_type": "markdown",
      "source": [
        "## Ejercicio 19"
      ],
      "metadata": {
        "id": "N9BpNaXkRuB5"
      }
    },
    {
      "cell_type": "code",
      "source": [
        "from sklearn import preprocessing\n",
        "le = preprocessing.LabelEncoder()\n",
        "le.fit(orders.paymentMethod)\n",
        "orders[\"paymentMethod\"] = le.transform(orders.paymentMethod)"
      ],
      "metadata": {
        "id": "dgDtKOkeRwZz"
      },
      "execution_count": null,
      "outputs": []
    },
    {
      "cell_type": "code",
      "source": [
        "orders.to_csv(\"{}/finalOrders.txt\".format(contentFolder), sep=\";\", index=False)"
      ],
      "metadata": {
        "id": "dFkE3fpAkWeW"
      },
      "execution_count": null,
      "outputs": []
    },
    {
      "cell_type": "markdown",
      "source": [
        "## Ejercicio 13"
      ],
      "metadata": {
        "id": "LynXItdbfUWB"
      }
    },
    {
      "cell_type": "code",
      "source": [
        "ax = orders.groupby(\"target\").size().plot(kind=\"pie\", autopct=\"%2.f%%\")\n",
        "ax.set_ylabel(\"# Órdenes\")\n",
        "plt.title('# Testeos confirmados abiertos por Género')"
      ],
      "metadata": {
        "id": "5oWuFb7nfNxu"
      },
      "execution_count": null,
      "outputs": []
    },
    {
      "cell_type": "markdown",
      "source": [
        "## Ejercicio 14"
      ],
      "metadata": {
        "id": "P0rFzuynhSqM"
      }
    },
    {
      "cell_type": "code",
      "source": [
        "sns.set(rc={'figure.figsize':(11.7,8.27)})\n",
        "figure, axis = plt.subplots(1, 2)\n",
        "\n",
        "\n",
        "axis[0].pie(\n",
        "    orders[orders.flagMismoProductoDiferenteColor == 1]\\\n",
        "    .groupby(\"target\").size(),\n",
        "    labels = orders[orders.flagMismoProductoDiferenteColor == 1]\\\n",
        "    .groupby(\"target\").size().index,\n",
        "    autopct=\"%2.f%%\"\n",
        ")\n",
        "axis[0].title.set_text (\"flagMismoProductoDiferenteColor == 1\")\n",
        "\n",
        "\n",
        "axis[1].pie(\n",
        "    orders[orders.flagMismoProductoDiferenteColor == 0]\\\n",
        "    .groupby(\"target\").size(),\n",
        "    labels = orders[orders.flagMismoProductoDiferenteColor == 0]\\\n",
        "    .groupby(\"target\").size().index,\n",
        "    autopct=\"%2.f%%\"\n",
        ")\n",
        "axis[1].title.set_text (\"flagMismoProductoDiferenteColor == 0\")"
      ],
      "metadata": {
        "id": "PUeW5Mnjg4GP"
      },
      "execution_count": null,
      "outputs": []
    },
    {
      "cell_type": "markdown",
      "source": [
        "## Ejercicio 15"
      ],
      "metadata": {
        "id": "iFlmGSsViY0M"
      }
    },
    {
      "cell_type": "code",
      "source": [
        "from matplotlib.font_manager import FontProperties\n",
        "fontP = FontProperties()\n",
        "fontP.set_size('medium')\n",
        "\n",
        "baseGraficos = orders.groupby([\"totalPriceDeciles\", \"target\"]).size().to_frame(\"q_ordenes\")\n",
        "baseGraficos = baseGraficos.join(baseGraficos.groupby(\"totalPriceDeciles\").q_ordenes.sum().to_frame(\"q_totales\"))\n",
        "baseGraficos[\"% ordenes\"] = baseGraficos.q_ordenes / baseGraficos.q_totales\n",
        "ax = baseGraficos[\"% ordenes\"].unstack().plot(kind='bar', stacked=True, legend=None)\n",
        "plt.legend( title='Leyenda', bbox_to_anchor=(1.05, 1), loc='upper left', prop=fontP)\n",
        "plt.title(\"Órdenes abiertas por target y totalPriceDeciles\")"
      ],
      "metadata": {
        "id": "o1iALAaAh389"
      },
      "execution_count": null,
      "outputs": []
    },
    {
      "cell_type": "code",
      "source": [],
      "metadata": {
        "id": "WI46TaQyi7uc"
      },
      "execution_count": null,
      "outputs": []
    }
  ]
}